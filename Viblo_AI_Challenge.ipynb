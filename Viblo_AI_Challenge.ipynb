{
  "cells": [
    {
      "cell_type": "markdown",
      "metadata": {
        "id": "HEGIsUTgozb3"
      },
      "source": [
        "# MiVOLO Custom"
      ]
    },
    {
      "cell_type": "markdown",
      "metadata": {
        "id": "EStzJXvWyRAA"
      },
      "source": [
        "## Download repo && pretrained weight"
      ]
    },
    {
      "cell_type": "code",
      "execution_count": 1,
      "metadata": {
        "colab": {
          "base_uri": "https://localhost:8080/"
        },
        "id": "rQWv0IlUpIhy",
        "outputId": "b1291f04-b890-4662-a577-29620ab7b2ae"
      },
      "outputs": [
        {
          "output_type": "stream",
          "name": "stdout",
          "text": [
            "Cloning into 'Masked_Age_Detection'...\n",
            "remote: Enumerating objects: 227, done.\u001b[K\n",
            "remote: Counting objects: 100% (140/140), done.\u001b[K\n",
            "remote: Compressing objects: 100% (73/73), done.\u001b[K\n",
            "remote: Total 227 (delta 95), reused 85 (delta 66), pack-reused 87\u001b[K\n",
            "Receiving objects: 100% (227/227), 829.51 KiB | 2.17 MiB/s, done.\n",
            "Resolving deltas: 100% (114/114), done.\n",
            "/content/Masked_Age_Detection\n"
          ]
        }
      ],
      "source": [
        "!git clone https://github.com/KoaBou/Masked_Age_Detection.git\n",
        "%cd Masked_Age_Detection/"
      ]
    },
    {
      "cell_type": "code",
      "execution_count": 2,
      "metadata": {
        "colab": {
          "base_uri": "https://localhost:8080/"
        },
        "id": "hlXRhC-mqfIX",
        "outputId": "1c7cea2a-3cd3-425f-e93f-2b238dcc1e5d"
      },
      "outputs": [
        {
          "output_type": "stream",
          "name": "stdout",
          "text": [
            "Requirement already satisfied: huggingface_hub in /usr/local/lib/python3.10/dist-packages (from -r requirements.txt (line 1)) (0.19.4)\n",
            "Collecting ultralytics==8.0.124 (from -r requirements.txt (line 2))\n",
            "  Downloading ultralytics-8.0.124-py3-none-any.whl (612 kB)\n",
            "\u001b[2K     \u001b[90m━━━━━━━━━━━━━━━━━━━━━━━━━━━━━━━━━━━━━━━━\u001b[0m \u001b[32m612.6/612.6 kB\u001b[0m \u001b[31m8.2 MB/s\u001b[0m eta \u001b[36m0:00:00\u001b[0m\n",
            "\u001b[?25hCollecting timm==0.8.13.dev0 (from -r requirements.txt (line 3))\n",
            "  Downloading timm-0.8.13.dev0-py3-none-any.whl (2.0 MB)\n",
            "\u001b[2K     \u001b[90m━━━━━━━━━━━━━━━━━━━━━━━━━━━━━━━━━━━━━━━━\u001b[0m \u001b[32m2.0/2.0 MB\u001b[0m \u001b[31m19.5 MB/s\u001b[0m eta \u001b[36m0:00:00\u001b[0m\n",
            "\u001b[?25hCollecting yt_dlp (from -r requirements.txt (line 4))\n",
            "  Downloading yt_dlp-2023.11.16-py2.py3-none-any.whl (3.1 MB)\n",
            "\u001b[2K     \u001b[90m━━━━━━━━━━━━━━━━━━━━━━━━━━━━━━━━━━━━━━━━\u001b[0m \u001b[32m3.1/3.1 MB\u001b[0m \u001b[31m31.2 MB/s\u001b[0m eta \u001b[36m0:00:00\u001b[0m\n",
            "\u001b[?25hCollecting lapx>=0.5.2 (from -r requirements.txt (line 5))\n",
            "  Downloading lapx-0.5.5-cp310-cp310-manylinux_2_5_x86_64.manylinux1_x86_64.manylinux_2_17_x86_64.manylinux2014_x86_64.whl (1.7 MB)\n",
            "\u001b[2K     \u001b[90m━━━━━━━━━━━━━━━━━━━━━━━━━━━━━━━━━━━━━━━━\u001b[0m \u001b[32m1.7/1.7 MB\u001b[0m \u001b[31m43.0 MB/s\u001b[0m eta \u001b[36m0:00:00\u001b[0m\n",
            "\u001b[?25hRequirement already satisfied: matplotlib>=3.2.2 in /usr/local/lib/python3.10/dist-packages (from ultralytics==8.0.124->-r requirements.txt (line 2)) (3.7.1)\n",
            "Requirement already satisfied: opencv-python>=4.6.0 in /usr/local/lib/python3.10/dist-packages (from ultralytics==8.0.124->-r requirements.txt (line 2)) (4.8.0.76)\n",
            "Requirement already satisfied: Pillow>=7.1.2 in /usr/local/lib/python3.10/dist-packages (from ultralytics==8.0.124->-r requirements.txt (line 2)) (9.4.0)\n",
            "Requirement already satisfied: PyYAML>=5.3.1 in /usr/local/lib/python3.10/dist-packages (from ultralytics==8.0.124->-r requirements.txt (line 2)) (6.0.1)\n",
            "Requirement already satisfied: requests>=2.23.0 in /usr/local/lib/python3.10/dist-packages (from ultralytics==8.0.124->-r requirements.txt (line 2)) (2.31.0)\n",
            "Requirement already satisfied: scipy>=1.4.1 in /usr/local/lib/python3.10/dist-packages (from ultralytics==8.0.124->-r requirements.txt (line 2)) (1.11.4)\n",
            "Requirement already satisfied: torch>=1.7.0 in /usr/local/lib/python3.10/dist-packages (from ultralytics==8.0.124->-r requirements.txt (line 2)) (2.1.0+cu121)\n",
            "Requirement already satisfied: torchvision>=0.8.1 in /usr/local/lib/python3.10/dist-packages (from ultralytics==8.0.124->-r requirements.txt (line 2)) (0.16.0+cu121)\n",
            "Requirement already satisfied: tqdm>=4.64.0 in /usr/local/lib/python3.10/dist-packages (from ultralytics==8.0.124->-r requirements.txt (line 2)) (4.66.1)\n",
            "Requirement already satisfied: pandas>=1.1.4 in /usr/local/lib/python3.10/dist-packages (from ultralytics==8.0.124->-r requirements.txt (line 2)) (1.5.3)\n",
            "Requirement already satisfied: seaborn>=0.11.0 in /usr/local/lib/python3.10/dist-packages (from ultralytics==8.0.124->-r requirements.txt (line 2)) (0.12.2)\n",
            "Requirement already satisfied: psutil in /usr/local/lib/python3.10/dist-packages (from ultralytics==8.0.124->-r requirements.txt (line 2)) (5.9.5)\n",
            "Requirement already satisfied: safetensors in /usr/local/lib/python3.10/dist-packages (from timm==0.8.13.dev0->-r requirements.txt (line 3)) (0.4.1)\n",
            "Requirement already satisfied: filelock in /usr/local/lib/python3.10/dist-packages (from huggingface_hub->-r requirements.txt (line 1)) (3.13.1)\n",
            "Requirement already satisfied: fsspec>=2023.5.0 in /usr/local/lib/python3.10/dist-packages (from huggingface_hub->-r requirements.txt (line 1)) (2023.6.0)\n",
            "Requirement already satisfied: typing-extensions>=3.7.4.3 in /usr/local/lib/python3.10/dist-packages (from huggingface_hub->-r requirements.txt (line 1)) (4.5.0)\n",
            "Requirement already satisfied: packaging>=20.9 in /usr/local/lib/python3.10/dist-packages (from huggingface_hub->-r requirements.txt (line 1)) (23.2)\n",
            "Collecting mutagen (from yt_dlp->-r requirements.txt (line 4))\n",
            "  Downloading mutagen-1.47.0-py3-none-any.whl (194 kB)\n",
            "\u001b[2K     \u001b[90m━━━━━━━━━━━━━━━━━━━━━━━━━━━━━━━━━━━━━━━━\u001b[0m \u001b[32m194.4/194.4 kB\u001b[0m \u001b[31m25.6 MB/s\u001b[0m eta \u001b[36m0:00:00\u001b[0m\n",
            "\u001b[?25hCollecting pycryptodomex (from yt_dlp->-r requirements.txt (line 4))\n",
            "  Downloading pycryptodomex-3.19.0-cp35-abi3-manylinux_2_17_x86_64.manylinux2014_x86_64.whl (2.1 MB)\n",
            "\u001b[2K     \u001b[90m━━━━━━━━━━━━━━━━━━━━━━━━━━━━━━━━━━━━━━━━\u001b[0m \u001b[32m2.1/2.1 MB\u001b[0m \u001b[31m30.9 MB/s\u001b[0m eta \u001b[36m0:00:00\u001b[0m\n",
            "\u001b[?25hCollecting websockets (from yt_dlp->-r requirements.txt (line 4))\n",
            "  Downloading websockets-12.0-cp310-cp310-manylinux_2_5_x86_64.manylinux1_x86_64.manylinux_2_17_x86_64.manylinux2014_x86_64.whl (130 kB)\n",
            "\u001b[2K     \u001b[90m━━━━━━━━━━━━━━━━━━━━━━━━━━━━━━━━━━━━━━━━\u001b[0m \u001b[32m130.2/130.2 kB\u001b[0m \u001b[31m7.4 MB/s\u001b[0m eta \u001b[36m0:00:00\u001b[0m\n",
            "\u001b[?25hRequirement already satisfied: certifi in /usr/local/lib/python3.10/dist-packages (from yt_dlp->-r requirements.txt (line 4)) (2023.11.17)\n",
            "Requirement already satisfied: urllib3<3,>=1.26.17 in /usr/local/lib/python3.10/dist-packages (from yt_dlp->-r requirements.txt (line 4)) (2.0.7)\n",
            "Collecting brotli (from yt_dlp->-r requirements.txt (line 4))\n",
            "  Downloading Brotli-1.1.0-cp310-cp310-manylinux_2_5_x86_64.manylinux1_x86_64.manylinux_2_12_x86_64.manylinux2010_x86_64.whl (3.0 MB)\n",
            "\u001b[2K     \u001b[90m━━━━━━━━━━━━━━━━━━━━━━━━━━━━━━━━━━━━━━━━\u001b[0m \u001b[32m3.0/3.0 MB\u001b[0m \u001b[31m23.9 MB/s\u001b[0m eta \u001b[36m0:00:00\u001b[0m\n",
            "\u001b[?25hRequirement already satisfied: Cython>=0.29.32 in /usr/local/lib/python3.10/dist-packages (from lapx>=0.5.2->-r requirements.txt (line 5)) (3.0.6)\n",
            "Requirement already satisfied: numpy>=1.21.6 in /usr/local/lib/python3.10/dist-packages (from lapx>=0.5.2->-r requirements.txt (line 5)) (1.23.5)\n",
            "Requirement already satisfied: contourpy>=1.0.1 in /usr/local/lib/python3.10/dist-packages (from matplotlib>=3.2.2->ultralytics==8.0.124->-r requirements.txt (line 2)) (1.2.0)\n",
            "Requirement already satisfied: cycler>=0.10 in /usr/local/lib/python3.10/dist-packages (from matplotlib>=3.2.2->ultralytics==8.0.124->-r requirements.txt (line 2)) (0.12.1)\n",
            "Requirement already satisfied: fonttools>=4.22.0 in /usr/local/lib/python3.10/dist-packages (from matplotlib>=3.2.2->ultralytics==8.0.124->-r requirements.txt (line 2)) (4.46.0)\n",
            "Requirement already satisfied: kiwisolver>=1.0.1 in /usr/local/lib/python3.10/dist-packages (from matplotlib>=3.2.2->ultralytics==8.0.124->-r requirements.txt (line 2)) (1.4.5)\n",
            "Requirement already satisfied: pyparsing>=2.3.1 in /usr/local/lib/python3.10/dist-packages (from matplotlib>=3.2.2->ultralytics==8.0.124->-r requirements.txt (line 2)) (3.1.1)\n",
            "Requirement already satisfied: python-dateutil>=2.7 in /usr/local/lib/python3.10/dist-packages (from matplotlib>=3.2.2->ultralytics==8.0.124->-r requirements.txt (line 2)) (2.8.2)\n",
            "Requirement already satisfied: pytz>=2020.1 in /usr/local/lib/python3.10/dist-packages (from pandas>=1.1.4->ultralytics==8.0.124->-r requirements.txt (line 2)) (2023.3.post1)\n",
            "Requirement already satisfied: charset-normalizer<4,>=2 in /usr/local/lib/python3.10/dist-packages (from requests>=2.23.0->ultralytics==8.0.124->-r requirements.txt (line 2)) (3.3.2)\n",
            "Requirement already satisfied: idna<4,>=2.5 in /usr/local/lib/python3.10/dist-packages (from requests>=2.23.0->ultralytics==8.0.124->-r requirements.txt (line 2)) (3.6)\n",
            "Requirement already satisfied: sympy in /usr/local/lib/python3.10/dist-packages (from torch>=1.7.0->ultralytics==8.0.124->-r requirements.txt (line 2)) (1.12)\n",
            "Requirement already satisfied: networkx in /usr/local/lib/python3.10/dist-packages (from torch>=1.7.0->ultralytics==8.0.124->-r requirements.txt (line 2)) (3.2.1)\n",
            "Requirement already satisfied: jinja2 in /usr/local/lib/python3.10/dist-packages (from torch>=1.7.0->ultralytics==8.0.124->-r requirements.txt (line 2)) (3.1.2)\n",
            "Requirement already satisfied: triton==2.1.0 in /usr/local/lib/python3.10/dist-packages (from torch>=1.7.0->ultralytics==8.0.124->-r requirements.txt (line 2)) (2.1.0)\n",
            "Requirement already satisfied: six>=1.5 in /usr/local/lib/python3.10/dist-packages (from python-dateutil>=2.7->matplotlib>=3.2.2->ultralytics==8.0.124->-r requirements.txt (line 2)) (1.16.0)\n",
            "Requirement already satisfied: MarkupSafe>=2.0 in /usr/local/lib/python3.10/dist-packages (from jinja2->torch>=1.7.0->ultralytics==8.0.124->-r requirements.txt (line 2)) (2.1.3)\n",
            "Requirement already satisfied: mpmath>=0.19 in /usr/local/lib/python3.10/dist-packages (from sympy->torch>=1.7.0->ultralytics==8.0.124->-r requirements.txt (line 2)) (1.3.0)\n",
            "Installing collected packages: brotli, websockets, pycryptodomex, mutagen, lapx, yt_dlp, ultralytics, timm\n",
            "Successfully installed brotli-1.1.0 lapx-0.5.5 mutagen-1.47.0 pycryptodomex-3.19.0 timm-0.8.13.dev0 ultralytics-8.0.124 websockets-12.0 yt_dlp-2023.11.16\n",
            "Processing /content/Masked_Age_Detection\n",
            "  Preparing metadata (setup.py) ... \u001b[?25l\u001b[?25hdone\n",
            "Requirement already satisfied: huggingface_hub in /usr/local/lib/python3.10/dist-packages (from mivolo==0.4.2.dev0) (0.19.4)\n",
            "Requirement already satisfied: ultralytics==8.0.124 in /usr/local/lib/python3.10/dist-packages (from mivolo==0.4.2.dev0) (8.0.124)\n",
            "Requirement already satisfied: timm==0.8.13.dev0 in /usr/local/lib/python3.10/dist-packages (from mivolo==0.4.2.dev0) (0.8.13.dev0)\n",
            "Requirement already satisfied: yt_dlp in /usr/local/lib/python3.10/dist-packages (from mivolo==0.4.2.dev0) (2023.11.16)\n",
            "Requirement already satisfied: lapx>=0.5.2 in /usr/local/lib/python3.10/dist-packages (from mivolo==0.4.2.dev0) (0.5.5)\n",
            "Requirement already satisfied: torch>=1.7 in /usr/local/lib/python3.10/dist-packages (from timm==0.8.13.dev0->mivolo==0.4.2.dev0) (2.1.0+cu121)\n",
            "Requirement already satisfied: torchvision in /usr/local/lib/python3.10/dist-packages (from timm==0.8.13.dev0->mivolo==0.4.2.dev0) (0.16.0+cu121)\n",
            "Requirement already satisfied: pyyaml in /usr/local/lib/python3.10/dist-packages (from timm==0.8.13.dev0->mivolo==0.4.2.dev0) (6.0.1)\n",
            "Requirement already satisfied: safetensors in /usr/local/lib/python3.10/dist-packages (from timm==0.8.13.dev0->mivolo==0.4.2.dev0) (0.4.1)\n",
            "Requirement already satisfied: matplotlib>=3.2.2 in /usr/local/lib/python3.10/dist-packages (from ultralytics==8.0.124->mivolo==0.4.2.dev0) (3.7.1)\n",
            "Requirement already satisfied: opencv-python>=4.6.0 in /usr/local/lib/python3.10/dist-packages (from ultralytics==8.0.124->mivolo==0.4.2.dev0) (4.8.0.76)\n",
            "Requirement already satisfied: Pillow>=7.1.2 in /usr/local/lib/python3.10/dist-packages (from ultralytics==8.0.124->mivolo==0.4.2.dev0) (9.4.0)\n",
            "Requirement already satisfied: requests>=2.23.0 in /usr/local/lib/python3.10/dist-packages (from ultralytics==8.0.124->mivolo==0.4.2.dev0) (2.31.0)\n",
            "Requirement already satisfied: scipy>=1.4.1 in /usr/local/lib/python3.10/dist-packages (from ultralytics==8.0.124->mivolo==0.4.2.dev0) (1.11.4)\n",
            "Requirement already satisfied: tqdm>=4.64.0 in /usr/local/lib/python3.10/dist-packages (from ultralytics==8.0.124->mivolo==0.4.2.dev0) (4.66.1)\n",
            "Requirement already satisfied: pandas>=1.1.4 in /usr/local/lib/python3.10/dist-packages (from ultralytics==8.0.124->mivolo==0.4.2.dev0) (1.5.3)\n",
            "Requirement already satisfied: seaborn>=0.11.0 in /usr/local/lib/python3.10/dist-packages (from ultralytics==8.0.124->mivolo==0.4.2.dev0) (0.12.2)\n",
            "Requirement already satisfied: psutil in /usr/local/lib/python3.10/dist-packages (from ultralytics==8.0.124->mivolo==0.4.2.dev0) (5.9.5)\n",
            "Requirement already satisfied: Cython>=0.29.32 in /usr/local/lib/python3.10/dist-packages (from lapx>=0.5.2->mivolo==0.4.2.dev0) (3.0.6)\n",
            "Requirement already satisfied: numpy>=1.21.6 in /usr/local/lib/python3.10/dist-packages (from lapx>=0.5.2->mivolo==0.4.2.dev0) (1.23.5)\n",
            "Requirement already satisfied: filelock in /usr/local/lib/python3.10/dist-packages (from huggingface_hub->mivolo==0.4.2.dev0) (3.13.1)\n",
            "Requirement already satisfied: fsspec>=2023.5.0 in /usr/local/lib/python3.10/dist-packages (from huggingface_hub->mivolo==0.4.2.dev0) (2023.6.0)\n",
            "Requirement already satisfied: typing-extensions>=3.7.4.3 in /usr/local/lib/python3.10/dist-packages (from huggingface_hub->mivolo==0.4.2.dev0) (4.5.0)\n",
            "Requirement already satisfied: packaging>=20.9 in /usr/local/lib/python3.10/dist-packages (from huggingface_hub->mivolo==0.4.2.dev0) (23.2)\n",
            "Requirement already satisfied: mutagen in /usr/local/lib/python3.10/dist-packages (from yt_dlp->mivolo==0.4.2.dev0) (1.47.0)\n",
            "Requirement already satisfied: pycryptodomex in /usr/local/lib/python3.10/dist-packages (from yt_dlp->mivolo==0.4.2.dev0) (3.19.0)\n",
            "Requirement already satisfied: websockets in /usr/local/lib/python3.10/dist-packages (from yt_dlp->mivolo==0.4.2.dev0) (12.0)\n",
            "Requirement already satisfied: certifi in /usr/local/lib/python3.10/dist-packages (from yt_dlp->mivolo==0.4.2.dev0) (2023.11.17)\n",
            "Requirement already satisfied: urllib3<3,>=1.26.17 in /usr/local/lib/python3.10/dist-packages (from yt_dlp->mivolo==0.4.2.dev0) (2.0.7)\n",
            "Requirement already satisfied: brotli in /usr/local/lib/python3.10/dist-packages (from yt_dlp->mivolo==0.4.2.dev0) (1.1.0)\n",
            "Requirement already satisfied: contourpy>=1.0.1 in /usr/local/lib/python3.10/dist-packages (from matplotlib>=3.2.2->ultralytics==8.0.124->mivolo==0.4.2.dev0) (1.2.0)\n",
            "Requirement already satisfied: cycler>=0.10 in /usr/local/lib/python3.10/dist-packages (from matplotlib>=3.2.2->ultralytics==8.0.124->mivolo==0.4.2.dev0) (0.12.1)\n",
            "Requirement already satisfied: fonttools>=4.22.0 in /usr/local/lib/python3.10/dist-packages (from matplotlib>=3.2.2->ultralytics==8.0.124->mivolo==0.4.2.dev0) (4.46.0)\n",
            "Requirement already satisfied: kiwisolver>=1.0.1 in /usr/local/lib/python3.10/dist-packages (from matplotlib>=3.2.2->ultralytics==8.0.124->mivolo==0.4.2.dev0) (1.4.5)\n",
            "Requirement already satisfied: pyparsing>=2.3.1 in /usr/local/lib/python3.10/dist-packages (from matplotlib>=3.2.2->ultralytics==8.0.124->mivolo==0.4.2.dev0) (3.1.1)\n",
            "Requirement already satisfied: python-dateutil>=2.7 in /usr/local/lib/python3.10/dist-packages (from matplotlib>=3.2.2->ultralytics==8.0.124->mivolo==0.4.2.dev0) (2.8.2)\n",
            "Requirement already satisfied: pytz>=2020.1 in /usr/local/lib/python3.10/dist-packages (from pandas>=1.1.4->ultralytics==8.0.124->mivolo==0.4.2.dev0) (2023.3.post1)\n",
            "Requirement already satisfied: charset-normalizer<4,>=2 in /usr/local/lib/python3.10/dist-packages (from requests>=2.23.0->ultralytics==8.0.124->mivolo==0.4.2.dev0) (3.3.2)\n",
            "Requirement already satisfied: idna<4,>=2.5 in /usr/local/lib/python3.10/dist-packages (from requests>=2.23.0->ultralytics==8.0.124->mivolo==0.4.2.dev0) (3.6)\n",
            "Requirement already satisfied: sympy in /usr/local/lib/python3.10/dist-packages (from torch>=1.7->timm==0.8.13.dev0->mivolo==0.4.2.dev0) (1.12)\n",
            "Requirement already satisfied: networkx in /usr/local/lib/python3.10/dist-packages (from torch>=1.7->timm==0.8.13.dev0->mivolo==0.4.2.dev0) (3.2.1)\n",
            "Requirement already satisfied: jinja2 in /usr/local/lib/python3.10/dist-packages (from torch>=1.7->timm==0.8.13.dev0->mivolo==0.4.2.dev0) (3.1.2)\n",
            "Requirement already satisfied: triton==2.1.0 in /usr/local/lib/python3.10/dist-packages (from torch>=1.7->timm==0.8.13.dev0->mivolo==0.4.2.dev0) (2.1.0)\n",
            "Requirement already satisfied: six>=1.5 in /usr/local/lib/python3.10/dist-packages (from python-dateutil>=2.7->matplotlib>=3.2.2->ultralytics==8.0.124->mivolo==0.4.2.dev0) (1.16.0)\n",
            "Requirement already satisfied: MarkupSafe>=2.0 in /usr/local/lib/python3.10/dist-packages (from jinja2->torch>=1.7->timm==0.8.13.dev0->mivolo==0.4.2.dev0) (2.1.3)\n",
            "Requirement already satisfied: mpmath>=0.19 in /usr/local/lib/python3.10/dist-packages (from sympy->torch>=1.7->timm==0.8.13.dev0->mivolo==0.4.2.dev0) (1.3.0)\n",
            "Building wheels for collected packages: mivolo\n",
            "  Building wheel for mivolo (setup.py) ... \u001b[?25l\u001b[?25hdone\n",
            "  Created wheel for mivolo: filename=mivolo-0.4.2.dev0-py3-none-any.whl size=37558 sha256=533ec139400b12f771eab6a418f9fe4abcf8f2b7e4576d5c252f3349294b6fec\n",
            "  Stored in directory: /tmp/pip-ephem-wheel-cache-w4xapljt/wheels/ac/11/ba/c60eec1d91023f04fe3cae7178f17e92408cafbb10b1ea62f4\n",
            "Successfully built mivolo\n",
            "Installing collected packages: mivolo\n",
            "Successfully installed mivolo-0.4.2.dev0\n"
          ]
        }
      ],
      "source": [
        "!pip install -r requirements.txt\n",
        "!pip install ."
      ]
    },
    {
      "cell_type": "code",
      "execution_count": 3,
      "metadata": {
        "colab": {
          "base_uri": "https://localhost:8080/",
          "height": 402
        },
        "id": "dg0Xgr6x1UId",
        "outputId": "3400dbdc-db7e-4e73-b27c-9791f9ad2ce7"
      },
      "outputs": [
        {
          "output_type": "stream",
          "name": "stdout",
          "text": [
            "Requirement already satisfied: gdown in /usr/local/lib/python3.10/dist-packages (4.6.6)\n",
            "Requirement already satisfied: filelock in /usr/local/lib/python3.10/dist-packages (from gdown) (3.13.1)\n",
            "Requirement already satisfied: requests[socks] in /usr/local/lib/python3.10/dist-packages (from gdown) (2.31.0)\n",
            "Requirement already satisfied: six in /usr/local/lib/python3.10/dist-packages (from gdown) (1.16.0)\n",
            "Requirement already satisfied: tqdm in /usr/local/lib/python3.10/dist-packages (from gdown) (4.66.1)\n",
            "Requirement already satisfied: beautifulsoup4 in /usr/local/lib/python3.10/dist-packages (from gdown) (4.11.2)\n",
            "Requirement already satisfied: soupsieve>1.2 in /usr/local/lib/python3.10/dist-packages (from beautifulsoup4->gdown) (2.5)\n",
            "Requirement already satisfied: charset-normalizer<4,>=2 in /usr/local/lib/python3.10/dist-packages (from requests[socks]->gdown) (3.3.2)\n",
            "Requirement already satisfied: idna<4,>=2.5 in /usr/local/lib/python3.10/dist-packages (from requests[socks]->gdown) (3.6)\n",
            "Requirement already satisfied: urllib3<3,>=1.21.1 in /usr/local/lib/python3.10/dist-packages (from requests[socks]->gdown) (2.0.7)\n",
            "Requirement already satisfied: certifi>=2017.4.17 in /usr/local/lib/python3.10/dist-packages (from requests[socks]->gdown) (2023.11.17)\n",
            "Requirement already satisfied: PySocks!=1.5.7,>=1.5.6 in /usr/local/lib/python3.10/dist-packages (from requests[socks]->gdown) (1.7.1)\n"
          ]
        },
        {
          "output_type": "stream",
          "name": "stderr",
          "text": [
            "Downloading...\n",
            "From: https://docs.google.com/uc?export=download&id=11i8pKctxz3wVkDBlWKvhYIh7kpVFXSZ4\n",
            "To: /content/Masked_Age_Detection/models/mivolo_imbd.pth.tar\n",
            "100%|██████████| 110M/110M [00:02<00:00, 51.9MB/s]\n",
            "Downloading...\n",
            "From: https://docs.google.com/uc?export=download&id=1CGNCkZQNj5WkP3rLpENWAOgrBQkUWRdw\n",
            "To: /content/Masked_Age_Detection/models/yolov8x_person_face.pt\n",
            "100%|██████████| 137M/137M [00:05<00:00, 26.5MB/s]\n"
          ]
        },
        {
          "output_type": "execute_result",
          "data": {
            "text/plain": [
              "'models/yolov8x_person_face.pt'"
            ],
            "application/vnd.google.colaboratory.intrinsic+json": {
              "type": "string"
            }
          },
          "metadata": {},
          "execution_count": 3
        }
      ],
      "source": [
        "!mkdir models\n",
        "# Cài đặt thư viện gdown (nếu chưa cài đặt)\n",
        "!pip install gdown\n",
        "\n",
        "# Sử dụng gdown để tải file từ Google Drive\n",
        "import gdown\n",
        "\n",
        "# Đường dẫn đến file trên Google Drive\n",
        "url = 'https://docs.google.com/uc?export=download&id=11i8pKctxz3wVkDBlWKvhYIh7kpVFXSZ4'\n",
        "\n",
        "# Đường dẫn đến nơi lưu trữ file trên Colab\n",
        "output = 'models/mivolo_imbd.pth.tar'\n",
        "\n",
        "# Sử dụng gdown để tải file\n",
        "gdown.download(url, output, quiet=False)\n",
        "\n",
        "# Đường dẫn đến file trên Google Drive\n",
        "url = 'https://docs.google.com/uc?export=download&id=1CGNCkZQNj5WkP3rLpENWAOgrBQkUWRdw'\n",
        "\n",
        "# Đường dẫn đến nơi lưu trữ file trên Colab\n",
        "output = 'models/yolov8x_person_face.pt'\n",
        "\n",
        "# Sử dụng gdown để tải file\n",
        "gdown.download(url, output, quiet=False)\n"
      ]
    },
    {
      "cell_type": "markdown",
      "metadata": {
        "id": "aIb4kksCyYOC"
      },
      "source": [
        "## Load model"
      ]
    },
    {
      "cell_type": "code",
      "execution_count": 4,
      "metadata": {
        "id": "rglI70jMpTya"
      },
      "outputs": [],
      "source": [
        "from collections import defaultdict\n",
        "from typing import Dict, Generator, List, Optional, Tuple\n",
        "\n",
        "import cv2\n",
        "import numpy as np\n",
        "import torch\n",
        "import tqdm\n",
        "from mivolo.model.mi_volo import MiVOLO\n",
        "from mivolo.model.yolo_detector import Detector\n",
        "from mivolo.structures import AGE_GENDER_TYPE, PersonAndFaceResult\n",
        "# from mivolo.model.mivolo_model import *\n",
        "from mivolo.model.create_timm_model import create_model"
      ]
    },
    {
      "cell_type": "code",
      "execution_count": 5,
      "metadata": {
        "id": "6_Kv4weDrWet"
      },
      "outputs": [],
      "source": [
        "# Example usage of create_model function\n",
        "model_name = \"mivolo_d1_224\"  # You can specify the Mivolo model architecture\n",
        "checkpoint_path = \"path/to/your/checkpoint.pth\"  # Provide the path to your checkpoint file if available\n",
        "\n",
        "# Create the Mivolo model\n",
        "model = create_model(\n",
        "    model_name=model_name,\n",
        "    pretrained=False,  # Set to True if you want to use a pretrained model\n",
        "    checkpoint_path=None,\n",
        "    filter_keys=[\"fds.\"],  # Optional: filter specific keys during loading\n",
        "    # Additional arguments...\n",
        ")\n",
        "\n",
        "# Now, you can use the created model for inference or further processing"
      ]
    },
    {
      "cell_type": "markdown",
      "metadata": {
        "id": "BkEgUHwf6W-W"
      },
      "source": [
        "### MiVOLO"
      ]
    },
    {
      "cell_type": "code",
      "execution_count": 6,
      "metadata": {
        "colab": {
          "base_uri": "https://localhost:8080/"
        },
        "id": "qJfNu0A_1kjq",
        "outputId": "6378e4c9-59f9-4692-ce40-c1a74f6979a0"
      },
      "outputs": [
        {
          "output_type": "stream",
          "name": "stdout",
          "text": [
            "----------------------------------------------------------------\n",
            "        Layer (type)               Output Shape         Param #\n",
            "================================================================\n",
            "            Conv2d-1         [-1, 64, 112, 112]           9,408\n",
            "       BatchNorm2d-2         [-1, 64, 112, 112]             128\n",
            "              ReLU-3         [-1, 64, 112, 112]               0\n",
            "            Conv2d-4         [-1, 64, 112, 112]          36,864\n",
            "       BatchNorm2d-5         [-1, 64, 112, 112]             128\n",
            "              ReLU-6         [-1, 64, 112, 112]               0\n",
            "            Conv2d-7         [-1, 64, 112, 112]          36,864\n",
            "       BatchNorm2d-8         [-1, 64, 112, 112]             128\n",
            "              ReLU-9         [-1, 64, 112, 112]               0\n",
            "           Conv2d-10          [-1, 192, 28, 28]         196,800\n",
            "       PatchEmbed-11          [-1, 192, 28, 28]               0\n",
            "        LayerNorm-12          [-1, 28, 28, 192]             384\n",
            "           Linear-13          [-1, 28, 28, 192]          36,864\n",
            "           Unfold-14            [-1, 1728, 196]               0\n",
            "        AvgPool2d-15          [-1, 192, 14, 14]               0\n",
            "           Linear-16          [-1, 14, 14, 486]          93,798\n",
            "          Dropout-17         [-1, 6, 196, 9, 9]               0\n",
            "           Linear-18          [-1, 28, 28, 192]          37,056\n",
            "          Dropout-19          [-1, 28, 28, 192]               0\n",
            " OutlookAttention-20          [-1, 28, 28, 192]               0\n",
            "         Identity-21          [-1, 28, 28, 192]               0\n",
            "        LayerNorm-22          [-1, 28, 28, 192]             384\n",
            "           Linear-23          [-1, 28, 28, 576]         111,168\n",
            "             GELU-24          [-1, 28, 28, 576]               0\n",
            "          Dropout-25          [-1, 28, 28, 576]               0\n",
            "           Linear-26          [-1, 28, 28, 192]         110,784\n",
            "          Dropout-27          [-1, 28, 28, 192]               0\n",
            "              Mlp-28          [-1, 28, 28, 192]               0\n",
            "         Identity-29          [-1, 28, 28, 192]               0\n",
            "        Outlooker-30          [-1, 28, 28, 192]               0\n",
            "        LayerNorm-31          [-1, 28, 28, 192]             384\n",
            "           Linear-32          [-1, 28, 28, 192]          36,864\n",
            "           Unfold-33            [-1, 1728, 196]               0\n",
            "        AvgPool2d-34          [-1, 192, 14, 14]               0\n",
            "           Linear-35          [-1, 14, 14, 486]          93,798\n",
            "          Dropout-36         [-1, 6, 196, 9, 9]               0\n",
            "           Linear-37          [-1, 28, 28, 192]          37,056\n",
            "          Dropout-38          [-1, 28, 28, 192]               0\n",
            " OutlookAttention-39          [-1, 28, 28, 192]               0\n",
            "         Identity-40          [-1, 28, 28, 192]               0\n",
            "        LayerNorm-41          [-1, 28, 28, 192]             384\n",
            "           Linear-42          [-1, 28, 28, 576]         111,168\n",
            "             GELU-43          [-1, 28, 28, 576]               0\n",
            "          Dropout-44          [-1, 28, 28, 576]               0\n",
            "           Linear-45          [-1, 28, 28, 192]         110,784\n",
            "          Dropout-46          [-1, 28, 28, 192]               0\n",
            "              Mlp-47          [-1, 28, 28, 192]               0\n",
            "         Identity-48          [-1, 28, 28, 192]               0\n",
            "        Outlooker-49          [-1, 28, 28, 192]               0\n",
            "        LayerNorm-50          [-1, 28, 28, 192]             384\n",
            "           Linear-51          [-1, 28, 28, 192]          36,864\n",
            "           Unfold-52            [-1, 1728, 196]               0\n",
            "        AvgPool2d-53          [-1, 192, 14, 14]               0\n",
            "           Linear-54          [-1, 14, 14, 486]          93,798\n",
            "          Dropout-55         [-1, 6, 196, 9, 9]               0\n",
            "           Linear-56          [-1, 28, 28, 192]          37,056\n",
            "          Dropout-57          [-1, 28, 28, 192]               0\n",
            " OutlookAttention-58          [-1, 28, 28, 192]               0\n",
            "         Identity-59          [-1, 28, 28, 192]               0\n",
            "        LayerNorm-60          [-1, 28, 28, 192]             384\n",
            "           Linear-61          [-1, 28, 28, 576]         111,168\n",
            "             GELU-62          [-1, 28, 28, 576]               0\n",
            "          Dropout-63          [-1, 28, 28, 576]               0\n",
            "           Linear-64          [-1, 28, 28, 192]         110,784\n",
            "          Dropout-65          [-1, 28, 28, 192]               0\n",
            "              Mlp-66          [-1, 28, 28, 192]               0\n",
            "         Identity-67          [-1, 28, 28, 192]               0\n",
            "        Outlooker-68          [-1, 28, 28, 192]               0\n",
            "        LayerNorm-69          [-1, 28, 28, 192]             384\n",
            "           Linear-70          [-1, 28, 28, 192]          36,864\n",
            "           Unfold-71            [-1, 1728, 196]               0\n",
            "        AvgPool2d-72          [-1, 192, 14, 14]               0\n",
            "           Linear-73          [-1, 14, 14, 486]          93,798\n",
            "          Dropout-74         [-1, 6, 196, 9, 9]               0\n",
            "           Linear-75          [-1, 28, 28, 192]          37,056\n",
            "          Dropout-76          [-1, 28, 28, 192]               0\n",
            " OutlookAttention-77          [-1, 28, 28, 192]               0\n",
            "         Identity-78          [-1, 28, 28, 192]               0\n",
            "        LayerNorm-79          [-1, 28, 28, 192]             384\n",
            "           Linear-80          [-1, 28, 28, 576]         111,168\n",
            "             GELU-81          [-1, 28, 28, 576]               0\n",
            "          Dropout-82          [-1, 28, 28, 576]               0\n",
            "           Linear-83          [-1, 28, 28, 192]         110,784\n",
            "          Dropout-84          [-1, 28, 28, 192]               0\n",
            "              Mlp-85          [-1, 28, 28, 192]               0\n",
            "         Identity-86          [-1, 28, 28, 192]               0\n",
            "        Outlooker-87          [-1, 28, 28, 192]               0\n",
            "           Conv2d-88          [-1, 384, 14, 14]         295,296\n",
            "       Downsample-89          [-1, 14, 14, 384]               0\n",
            "          Dropout-90          [-1, 14, 14, 384]               0\n",
            "        LayerNorm-91          [-1, 14, 14, 384]             768\n",
            "           Linear-92         [-1, 14, 14, 1152]         442,368\n",
            "          Dropout-93         [-1, 12, 196, 196]               0\n",
            "           Linear-94          [-1, 14, 14, 384]         147,840\n",
            "          Dropout-95          [-1, 14, 14, 384]               0\n",
            "        Attention-96          [-1, 14, 14, 384]               0\n",
            "         Identity-97          [-1, 14, 14, 384]               0\n",
            "        LayerNorm-98          [-1, 14, 14, 384]             768\n",
            "           Linear-99         [-1, 14, 14, 1152]         443,520\n",
            "            GELU-100         [-1, 14, 14, 1152]               0\n",
            "         Dropout-101         [-1, 14, 14, 1152]               0\n",
            "          Linear-102          [-1, 14, 14, 384]         442,752\n",
            "         Dropout-103          [-1, 14, 14, 384]               0\n",
            "             Mlp-104          [-1, 14, 14, 384]               0\n",
            "        Identity-105          [-1, 14, 14, 384]               0\n",
            "     Transformer-106          [-1, 14, 14, 384]               0\n",
            "       LayerNorm-107          [-1, 14, 14, 384]             768\n",
            "          Linear-108         [-1, 14, 14, 1152]         442,368\n",
            "         Dropout-109         [-1, 12, 196, 196]               0\n",
            "          Linear-110          [-1, 14, 14, 384]         147,840\n",
            "         Dropout-111          [-1, 14, 14, 384]               0\n",
            "       Attention-112          [-1, 14, 14, 384]               0\n",
            "        Identity-113          [-1, 14, 14, 384]               0\n",
            "       LayerNorm-114          [-1, 14, 14, 384]             768\n",
            "          Linear-115         [-1, 14, 14, 1152]         443,520\n",
            "            GELU-116         [-1, 14, 14, 1152]               0\n",
            "         Dropout-117         [-1, 14, 14, 1152]               0\n",
            "          Linear-118          [-1, 14, 14, 384]         442,752\n",
            "         Dropout-119          [-1, 14, 14, 384]               0\n",
            "             Mlp-120          [-1, 14, 14, 384]               0\n",
            "        Identity-121          [-1, 14, 14, 384]               0\n",
            "     Transformer-122          [-1, 14, 14, 384]               0\n",
            "       LayerNorm-123          [-1, 14, 14, 384]             768\n",
            "          Linear-124         [-1, 14, 14, 1152]         442,368\n",
            "         Dropout-125         [-1, 12, 196, 196]               0\n",
            "          Linear-126          [-1, 14, 14, 384]         147,840\n",
            "         Dropout-127          [-1, 14, 14, 384]               0\n",
            "       Attention-128          [-1, 14, 14, 384]               0\n",
            "        Identity-129          [-1, 14, 14, 384]               0\n",
            "       LayerNorm-130          [-1, 14, 14, 384]             768\n",
            "          Linear-131         [-1, 14, 14, 1152]         443,520\n",
            "            GELU-132         [-1, 14, 14, 1152]               0\n",
            "         Dropout-133         [-1, 14, 14, 1152]               0\n",
            "          Linear-134          [-1, 14, 14, 384]         442,752\n",
            "         Dropout-135          [-1, 14, 14, 384]               0\n",
            "             Mlp-136          [-1, 14, 14, 384]               0\n",
            "        Identity-137          [-1, 14, 14, 384]               0\n",
            "     Transformer-138          [-1, 14, 14, 384]               0\n",
            "       LayerNorm-139          [-1, 14, 14, 384]             768\n",
            "          Linear-140         [-1, 14, 14, 1152]         442,368\n",
            "         Dropout-141         [-1, 12, 196, 196]               0\n",
            "          Linear-142          [-1, 14, 14, 384]         147,840\n",
            "         Dropout-143          [-1, 14, 14, 384]               0\n",
            "       Attention-144          [-1, 14, 14, 384]               0\n",
            "        Identity-145          [-1, 14, 14, 384]               0\n",
            "       LayerNorm-146          [-1, 14, 14, 384]             768\n",
            "          Linear-147         [-1, 14, 14, 1152]         443,520\n",
            "            GELU-148         [-1, 14, 14, 1152]               0\n",
            "         Dropout-149         [-1, 14, 14, 1152]               0\n",
            "          Linear-150          [-1, 14, 14, 384]         442,752\n",
            "         Dropout-151          [-1, 14, 14, 384]               0\n",
            "             Mlp-152          [-1, 14, 14, 384]               0\n",
            "        Identity-153          [-1, 14, 14, 384]               0\n",
            "     Transformer-154          [-1, 14, 14, 384]               0\n",
            "       LayerNorm-155          [-1, 14, 14, 384]             768\n",
            "          Linear-156         [-1, 14, 14, 1152]         442,368\n",
            "         Dropout-157         [-1, 12, 196, 196]               0\n",
            "          Linear-158          [-1, 14, 14, 384]         147,840\n",
            "         Dropout-159          [-1, 14, 14, 384]               0\n",
            "       Attention-160          [-1, 14, 14, 384]               0\n",
            "        Identity-161          [-1, 14, 14, 384]               0\n",
            "       LayerNorm-162          [-1, 14, 14, 384]             768\n",
            "          Linear-163         [-1, 14, 14, 1152]         443,520\n",
            "            GELU-164         [-1, 14, 14, 1152]               0\n",
            "         Dropout-165         [-1, 14, 14, 1152]               0\n",
            "          Linear-166          [-1, 14, 14, 384]         442,752\n",
            "         Dropout-167          [-1, 14, 14, 384]               0\n",
            "             Mlp-168          [-1, 14, 14, 384]               0\n",
            "        Identity-169          [-1, 14, 14, 384]               0\n",
            "     Transformer-170          [-1, 14, 14, 384]               0\n",
            "       LayerNorm-171          [-1, 14, 14, 384]             768\n",
            "          Linear-172         [-1, 14, 14, 1152]         442,368\n",
            "         Dropout-173         [-1, 12, 196, 196]               0\n",
            "          Linear-174          [-1, 14, 14, 384]         147,840\n",
            "         Dropout-175          [-1, 14, 14, 384]               0\n",
            "       Attention-176          [-1, 14, 14, 384]               0\n",
            "        Identity-177          [-1, 14, 14, 384]               0\n",
            "       LayerNorm-178          [-1, 14, 14, 384]             768\n",
            "          Linear-179         [-1, 14, 14, 1152]         443,520\n",
            "            GELU-180         [-1, 14, 14, 1152]               0\n",
            "         Dropout-181         [-1, 14, 14, 1152]               0\n",
            "          Linear-182          [-1, 14, 14, 384]         442,752\n",
            "         Dropout-183          [-1, 14, 14, 384]               0\n",
            "             Mlp-184          [-1, 14, 14, 384]               0\n",
            "        Identity-185          [-1, 14, 14, 384]               0\n",
            "     Transformer-186          [-1, 14, 14, 384]               0\n",
            "       LayerNorm-187          [-1, 14, 14, 384]             768\n",
            "          Linear-188         [-1, 14, 14, 1152]         442,368\n",
            "         Dropout-189         [-1, 12, 196, 196]               0\n",
            "          Linear-190          [-1, 14, 14, 384]         147,840\n",
            "         Dropout-191          [-1, 14, 14, 384]               0\n",
            "       Attention-192          [-1, 14, 14, 384]               0\n",
            "        Identity-193          [-1, 14, 14, 384]               0\n",
            "       LayerNorm-194          [-1, 14, 14, 384]             768\n",
            "          Linear-195         [-1, 14, 14, 1152]         443,520\n",
            "            GELU-196         [-1, 14, 14, 1152]               0\n",
            "         Dropout-197         [-1, 14, 14, 1152]               0\n",
            "          Linear-198          [-1, 14, 14, 384]         442,752\n",
            "         Dropout-199          [-1, 14, 14, 384]               0\n",
            "             Mlp-200          [-1, 14, 14, 384]               0\n",
            "        Identity-201          [-1, 14, 14, 384]               0\n",
            "     Transformer-202          [-1, 14, 14, 384]               0\n",
            "       LayerNorm-203          [-1, 14, 14, 384]             768\n",
            "          Linear-204         [-1, 14, 14, 1152]         442,368\n",
            "         Dropout-205         [-1, 12, 196, 196]               0\n",
            "          Linear-206          [-1, 14, 14, 384]         147,840\n",
            "         Dropout-207          [-1, 14, 14, 384]               0\n",
            "       Attention-208          [-1, 14, 14, 384]               0\n",
            "        Identity-209          [-1, 14, 14, 384]               0\n",
            "       LayerNorm-210          [-1, 14, 14, 384]             768\n",
            "          Linear-211         [-1, 14, 14, 1152]         443,520\n",
            "            GELU-212         [-1, 14, 14, 1152]               0\n",
            "         Dropout-213         [-1, 14, 14, 1152]               0\n",
            "          Linear-214          [-1, 14, 14, 384]         442,752\n",
            "         Dropout-215          [-1, 14, 14, 384]               0\n",
            "             Mlp-216          [-1, 14, 14, 384]               0\n",
            "        Identity-217          [-1, 14, 14, 384]               0\n",
            "     Transformer-218          [-1, 14, 14, 384]               0\n",
            "       LayerNorm-219          [-1, 14, 14, 384]             768\n",
            "          Linear-220         [-1, 14, 14, 1152]         442,368\n",
            "         Dropout-221         [-1, 12, 196, 196]               0\n",
            "          Linear-222          [-1, 14, 14, 384]         147,840\n",
            "         Dropout-223          [-1, 14, 14, 384]               0\n",
            "       Attention-224          [-1, 14, 14, 384]               0\n",
            "        Identity-225          [-1, 14, 14, 384]               0\n",
            "       LayerNorm-226          [-1, 14, 14, 384]             768\n",
            "          Linear-227         [-1, 14, 14, 1152]         443,520\n",
            "            GELU-228         [-1, 14, 14, 1152]               0\n",
            "         Dropout-229         [-1, 14, 14, 1152]               0\n",
            "          Linear-230          [-1, 14, 14, 384]         442,752\n",
            "         Dropout-231          [-1, 14, 14, 384]               0\n",
            "             Mlp-232          [-1, 14, 14, 384]               0\n",
            "        Identity-233          [-1, 14, 14, 384]               0\n",
            "     Transformer-234          [-1, 14, 14, 384]               0\n",
            "       LayerNorm-235          [-1, 14, 14, 384]             768\n",
            "          Linear-236         [-1, 14, 14, 1152]         442,368\n",
            "         Dropout-237         [-1, 12, 196, 196]               0\n",
            "          Linear-238          [-1, 14, 14, 384]         147,840\n",
            "         Dropout-239          [-1, 14, 14, 384]               0\n",
            "       Attention-240          [-1, 14, 14, 384]               0\n",
            "        Identity-241          [-1, 14, 14, 384]               0\n",
            "       LayerNorm-242          [-1, 14, 14, 384]             768\n",
            "          Linear-243         [-1, 14, 14, 1152]         443,520\n",
            "            GELU-244         [-1, 14, 14, 1152]               0\n",
            "         Dropout-245         [-1, 14, 14, 1152]               0\n",
            "          Linear-246          [-1, 14, 14, 384]         442,752\n",
            "         Dropout-247          [-1, 14, 14, 384]               0\n",
            "             Mlp-248          [-1, 14, 14, 384]               0\n",
            "        Identity-249          [-1, 14, 14, 384]               0\n",
            "     Transformer-250          [-1, 14, 14, 384]               0\n",
            "       LayerNorm-251          [-1, 14, 14, 384]             768\n",
            "          Linear-252         [-1, 14, 14, 1152]         442,368\n",
            "         Dropout-253         [-1, 12, 196, 196]               0\n",
            "          Linear-254          [-1, 14, 14, 384]         147,840\n",
            "         Dropout-255          [-1, 14, 14, 384]               0\n",
            "       Attention-256          [-1, 14, 14, 384]               0\n",
            "        Identity-257          [-1, 14, 14, 384]               0\n",
            "       LayerNorm-258          [-1, 14, 14, 384]             768\n",
            "          Linear-259         [-1, 14, 14, 1152]         443,520\n",
            "            GELU-260         [-1, 14, 14, 1152]               0\n",
            "         Dropout-261         [-1, 14, 14, 1152]               0\n",
            "          Linear-262          [-1, 14, 14, 384]         442,752\n",
            "         Dropout-263          [-1, 14, 14, 384]               0\n",
            "             Mlp-264          [-1, 14, 14, 384]               0\n",
            "        Identity-265          [-1, 14, 14, 384]               0\n",
            "     Transformer-266          [-1, 14, 14, 384]               0\n",
            "       LayerNorm-267          [-1, 14, 14, 384]             768\n",
            "          Linear-268         [-1, 14, 14, 1152]         442,368\n",
            "         Dropout-269         [-1, 12, 196, 196]               0\n",
            "          Linear-270          [-1, 14, 14, 384]         147,840\n",
            "         Dropout-271          [-1, 14, 14, 384]               0\n",
            "       Attention-272          [-1, 14, 14, 384]               0\n",
            "        Identity-273          [-1, 14, 14, 384]               0\n",
            "       LayerNorm-274          [-1, 14, 14, 384]             768\n",
            "          Linear-275         [-1, 14, 14, 1152]         443,520\n",
            "            GELU-276         [-1, 14, 14, 1152]               0\n",
            "         Dropout-277         [-1, 14, 14, 1152]               0\n",
            "          Linear-278          [-1, 14, 14, 384]         442,752\n",
            "         Dropout-279          [-1, 14, 14, 384]               0\n",
            "             Mlp-280          [-1, 14, 14, 384]               0\n",
            "        Identity-281          [-1, 14, 14, 384]               0\n",
            "     Transformer-282          [-1, 14, 14, 384]               0\n",
            "       LayerNorm-283          [-1, 14, 14, 384]             768\n",
            "          Linear-284         [-1, 14, 14, 1152]         442,368\n",
            "         Dropout-285         [-1, 12, 196, 196]               0\n",
            "          Linear-286          [-1, 14, 14, 384]         147,840\n",
            "         Dropout-287          [-1, 14, 14, 384]               0\n",
            "       Attention-288          [-1, 14, 14, 384]               0\n",
            "        Identity-289          [-1, 14, 14, 384]               0\n",
            "       LayerNorm-290          [-1, 14, 14, 384]             768\n",
            "          Linear-291         [-1, 14, 14, 1152]         443,520\n",
            "            GELU-292         [-1, 14, 14, 1152]               0\n",
            "         Dropout-293         [-1, 14, 14, 1152]               0\n",
            "          Linear-294          [-1, 14, 14, 384]         442,752\n",
            "         Dropout-295          [-1, 14, 14, 384]               0\n",
            "             Mlp-296          [-1, 14, 14, 384]               0\n",
            "        Identity-297          [-1, 14, 14, 384]               0\n",
            "     Transformer-298          [-1, 14, 14, 384]               0\n",
            "       LayerNorm-299          [-1, 14, 14, 384]             768\n",
            "          Linear-300         [-1, 14, 14, 1152]         442,368\n",
            "         Dropout-301         [-1, 12, 196, 196]               0\n",
            "          Linear-302          [-1, 14, 14, 384]         147,840\n",
            "         Dropout-303          [-1, 14, 14, 384]               0\n",
            "       Attention-304          [-1, 14, 14, 384]               0\n",
            "        Identity-305          [-1, 14, 14, 384]               0\n",
            "       LayerNorm-306          [-1, 14, 14, 384]             768\n",
            "          Linear-307         [-1, 14, 14, 1152]         443,520\n",
            "            GELU-308         [-1, 14, 14, 1152]               0\n",
            "         Dropout-309         [-1, 14, 14, 1152]               0\n",
            "          Linear-310          [-1, 14, 14, 384]         442,752\n",
            "         Dropout-311          [-1, 14, 14, 384]               0\n",
            "             Mlp-312          [-1, 14, 14, 384]               0\n",
            "        Identity-313          [-1, 14, 14, 384]               0\n",
            "     Transformer-314          [-1, 14, 14, 384]               0\n",
            "       LayerNorm-315             [-1, 197, 384]             768\n",
            "          Linear-316             [-1, 197, 768]         294,912\n",
            "          Linear-317               [-1, 1, 384]         147,456\n",
            "         Dropout-318           [-1, 12, 1, 197]               0\n",
            "          Linear-319               [-1, 1, 384]         147,840\n",
            "         Dropout-320               [-1, 1, 384]               0\n",
            "  ClassAttention-321               [-1, 1, 384]               0\n",
            "        Identity-322               [-1, 1, 384]               0\n",
            "       LayerNorm-323               [-1, 1, 384]             768\n",
            "          Linear-324              [-1, 1, 1152]         443,520\n",
            "            GELU-325              [-1, 1, 1152]               0\n",
            "         Dropout-326              [-1, 1, 1152]               0\n",
            "          Linear-327               [-1, 1, 384]         442,752\n",
            "         Dropout-328               [-1, 1, 384]               0\n",
            "             Mlp-329               [-1, 1, 384]               0\n",
            "        Identity-330               [-1, 1, 384]               0\n",
            "      ClassBlock-331             [-1, 197, 384]               0\n",
            "       LayerNorm-332             [-1, 197, 384]             768\n",
            "          Linear-333             [-1, 197, 768]         294,912\n",
            "          Linear-334               [-1, 1, 384]         147,456\n",
            "         Dropout-335           [-1, 12, 1, 197]               0\n",
            "          Linear-336               [-1, 1, 384]         147,840\n",
            "         Dropout-337               [-1, 1, 384]               0\n",
            "  ClassAttention-338               [-1, 1, 384]               0\n",
            "        Identity-339               [-1, 1, 384]               0\n",
            "       LayerNorm-340               [-1, 1, 384]             768\n",
            "          Linear-341              [-1, 1, 1152]         443,520\n",
            "            GELU-342              [-1, 1, 1152]               0\n",
            "         Dropout-343              [-1, 1, 1152]               0\n",
            "          Linear-344               [-1, 1, 384]         442,752\n",
            "         Dropout-345               [-1, 1, 384]               0\n",
            "             Mlp-346               [-1, 1, 384]               0\n",
            "        Identity-347               [-1, 1, 384]               0\n",
            "      ClassBlock-348             [-1, 197, 384]               0\n",
            "       LayerNorm-349             [-1, 197, 384]             768\n",
            "          Linear-350                 [-1, 1000]         385,000\n",
            "          Linear-351            [-1, 196, 1000]         385,000\n",
            "================================================================\n",
            "Total params: 26,556,392\n",
            "Trainable params: 26,556,392\n",
            "Non-trainable params: 0\n",
            "----------------------------------------------------------------\n",
            "Input size (MB): 0.57\n",
            "Forward/backward pass size (MB): 413.89\n",
            "Params size (MB): 101.30\n",
            "Estimated Total Size (MB): 515.77\n",
            "----------------------------------------------------------------\n"
          ]
        }
      ],
      "source": [
        "from torchsummary import summary\n",
        "model = model.cuda()\n",
        "summary(model, (3, 223, 224))"
      ]
    },
    {
      "cell_type": "code",
      "execution_count": 7,
      "metadata": {
        "colab": {
          "base_uri": "https://localhost:8080/"
        },
        "id": "e0r-I4Izy31t",
        "outputId": "7d594f8c-0136-46d2-fe26-f7d98ea7785f"
      },
      "outputs": [
        {
          "output_type": "stream",
          "name": "stdout",
          "text": [
            "min_age: 1\n",
            "max_age: 95\n",
            "avg_age: 48.0\n",
            "no_gender: False\n",
            "with_persons_model: True\n",
            "\n",
            "pos_embed\n",
            "cls_token\n",
            "patch_embed.conv1.0.weight\n",
            "patch_embed.conv1.1.weight\n",
            "patch_embed.conv1.1.bias\n",
            "patch_embed.conv1.1.running_mean\n",
            "patch_embed.conv1.1.running_var\n",
            "patch_embed.conv1.1.num_batches_tracked\n",
            "patch_embed.conv1.3.weight\n",
            "patch_embed.conv1.4.weight\n",
            "patch_embed.conv1.4.bias\n",
            "patch_embed.conv1.4.running_mean\n",
            "patch_embed.conv1.4.running_var\n",
            "patch_embed.conv1.4.num_batches_tracked\n",
            "patch_embed.conv1.6.weight\n",
            "patch_embed.conv1.7.weight\n",
            "patch_embed.conv1.7.bias\n",
            "patch_embed.conv1.7.running_mean\n",
            "patch_embed.conv1.7.running_var\n",
            "patch_embed.conv1.7.num_batches_tracked\n",
            "patch_embed.conv2.0.weight\n",
            "patch_embed.conv2.1.weight\n",
            "patch_embed.conv2.1.bias\n",
            "patch_embed.conv2.1.running_mean\n",
            "patch_embed.conv2.1.running_var\n",
            "patch_embed.conv2.1.num_batches_tracked\n",
            "patch_embed.conv2.3.weight\n",
            "patch_embed.conv2.4.weight\n",
            "patch_embed.conv2.4.bias\n",
            "patch_embed.conv2.4.running_mean\n",
            "patch_embed.conv2.4.running_var\n",
            "patch_embed.conv2.4.num_batches_tracked\n",
            "patch_embed.conv2.6.weight\n",
            "patch_embed.conv2.7.weight\n",
            "patch_embed.conv2.7.bias\n",
            "patch_embed.conv2.7.running_mean\n",
            "patch_embed.conv2.7.running_var\n",
            "patch_embed.conv2.7.num_batches_tracked\n",
            "patch_embed.proj1.weight\n",
            "patch_embed.proj1.bias\n",
            "patch_embed.proj2.weight\n",
            "patch_embed.proj2.bias\n",
            "patch_embed.map.qkv_f.weight\n",
            "patch_embed.map.qkv_p.weight\n",
            "patch_embed.map.pos_embed.height_rel\n",
            "patch_embed.map.pos_embed.width_rel\n",
            "patch_embed.map.norm.weight\n",
            "patch_embed.map.norm.bias\n",
            "patch_embed.map.mlp.fc1.weight\n",
            "patch_embed.map.mlp.fc1.bias\n",
            "patch_embed.map.mlp.fc2.weight\n",
            "patch_embed.map.mlp.fc2.bias\n",
            "network.0.0.norm1.weight\n",
            "network.0.0.norm1.bias\n",
            "network.0.0.attn.v.weight\n",
            "network.0.0.attn.attn.weight\n",
            "network.0.0.attn.attn.bias\n",
            "network.0.0.attn.proj.weight\n",
            "network.0.0.attn.proj.bias\n",
            "network.0.0.norm2.weight\n",
            "network.0.0.norm2.bias\n",
            "network.0.0.mlp.fc1.weight\n",
            "network.0.0.mlp.fc1.bias\n",
            "network.0.0.mlp.fc2.weight\n",
            "network.0.0.mlp.fc2.bias\n",
            "network.0.1.norm1.weight\n",
            "network.0.1.norm1.bias\n",
            "network.0.1.attn.v.weight\n",
            "network.0.1.attn.attn.weight\n",
            "network.0.1.attn.attn.bias\n",
            "network.0.1.attn.proj.weight\n",
            "network.0.1.attn.proj.bias\n",
            "network.0.1.norm2.weight\n",
            "network.0.1.norm2.bias\n",
            "network.0.1.mlp.fc1.weight\n",
            "network.0.1.mlp.fc1.bias\n",
            "network.0.1.mlp.fc2.weight\n",
            "network.0.1.mlp.fc2.bias\n",
            "network.0.2.norm1.weight\n",
            "network.0.2.norm1.bias\n",
            "network.0.2.attn.v.weight\n",
            "network.0.2.attn.attn.weight\n",
            "network.0.2.attn.attn.bias\n",
            "network.0.2.attn.proj.weight\n",
            "network.0.2.attn.proj.bias\n",
            "network.0.2.norm2.weight\n",
            "network.0.2.norm2.bias\n",
            "network.0.2.mlp.fc1.weight\n",
            "network.0.2.mlp.fc1.bias\n",
            "network.0.2.mlp.fc2.weight\n",
            "network.0.2.mlp.fc2.bias\n",
            "network.0.3.norm1.weight\n",
            "network.0.3.norm1.bias\n",
            "network.0.3.attn.v.weight\n",
            "network.0.3.attn.attn.weight\n",
            "network.0.3.attn.attn.bias\n",
            "network.0.3.attn.proj.weight\n",
            "network.0.3.attn.proj.bias\n",
            "network.0.3.norm2.weight\n",
            "network.0.3.norm2.bias\n",
            "network.0.3.mlp.fc1.weight\n",
            "network.0.3.mlp.fc1.bias\n",
            "network.0.3.mlp.fc2.weight\n",
            "network.0.3.mlp.fc2.bias\n",
            "network.1.proj.weight\n",
            "network.1.proj.bias\n",
            "network.2.0.norm1.weight\n",
            "network.2.0.norm1.bias\n",
            "network.2.0.attn.qkv.weight\n",
            "network.2.0.attn.proj.weight\n",
            "network.2.0.attn.proj.bias\n",
            "network.2.0.norm2.weight\n",
            "network.2.0.norm2.bias\n",
            "network.2.0.mlp.fc1.weight\n",
            "network.2.0.mlp.fc1.bias\n",
            "network.2.0.mlp.fc2.weight\n",
            "network.2.0.mlp.fc2.bias\n",
            "network.2.1.norm1.weight\n",
            "network.2.1.norm1.bias\n",
            "network.2.1.attn.qkv.weight\n",
            "network.2.1.attn.proj.weight\n",
            "network.2.1.attn.proj.bias\n",
            "network.2.1.norm2.weight\n",
            "network.2.1.norm2.bias\n",
            "network.2.1.mlp.fc1.weight\n",
            "network.2.1.mlp.fc1.bias\n",
            "network.2.1.mlp.fc2.weight\n",
            "network.2.1.mlp.fc2.bias\n",
            "network.2.2.norm1.weight\n",
            "network.2.2.norm1.bias\n",
            "network.2.2.attn.qkv.weight\n",
            "network.2.2.attn.proj.weight\n",
            "network.2.2.attn.proj.bias\n",
            "network.2.2.norm2.weight\n",
            "network.2.2.norm2.bias\n",
            "network.2.2.mlp.fc1.weight\n",
            "network.2.2.mlp.fc1.bias\n",
            "network.2.2.mlp.fc2.weight\n",
            "network.2.2.mlp.fc2.bias\n",
            "network.2.3.norm1.weight\n",
            "network.2.3.norm1.bias\n",
            "network.2.3.attn.qkv.weight\n",
            "network.2.3.attn.proj.weight\n",
            "network.2.3.attn.proj.bias\n",
            "network.2.3.norm2.weight\n",
            "network.2.3.norm2.bias\n",
            "network.2.3.mlp.fc1.weight\n",
            "network.2.3.mlp.fc1.bias\n",
            "network.2.3.mlp.fc2.weight\n",
            "network.2.3.mlp.fc2.bias\n",
            "network.3.0.norm1.weight\n",
            "network.3.0.norm1.bias\n",
            "network.3.0.attn.qkv.weight\n",
            "network.3.0.attn.proj.weight\n",
            "network.3.0.attn.proj.bias\n",
            "network.3.0.norm2.weight\n",
            "network.3.0.norm2.bias\n",
            "network.3.0.mlp.fc1.weight\n",
            "network.3.0.mlp.fc1.bias\n",
            "network.3.0.mlp.fc2.weight\n",
            "network.3.0.mlp.fc2.bias\n",
            "network.3.1.norm1.weight\n",
            "network.3.1.norm1.bias\n",
            "network.3.1.attn.qkv.weight\n",
            "network.3.1.attn.proj.weight\n",
            "network.3.1.attn.proj.bias\n",
            "network.3.1.norm2.weight\n",
            "network.3.1.norm2.bias\n",
            "network.3.1.mlp.fc1.weight\n",
            "network.3.1.mlp.fc1.bias\n",
            "network.3.1.mlp.fc2.weight\n",
            "network.3.1.mlp.fc2.bias\n",
            "network.3.2.norm1.weight\n",
            "network.3.2.norm1.bias\n",
            "network.3.2.attn.qkv.weight\n",
            "network.3.2.attn.proj.weight\n",
            "network.3.2.attn.proj.bias\n",
            "network.3.2.norm2.weight\n",
            "network.3.2.norm2.bias\n",
            "network.3.2.mlp.fc1.weight\n",
            "network.3.2.mlp.fc1.bias\n",
            "network.3.2.mlp.fc2.weight\n",
            "network.3.2.mlp.fc2.bias\n",
            "network.3.3.norm1.weight\n",
            "network.3.3.norm1.bias\n",
            "network.3.3.attn.qkv.weight\n",
            "network.3.3.attn.proj.weight\n",
            "network.3.3.attn.proj.bias\n",
            "network.3.3.norm2.weight\n",
            "network.3.3.norm2.bias\n",
            "network.3.3.mlp.fc1.weight\n",
            "network.3.3.mlp.fc1.bias\n",
            "network.3.3.mlp.fc2.weight\n",
            "network.3.3.mlp.fc2.bias\n",
            "network.3.4.norm1.weight\n",
            "network.3.4.norm1.bias\n",
            "network.3.4.attn.qkv.weight\n",
            "network.3.4.attn.proj.weight\n",
            "network.3.4.attn.proj.bias\n",
            "network.3.4.norm2.weight\n",
            "network.3.4.norm2.bias\n",
            "network.3.4.mlp.fc1.weight\n",
            "network.3.4.mlp.fc1.bias\n",
            "network.3.4.mlp.fc2.weight\n",
            "network.3.4.mlp.fc2.bias\n",
            "network.3.5.norm1.weight\n",
            "network.3.5.norm1.bias\n",
            "network.3.5.attn.qkv.weight\n",
            "network.3.5.attn.proj.weight\n",
            "network.3.5.attn.proj.bias\n",
            "network.3.5.norm2.weight\n",
            "network.3.5.norm2.bias\n",
            "network.3.5.mlp.fc1.weight\n",
            "network.3.5.mlp.fc1.bias\n",
            "network.3.5.mlp.fc2.weight\n",
            "network.3.5.mlp.fc2.bias\n",
            "network.3.6.norm1.weight\n",
            "network.3.6.norm1.bias\n",
            "network.3.6.attn.qkv.weight\n",
            "network.3.6.attn.proj.weight\n",
            "network.3.6.attn.proj.bias\n",
            "network.3.6.norm2.weight\n",
            "network.3.6.norm2.bias\n",
            "network.3.6.mlp.fc1.weight\n",
            "network.3.6.mlp.fc1.bias\n",
            "network.3.6.mlp.fc2.weight\n",
            "network.3.6.mlp.fc2.bias\n",
            "network.3.7.norm1.weight\n",
            "network.3.7.norm1.bias\n",
            "network.3.7.attn.qkv.weight\n",
            "network.3.7.attn.proj.weight\n",
            "network.3.7.attn.proj.bias\n",
            "network.3.7.norm2.weight\n",
            "network.3.7.norm2.bias\n",
            "network.3.7.mlp.fc1.weight\n",
            "network.3.7.mlp.fc1.bias\n",
            "network.3.7.mlp.fc2.weight\n",
            "network.3.7.mlp.fc2.bias\n",
            "network.4.0.norm1.weight\n",
            "network.4.0.norm1.bias\n",
            "network.4.0.attn.qkv.weight\n",
            "network.4.0.attn.proj.weight\n",
            "network.4.0.attn.proj.bias\n",
            "network.4.0.norm2.weight\n",
            "network.4.0.norm2.bias\n",
            "network.4.0.mlp.fc1.weight\n",
            "network.4.0.mlp.fc1.bias\n",
            "network.4.0.mlp.fc2.weight\n",
            "network.4.0.mlp.fc2.bias\n",
            "network.4.1.norm1.weight\n",
            "network.4.1.norm1.bias\n",
            "network.4.1.attn.qkv.weight\n",
            "network.4.1.attn.proj.weight\n",
            "network.4.1.attn.proj.bias\n",
            "network.4.1.norm2.weight\n",
            "network.4.1.norm2.bias\n",
            "network.4.1.mlp.fc1.weight\n",
            "network.4.1.mlp.fc1.bias\n",
            "network.4.1.mlp.fc2.weight\n",
            "network.4.1.mlp.fc2.bias\n",
            "post_network.0.norm1.weight\n",
            "post_network.0.norm1.bias\n",
            "post_network.0.attn.kv.weight\n",
            "post_network.0.attn.q.weight\n",
            "post_network.0.attn.proj.weight\n",
            "post_network.0.attn.proj.bias\n",
            "post_network.0.norm2.weight\n",
            "post_network.0.norm2.bias\n",
            "post_network.0.mlp.fc1.weight\n",
            "post_network.0.mlp.fc1.bias\n",
            "post_network.0.mlp.fc2.weight\n",
            "post_network.0.mlp.fc2.bias\n",
            "post_network.1.norm1.weight\n",
            "post_network.1.norm1.bias\n",
            "post_network.1.attn.kv.weight\n",
            "post_network.1.attn.q.weight\n",
            "post_network.1.attn.proj.weight\n",
            "post_network.1.attn.proj.bias\n",
            "post_network.1.norm2.weight\n",
            "post_network.1.norm2.bias\n",
            "post_network.1.mlp.fc1.weight\n",
            "post_network.1.mlp.fc1.bias\n",
            "post_network.1.mlp.fc2.weight\n",
            "post_network.1.mlp.fc2.bias\n",
            "aux_head.weight\n",
            "aux_head.bias\n",
            "norm.weight\n",
            "norm.bias\n",
            "head.weight\n",
            "head.bias\n"
          ]
        }
      ],
      "source": [
        "checkpoint = torch.load('/content/Masked_Age_Detection/models/mivolo_imbd.pth.tar')\n",
        "\n",
        "for key in checkpoint.keys():\n",
        "  if key != 'state_dict':\n",
        "    print(key+':',checkpoint[key])\n",
        "\n",
        "print()\n",
        "\n",
        "for key, value in checkpoint['state_dict'].items():\n",
        "  print(key)\n"
      ]
    },
    {
      "cell_type": "code",
      "execution_count": 8,
      "metadata": {
        "id": "BLqvSytMLyWV"
      },
      "outputs": [],
      "source": [
        "new_state_dict = {}\n",
        "\n",
        "for key, value in checkpoint['state_dict'].items():\n",
        "  if 'map' in key:\n",
        "    new_state_dict[key.replace('map', 'maskedMap')] = value\n",
        "    new_state_dict[key.replace('map', 'nonMaskedMap')] = value\n",
        "  else:\n",
        "    new_state_dict[key] = value"
      ]
    },
    {
      "cell_type": "code",
      "execution_count": 9,
      "metadata": {
        "colab": {
          "base_uri": "https://localhost:8080/"
        },
        "id": "zTXKdG9qNW3Q",
        "outputId": "82662147-31cd-43df-f248-2b64775881e7"
      },
      "outputs": [
        {
          "output_type": "stream",
          "name": "stdout",
          "text": [
            "pos_embed\n",
            "cls_token\n",
            "patch_embed.conv1.0.weight\n",
            "patch_embed.conv1.1.weight\n",
            "patch_embed.conv1.1.bias\n",
            "patch_embed.conv1.1.running_mean\n",
            "patch_embed.conv1.1.running_var\n",
            "patch_embed.conv1.1.num_batches_tracked\n",
            "patch_embed.conv1.3.weight\n",
            "patch_embed.conv1.4.weight\n",
            "patch_embed.conv1.4.bias\n",
            "patch_embed.conv1.4.running_mean\n",
            "patch_embed.conv1.4.running_var\n",
            "patch_embed.conv1.4.num_batches_tracked\n",
            "patch_embed.conv1.6.weight\n",
            "patch_embed.conv1.7.weight\n",
            "patch_embed.conv1.7.bias\n",
            "patch_embed.conv1.7.running_mean\n",
            "patch_embed.conv1.7.running_var\n",
            "patch_embed.conv1.7.num_batches_tracked\n",
            "patch_embed.conv2.0.weight\n",
            "patch_embed.conv2.1.weight\n",
            "patch_embed.conv2.1.bias\n",
            "patch_embed.conv2.1.running_mean\n",
            "patch_embed.conv2.1.running_var\n",
            "patch_embed.conv2.1.num_batches_tracked\n",
            "patch_embed.conv2.3.weight\n",
            "patch_embed.conv2.4.weight\n",
            "patch_embed.conv2.4.bias\n",
            "patch_embed.conv2.4.running_mean\n",
            "patch_embed.conv2.4.running_var\n",
            "patch_embed.conv2.4.num_batches_tracked\n",
            "patch_embed.conv2.6.weight\n",
            "patch_embed.conv2.7.weight\n",
            "patch_embed.conv2.7.bias\n",
            "patch_embed.conv2.7.running_mean\n",
            "patch_embed.conv2.7.running_var\n",
            "patch_embed.conv2.7.num_batches_tracked\n",
            "patch_embed.proj1.weight\n",
            "patch_embed.proj1.bias\n",
            "patch_embed.proj2.weight\n",
            "patch_embed.proj2.bias\n",
            "patch_embed.maskedMap.qkv_f.weight\n",
            "patch_embed.nonMaskedMap.qkv_f.weight\n",
            "patch_embed.maskedMap.qkv_p.weight\n",
            "patch_embed.nonMaskedMap.qkv_p.weight\n",
            "patch_embed.maskedMap.pos_embed.height_rel\n",
            "patch_embed.nonMaskedMap.pos_embed.height_rel\n",
            "patch_embed.maskedMap.pos_embed.width_rel\n",
            "patch_embed.nonMaskedMap.pos_embed.width_rel\n",
            "patch_embed.maskedMap.norm.weight\n",
            "patch_embed.nonMaskedMap.norm.weight\n",
            "patch_embed.maskedMap.norm.bias\n",
            "patch_embed.nonMaskedMap.norm.bias\n",
            "patch_embed.maskedMap.mlp.fc1.weight\n",
            "patch_embed.nonMaskedMap.mlp.fc1.weight\n",
            "patch_embed.maskedMap.mlp.fc1.bias\n",
            "patch_embed.nonMaskedMap.mlp.fc1.bias\n",
            "patch_embed.maskedMap.mlp.fc2.weight\n",
            "patch_embed.nonMaskedMap.mlp.fc2.weight\n",
            "patch_embed.maskedMap.mlp.fc2.bias\n",
            "patch_embed.nonMaskedMap.mlp.fc2.bias\n",
            "network.0.0.norm1.weight\n",
            "network.0.0.norm1.bias\n",
            "network.0.0.attn.v.weight\n",
            "network.0.0.attn.attn.weight\n",
            "network.0.0.attn.attn.bias\n",
            "network.0.0.attn.proj.weight\n",
            "network.0.0.attn.proj.bias\n",
            "network.0.0.norm2.weight\n",
            "network.0.0.norm2.bias\n",
            "network.0.0.mlp.fc1.weight\n",
            "network.0.0.mlp.fc1.bias\n",
            "network.0.0.mlp.fc2.weight\n",
            "network.0.0.mlp.fc2.bias\n",
            "network.0.1.norm1.weight\n",
            "network.0.1.norm1.bias\n",
            "network.0.1.attn.v.weight\n",
            "network.0.1.attn.attn.weight\n",
            "network.0.1.attn.attn.bias\n",
            "network.0.1.attn.proj.weight\n",
            "network.0.1.attn.proj.bias\n",
            "network.0.1.norm2.weight\n",
            "network.0.1.norm2.bias\n",
            "network.0.1.mlp.fc1.weight\n",
            "network.0.1.mlp.fc1.bias\n",
            "network.0.1.mlp.fc2.weight\n",
            "network.0.1.mlp.fc2.bias\n",
            "network.0.2.norm1.weight\n",
            "network.0.2.norm1.bias\n",
            "network.0.2.attn.v.weight\n",
            "network.0.2.attn.attn.weight\n",
            "network.0.2.attn.attn.bias\n",
            "network.0.2.attn.proj.weight\n",
            "network.0.2.attn.proj.bias\n",
            "network.0.2.norm2.weight\n",
            "network.0.2.norm2.bias\n",
            "network.0.2.mlp.fc1.weight\n",
            "network.0.2.mlp.fc1.bias\n",
            "network.0.2.mlp.fc2.weight\n",
            "network.0.2.mlp.fc2.bias\n",
            "network.0.3.norm1.weight\n",
            "network.0.3.norm1.bias\n",
            "network.0.3.attn.v.weight\n",
            "network.0.3.attn.attn.weight\n",
            "network.0.3.attn.attn.bias\n",
            "network.0.3.attn.proj.weight\n",
            "network.0.3.attn.proj.bias\n",
            "network.0.3.norm2.weight\n",
            "network.0.3.norm2.bias\n",
            "network.0.3.mlp.fc1.weight\n",
            "network.0.3.mlp.fc1.bias\n",
            "network.0.3.mlp.fc2.weight\n",
            "network.0.3.mlp.fc2.bias\n",
            "network.1.proj.weight\n",
            "network.1.proj.bias\n",
            "network.2.0.norm1.weight\n",
            "network.2.0.norm1.bias\n",
            "network.2.0.attn.qkv.weight\n",
            "network.2.0.attn.proj.weight\n",
            "network.2.0.attn.proj.bias\n",
            "network.2.0.norm2.weight\n",
            "network.2.0.norm2.bias\n",
            "network.2.0.mlp.fc1.weight\n",
            "network.2.0.mlp.fc1.bias\n",
            "network.2.0.mlp.fc2.weight\n",
            "network.2.0.mlp.fc2.bias\n",
            "network.2.1.norm1.weight\n",
            "network.2.1.norm1.bias\n",
            "network.2.1.attn.qkv.weight\n",
            "network.2.1.attn.proj.weight\n",
            "network.2.1.attn.proj.bias\n",
            "network.2.1.norm2.weight\n",
            "network.2.1.norm2.bias\n",
            "network.2.1.mlp.fc1.weight\n",
            "network.2.1.mlp.fc1.bias\n",
            "network.2.1.mlp.fc2.weight\n",
            "network.2.1.mlp.fc2.bias\n",
            "network.2.2.norm1.weight\n",
            "network.2.2.norm1.bias\n",
            "network.2.2.attn.qkv.weight\n",
            "network.2.2.attn.proj.weight\n",
            "network.2.2.attn.proj.bias\n",
            "network.2.2.norm2.weight\n",
            "network.2.2.norm2.bias\n",
            "network.2.2.mlp.fc1.weight\n",
            "network.2.2.mlp.fc1.bias\n",
            "network.2.2.mlp.fc2.weight\n",
            "network.2.2.mlp.fc2.bias\n",
            "network.2.3.norm1.weight\n",
            "network.2.3.norm1.bias\n",
            "network.2.3.attn.qkv.weight\n",
            "network.2.3.attn.proj.weight\n",
            "network.2.3.attn.proj.bias\n",
            "network.2.3.norm2.weight\n",
            "network.2.3.norm2.bias\n",
            "network.2.3.mlp.fc1.weight\n",
            "network.2.3.mlp.fc1.bias\n",
            "network.2.3.mlp.fc2.weight\n",
            "network.2.3.mlp.fc2.bias\n",
            "network.3.0.norm1.weight\n",
            "network.3.0.norm1.bias\n",
            "network.3.0.attn.qkv.weight\n",
            "network.3.0.attn.proj.weight\n",
            "network.3.0.attn.proj.bias\n",
            "network.3.0.norm2.weight\n",
            "network.3.0.norm2.bias\n",
            "network.3.0.mlp.fc1.weight\n",
            "network.3.0.mlp.fc1.bias\n",
            "network.3.0.mlp.fc2.weight\n",
            "network.3.0.mlp.fc2.bias\n",
            "network.3.1.norm1.weight\n",
            "network.3.1.norm1.bias\n",
            "network.3.1.attn.qkv.weight\n",
            "network.3.1.attn.proj.weight\n",
            "network.3.1.attn.proj.bias\n",
            "network.3.1.norm2.weight\n",
            "network.3.1.norm2.bias\n",
            "network.3.1.mlp.fc1.weight\n",
            "network.3.1.mlp.fc1.bias\n",
            "network.3.1.mlp.fc2.weight\n",
            "network.3.1.mlp.fc2.bias\n",
            "network.3.2.norm1.weight\n",
            "network.3.2.norm1.bias\n",
            "network.3.2.attn.qkv.weight\n",
            "network.3.2.attn.proj.weight\n",
            "network.3.2.attn.proj.bias\n",
            "network.3.2.norm2.weight\n",
            "network.3.2.norm2.bias\n",
            "network.3.2.mlp.fc1.weight\n",
            "network.3.2.mlp.fc1.bias\n",
            "network.3.2.mlp.fc2.weight\n",
            "network.3.2.mlp.fc2.bias\n",
            "network.3.3.norm1.weight\n",
            "network.3.3.norm1.bias\n",
            "network.3.3.attn.qkv.weight\n",
            "network.3.3.attn.proj.weight\n",
            "network.3.3.attn.proj.bias\n",
            "network.3.3.norm2.weight\n",
            "network.3.3.norm2.bias\n",
            "network.3.3.mlp.fc1.weight\n",
            "network.3.3.mlp.fc1.bias\n",
            "network.3.3.mlp.fc2.weight\n",
            "network.3.3.mlp.fc2.bias\n",
            "network.3.4.norm1.weight\n",
            "network.3.4.norm1.bias\n",
            "network.3.4.attn.qkv.weight\n",
            "network.3.4.attn.proj.weight\n",
            "network.3.4.attn.proj.bias\n",
            "network.3.4.norm2.weight\n",
            "network.3.4.norm2.bias\n",
            "network.3.4.mlp.fc1.weight\n",
            "network.3.4.mlp.fc1.bias\n",
            "network.3.4.mlp.fc2.weight\n",
            "network.3.4.mlp.fc2.bias\n",
            "network.3.5.norm1.weight\n",
            "network.3.5.norm1.bias\n",
            "network.3.5.attn.qkv.weight\n",
            "network.3.5.attn.proj.weight\n",
            "network.3.5.attn.proj.bias\n",
            "network.3.5.norm2.weight\n",
            "network.3.5.norm2.bias\n",
            "network.3.5.mlp.fc1.weight\n",
            "network.3.5.mlp.fc1.bias\n",
            "network.3.5.mlp.fc2.weight\n",
            "network.3.5.mlp.fc2.bias\n",
            "network.3.6.norm1.weight\n",
            "network.3.6.norm1.bias\n",
            "network.3.6.attn.qkv.weight\n",
            "network.3.6.attn.proj.weight\n",
            "network.3.6.attn.proj.bias\n",
            "network.3.6.norm2.weight\n",
            "network.3.6.norm2.bias\n",
            "network.3.6.mlp.fc1.weight\n",
            "network.3.6.mlp.fc1.bias\n",
            "network.3.6.mlp.fc2.weight\n",
            "network.3.6.mlp.fc2.bias\n",
            "network.3.7.norm1.weight\n",
            "network.3.7.norm1.bias\n",
            "network.3.7.attn.qkv.weight\n",
            "network.3.7.attn.proj.weight\n",
            "network.3.7.attn.proj.bias\n",
            "network.3.7.norm2.weight\n",
            "network.3.7.norm2.bias\n",
            "network.3.7.mlp.fc1.weight\n",
            "network.3.7.mlp.fc1.bias\n",
            "network.3.7.mlp.fc2.weight\n",
            "network.3.7.mlp.fc2.bias\n",
            "network.4.0.norm1.weight\n",
            "network.4.0.norm1.bias\n",
            "network.4.0.attn.qkv.weight\n",
            "network.4.0.attn.proj.weight\n",
            "network.4.0.attn.proj.bias\n",
            "network.4.0.norm2.weight\n",
            "network.4.0.norm2.bias\n",
            "network.4.0.mlp.fc1.weight\n",
            "network.4.0.mlp.fc1.bias\n",
            "network.4.0.mlp.fc2.weight\n",
            "network.4.0.mlp.fc2.bias\n",
            "network.4.1.norm1.weight\n",
            "network.4.1.norm1.bias\n",
            "network.4.1.attn.qkv.weight\n",
            "network.4.1.attn.proj.weight\n",
            "network.4.1.attn.proj.bias\n",
            "network.4.1.norm2.weight\n",
            "network.4.1.norm2.bias\n",
            "network.4.1.mlp.fc1.weight\n",
            "network.4.1.mlp.fc1.bias\n",
            "network.4.1.mlp.fc2.weight\n",
            "network.4.1.mlp.fc2.bias\n",
            "post_network.0.norm1.weight\n",
            "post_network.0.norm1.bias\n",
            "post_network.0.attn.kv.weight\n",
            "post_network.0.attn.q.weight\n",
            "post_network.0.attn.proj.weight\n",
            "post_network.0.attn.proj.bias\n",
            "post_network.0.norm2.weight\n",
            "post_network.0.norm2.bias\n",
            "post_network.0.mlp.fc1.weight\n",
            "post_network.0.mlp.fc1.bias\n",
            "post_network.0.mlp.fc2.weight\n",
            "post_network.0.mlp.fc2.bias\n",
            "post_network.1.norm1.weight\n",
            "post_network.1.norm1.bias\n",
            "post_network.1.attn.kv.weight\n",
            "post_network.1.attn.q.weight\n",
            "post_network.1.attn.proj.weight\n",
            "post_network.1.attn.proj.bias\n",
            "post_network.1.norm2.weight\n",
            "post_network.1.norm2.bias\n",
            "post_network.1.mlp.fc1.weight\n",
            "post_network.1.mlp.fc1.bias\n",
            "post_network.1.mlp.fc2.weight\n",
            "post_network.1.mlp.fc2.bias\n",
            "aux_head.weight\n",
            "aux_head.bias\n",
            "norm.weight\n",
            "norm.bias\n",
            "head.weight\n",
            "head.bias\n"
          ]
        }
      ],
      "source": [
        "for key, value in new_state_dict.items():\n",
        "  print(key)"
      ]
    },
    {
      "cell_type": "code",
      "execution_count": 10,
      "metadata": {
        "id": "qF7Mc6LBSk5m"
      },
      "outputs": [],
      "source": [
        "checkpoint['state_dict'] = new_state_dict\n",
        "\n",
        "torch.save(checkpoint, '/content/Masked_Age_Detection/models/new_mivolo.pth.tar')"
      ]
    },
    {
      "cell_type": "code",
      "execution_count": 11,
      "metadata": {
        "colab": {
          "base_uri": "https://localhost:8080/"
        },
        "id": "0ck3wPpJBJW4",
        "outputId": "c9fbd85b-90c7-4536-fc2c-dd9939901dac"
      },
      "outputs": [
        {
          "output_type": "stream",
          "name": "stdout",
          "text": [
            "qkv_f.weight \t torch.Size([22, 6, 1, 1])\n",
            "qkv_p.weight \t torch.Size([22, 6, 1, 1])\n",
            "pos_embed.height_rel \t torch.Size([7, 8])\n",
            "pos_embed.width_rel \t torch.Size([15, 8])\n",
            "norm.weight \t torch.Size([12, 4, 8])\n",
            "norm.bias \t torch.Size([12, 4, 8])\n",
            "mlp.fc1.weight \t torch.Size([24, 12, 1, 1])\n",
            "mlp.fc1.bias \t torch.Size([24])\n",
            "mlp.fc2.weight \t torch.Size([6, 24, 1, 1])\n",
            "mlp.fc2.bias \t torch.Size([6])\n"
          ]
        }
      ],
      "source": [
        "from mivolo.model.cross_bottleneck_attn import CrossBottleneckAttn\n",
        "\n",
        "maskedMap = CrossBottleneckAttn(6, dim_out=6, num_heads=1, feat_size=[4, 8])\n",
        "\n",
        "for param_tensor in maskedMap.state_dict():\n",
        "    print(param_tensor, \"\\t\", maskedMap.state_dict()[param_tensor].size())\n"
      ]
    },
    {
      "cell_type": "markdown",
      "metadata": {
        "id": "f2jXXJxo6SvU"
      },
      "source": [
        "### Predictor"
      ]
    },
    {
      "cell_type": "code",
      "execution_count": 12,
      "metadata": {
        "colab": {
          "base_uri": "https://localhost:8080/"
        },
        "id": "zrS80KjC58ec",
        "outputId": "5ca335cf-45a5-41b5-8c74-6d68e5c116d1"
      },
      "outputs": [
        {
          "output_type": "stream",
          "name": "stderr",
          "text": [
            "WARNING ⚠️ /content/Masked_Age_Detection/models/yolov8x_person_face.pt appears to require 'omegaconf', which is not in ultralytics requirements.\n",
            "AutoInstall will run now for 'omegaconf' but this feature will be removed in the future.\n",
            "Recommend fixes are to train a new model using the latest 'ultralytics' package or to run a command with an official YOLOv8 model, i.e. 'yolo predict model=yolov8n.pt'\n",
            "\u001b[31m\u001b[1mrequirements:\u001b[0m Ultralytics requirement \"omegaconf\" not found, attempting AutoUpdate...\n",
            "Collecting omegaconf\n",
            "  Downloading omegaconf-2.3.0-py3-none-any.whl (79 kB)\n",
            "     ━━━━━━━━━━━━━━━━━━━━━━━━━━━━━━━━━━━━━━━━ 79.5/79.5 kB 3.0 MB/s eta 0:00:00\n",
            "Collecting antlr4-python3-runtime==4.9.* (from omegaconf)\n",
            "  Downloading antlr4-python3-runtime-4.9.3.tar.gz (117 kB)\n",
            "     ━━━━━━━━━━━━━━━━━━━━━━━━━━━━━━━━━━━━━━━━ 117.0/117.0 kB 11.3 MB/s eta 0:00:00\n",
            "  Preparing metadata (setup.py): started\n",
            "  Preparing metadata (setup.py): finished with status 'done'\n",
            "Requirement already satisfied: PyYAML>=5.1.0 in /usr/local/lib/python3.10/dist-packages (from omegaconf) (6.0.1)\n",
            "Building wheels for collected packages: antlr4-python3-runtime\n",
            "  Building wheel for antlr4-python3-runtime (setup.py): started\n",
            "  Building wheel for antlr4-python3-runtime (setup.py): finished with status 'done'\n",
            "  Created wheel for antlr4-python3-runtime: filename=antlr4_python3_runtime-4.9.3-py3-none-any.whl size=144554 sha256=978545945cb564d39379c79e6e41ebecadc934d1c86851d1af1ea219087fd47f\n",
            "  Stored in directory: /tmp/pip-ephem-wheel-cache-_djekgbd/wheels/12/93/dd/1f6a127edc45659556564c5730f6d4e300888f4bca2d4c5a88\n",
            "Successfully built antlr4-python3-runtime\n",
            "Installing collected packages: antlr4-python3-runtime, omegaconf\n",
            "Successfully installed antlr4-python3-runtime-4.9.3 omegaconf-2.3.0\n",
            "\n",
            "\u001b[31m\u001b[1mrequirements:\u001b[0m 1 package updated per ['omegaconf']\n",
            "\u001b[31m\u001b[1mrequirements:\u001b[0m ⚠️ \u001b[1mRestart runtime or rerun command for updates to take effect\u001b[0m\n",
            "\n"
          ]
        }
      ],
      "source": [
        "import os\n",
        "from typing import Dict, Union\n",
        "\n",
        "import numpy as np\n",
        "import PIL\n",
        "import torch\n",
        "from mivolo.structures import PersonAndFaceResult\n",
        "from ultralytics.yolo.engine.model import YOLO\n",
        "from ultralytics.yolo.engine.results import Results\n",
        "\n",
        "yolo_weight = YOLO('/content/Masked_Age_Detection/models/yolov8x_person_face.pt')"
      ]
    },
    {
      "cell_type": "markdown",
      "metadata": {
        "id": "1VW7G_hp8R7B"
      },
      "source": [
        "# Predict"
      ]
    },
    {
      "cell_type": "code",
      "execution_count": 13,
      "metadata": {
        "colab": {
          "base_uri": "https://localhost:8080/"
        },
        "id": "nMFCywcs1ow6",
        "outputId": "2b0b81f4-a8f7-458a-eee4-eafb9d64feee"
      },
      "outputs": [
        {
          "output_type": "stream",
          "name": "stdout",
          "text": [
            "--2023-12-24 01:23:35--  https://variety.com/wp-content/uploads/2023/04/MCDNOHA_SP001.jpg\n",
            "Resolving variety.com (variety.com)... 192.0.66.176\n",
            "Connecting to variety.com (variety.com)|192.0.66.176|:443... connected.\n",
            "HTTP request sent, awaiting response... 200 OK\n",
            "Length: 416073 (406K) [image/jpeg]\n",
            "Saving to: ‘jennifer_lawrence.jpg’\n",
            "\n",
            "\rjennifer_lawrence.j   0%[                    ]       0  --.-KB/s               \rjennifer_lawrence.j 100%[===================>] 406.32K  --.-KB/s    in 0.04s   \n",
            "\n",
            "2023-12-24 01:23:35 (11.0 MB/s) - ‘jennifer_lawrence.jpg’ saved [416073/416073]\n",
            "\n",
            "Model summary (fused): 268 layers, 68125494 parameters, 0 gradients\n",
            "Model meta:\n",
            "min_age: 1, max_age: 95, avg_age: 48.0, num_classes: 3, in_chans: 6, with_persons_model: True, disable_faces: False, use_persons: True, only_age: False, num_classes_gender: 2, use_person_crops: True, use_face_crops: True\n",
            "Loaded state_dict from checkpoint '/content/Masked_Age_Detection/models/new_mivolo.pth.tar'\n",
            "Model mivolo_d1_224 created, param count: 28720158\n",
            "Data processing configuration for current model + dataset:\n",
            "\tinput_size: (3, 224, 224)\n",
            "\tinterpolation: bicubic\n",
            "\tmean: (0.485, 0.456, 0.406)\n",
            "\tstd: (0.229, 0.224, 0.225)\n",
            "\tcrop_pct: 0.96\n",
            "\tcrop_mode: center\n",
            "2023-12-24 01:23:50.244055: E external/local_xla/xla/stream_executor/cuda/cuda_dnn.cc:9261] Unable to register cuDNN factory: Attempting to register factory for plugin cuDNN when one has already been registered\n",
            "2023-12-24 01:23:50.244109: E external/local_xla/xla/stream_executor/cuda/cuda_fft.cc:607] Unable to register cuFFT factory: Attempting to register factory for plugin cuFFT when one has already been registered\n",
            "2023-12-24 01:23:50.245952: E external/local_xla/xla/stream_executor/cuda/cuda_blas.cc:1515] Unable to register cuBLAS factory: Attempting to register factory for plugin cuBLAS when one has already been registered\n",
            "\n",
            "WARNING ⚠️ NMS time limit 0.550s exceeded\n",
            "0: 384x640 1 person, 1 face, 1712.2ms\n",
            "Speed: 14.4ms preprocess, 1712.2ms inference, 1443.5ms postprocess per image at shape (1, 3, 384, 640)\n",
            "faces_input: torch.Size([1, 3, 224, 224]), person_input: torch.Size([1, 3, 224, 224])\n",
            "\tage: 36.46\n",
            "\tgender: female [99%]\n",
            "Saved result to output/out_jennifer_lawrence.jpg\n"
          ]
        }
      ],
      "source": [
        "!wget https://variety.com/wp-content/uploads/2023/04/MCDNOHA_SP001.jpg -O jennifer_lawrence.jpg\n",
        "\n",
        "!python3 demo.py \\\n",
        "--input \"jennifer_lawrence.jpg\" \\\n",
        "--output \"output\" \\\n",
        "--detector-weights \"models/yolov8x_person_face.pt \" \\\n",
        "--checkpoint \"/content/Masked_Age_Detection/models/new_mivolo.pth.tar\" \\\n",
        "--device \"cuda\" \\\n",
        "--with-persons \\\n",
        "--draw"
      ]
    },
    {
      "cell_type": "code",
      "execution_count": 14,
      "metadata": {
        "colab": {
          "base_uri": "https://localhost:8080/"
        },
        "id": "fKeWCcyVCmpt",
        "outputId": "2ed0eb95-c8c7-408b-b6b1-9d5e64614fa2"
      },
      "outputs": [
        {
          "output_type": "execute_result",
          "data": {
            "text/plain": [
              "MiVOLOModel(\n",
              "  (patch_embed): PatchEmbed(\n",
              "    (conv1): Sequential(\n",
              "      (0): Conv2d(3, 64, kernel_size=(7, 7), stride=(2, 2), padding=(3, 3), bias=False)\n",
              "      (1): BatchNorm2d(64, eps=1e-05, momentum=0.1, affine=True, track_running_stats=True)\n",
              "      (2): ReLU(inplace=True)\n",
              "      (3): Conv2d(64, 64, kernel_size=(3, 3), stride=(1, 1), padding=(1, 1), bias=False)\n",
              "      (4): BatchNorm2d(64, eps=1e-05, momentum=0.1, affine=True, track_running_stats=True)\n",
              "      (5): ReLU(inplace=True)\n",
              "      (6): Conv2d(64, 64, kernel_size=(3, 3), stride=(1, 1), padding=(1, 1), bias=False)\n",
              "      (7): BatchNorm2d(64, eps=1e-05, momentum=0.1, affine=True, track_running_stats=True)\n",
              "      (8): ReLU(inplace=True)\n",
              "    )\n",
              "    (conv2): Sequential(\n",
              "      (0): Conv2d(3, 64, kernel_size=(7, 7), stride=(2, 2), padding=(3, 3), bias=False)\n",
              "      (1): BatchNorm2d(64, eps=1e-05, momentum=0.1, affine=True, track_running_stats=True)\n",
              "      (2): ReLU(inplace=True)\n",
              "      (3): Conv2d(64, 64, kernel_size=(3, 3), stride=(1, 1), padding=(1, 1), bias=False)\n",
              "      (4): BatchNorm2d(64, eps=1e-05, momentum=0.1, affine=True, track_running_stats=True)\n",
              "      (5): ReLU(inplace=True)\n",
              "      (6): Conv2d(64, 64, kernel_size=(3, 3), stride=(1, 1), padding=(1, 1), bias=False)\n",
              "      (7): BatchNorm2d(64, eps=1e-05, momentum=0.1, affine=True, track_running_stats=True)\n",
              "      (8): ReLU(inplace=True)\n",
              "    )\n",
              "    (proj1): Conv2d(64, 192, kernel_size=(4, 4), stride=(4, 4))\n",
              "    (proj2): Conv2d(64, 192, kernel_size=(4, 4), stride=(4, 4))\n",
              "    (maskedMap): CrossBottleneckAttn(\n",
              "      (qkv_f): Conv2d(192, 576, kernel_size=(1, 1), stride=(1, 1), bias=False)\n",
              "      (qkv_p): Conv2d(192, 576, kernel_size=(1, 1), stride=(1, 1), bias=False)\n",
              "      (pos_embed): PosEmbedRel()\n",
              "      (norm): LayerNorm((384, 28, 28), eps=1e-05, elementwise_affine=True)\n",
              "      (mlp): Mlp(\n",
              "        (fc1): Conv2d(384, 768, kernel_size=(1, 1), stride=(1, 1))\n",
              "        (act): GELU(approximate='none')\n",
              "        (drop1): Dropout(p=0, inplace=False)\n",
              "        (fc2): Conv2d(768, 192, kernel_size=(1, 1), stride=(1, 1))\n",
              "        (drop2): Dropout(p=0, inplace=False)\n",
              "      )\n",
              "      (pool): Identity()\n",
              "    )\n",
              "    (nonMaskedMap): CrossBottleneckAttn(\n",
              "      (qkv_f): Conv2d(192, 576, kernel_size=(1, 1), stride=(1, 1), bias=False)\n",
              "      (qkv_p): Conv2d(192, 576, kernel_size=(1, 1), stride=(1, 1), bias=False)\n",
              "      (pos_embed): PosEmbedRel()\n",
              "      (norm): LayerNorm((384, 28, 28), eps=1e-05, elementwise_affine=True)\n",
              "      (mlp): Mlp(\n",
              "        (fc1): Conv2d(384, 768, kernel_size=(1, 1), stride=(1, 1))\n",
              "        (act): GELU(approximate='none')\n",
              "        (drop1): Dropout(p=0, inplace=False)\n",
              "        (fc2): Conv2d(768, 192, kernel_size=(1, 1), stride=(1, 1))\n",
              "        (drop2): Dropout(p=0, inplace=False)\n",
              "      )\n",
              "      (pool): Identity()\n",
              "    )\n",
              "  )\n",
              "  (pos_drop): Dropout(p=0.0, inplace=False)\n",
              "  (network): ModuleList(\n",
              "    (0): Sequential(\n",
              "      (0): Outlooker(\n",
              "        (norm1): LayerNorm((192,), eps=1e-05, elementwise_affine=True)\n",
              "        (attn): OutlookAttention(\n",
              "          (v): Linear(in_features=192, out_features=192, bias=False)\n",
              "          (attn): Linear(in_features=192, out_features=486, bias=True)\n",
              "          (attn_drop): Dropout(p=0.0, inplace=False)\n",
              "          (proj): Linear(in_features=192, out_features=192, bias=True)\n",
              "          (proj_drop): Dropout(p=0.0, inplace=False)\n",
              "          (unfold): Unfold(kernel_size=3, dilation=1, padding=1, stride=2)\n",
              "          (pool): AvgPool2d(kernel_size=2, stride=2, padding=0)\n",
              "        )\n",
              "        (drop_path): Identity()\n",
              "        (norm2): LayerNorm((192,), eps=1e-05, elementwise_affine=True)\n",
              "        (mlp): Mlp(\n",
              "          (fc1): Linear(in_features=192, out_features=576, bias=True)\n",
              "          (act): GELU(approximate='none')\n",
              "          (drop1): Dropout(p=0.0, inplace=False)\n",
              "          (fc2): Linear(in_features=576, out_features=192, bias=True)\n",
              "          (drop2): Dropout(p=0.0, inplace=False)\n",
              "        )\n",
              "      )\n",
              "      (1): Outlooker(\n",
              "        (norm1): LayerNorm((192,), eps=1e-05, elementwise_affine=True)\n",
              "        (attn): OutlookAttention(\n",
              "          (v): Linear(in_features=192, out_features=192, bias=False)\n",
              "          (attn): Linear(in_features=192, out_features=486, bias=True)\n",
              "          (attn_drop): Dropout(p=0.0, inplace=False)\n",
              "          (proj): Linear(in_features=192, out_features=192, bias=True)\n",
              "          (proj_drop): Dropout(p=0.0, inplace=False)\n",
              "          (unfold): Unfold(kernel_size=3, dilation=1, padding=1, stride=2)\n",
              "          (pool): AvgPool2d(kernel_size=2, stride=2, padding=0)\n",
              "        )\n",
              "        (drop_path): Identity()\n",
              "        (norm2): LayerNorm((192,), eps=1e-05, elementwise_affine=True)\n",
              "        (mlp): Mlp(\n",
              "          (fc1): Linear(in_features=192, out_features=576, bias=True)\n",
              "          (act): GELU(approximate='none')\n",
              "          (drop1): Dropout(p=0.0, inplace=False)\n",
              "          (fc2): Linear(in_features=576, out_features=192, bias=True)\n",
              "          (drop2): Dropout(p=0.0, inplace=False)\n",
              "        )\n",
              "      )\n",
              "      (2): Outlooker(\n",
              "        (norm1): LayerNorm((192,), eps=1e-05, elementwise_affine=True)\n",
              "        (attn): OutlookAttention(\n",
              "          (v): Linear(in_features=192, out_features=192, bias=False)\n",
              "          (attn): Linear(in_features=192, out_features=486, bias=True)\n",
              "          (attn_drop): Dropout(p=0.0, inplace=False)\n",
              "          (proj): Linear(in_features=192, out_features=192, bias=True)\n",
              "          (proj_drop): Dropout(p=0.0, inplace=False)\n",
              "          (unfold): Unfold(kernel_size=3, dilation=1, padding=1, stride=2)\n",
              "          (pool): AvgPool2d(kernel_size=2, stride=2, padding=0)\n",
              "        )\n",
              "        (drop_path): Identity()\n",
              "        (norm2): LayerNorm((192,), eps=1e-05, elementwise_affine=True)\n",
              "        (mlp): Mlp(\n",
              "          (fc1): Linear(in_features=192, out_features=576, bias=True)\n",
              "          (act): GELU(approximate='none')\n",
              "          (drop1): Dropout(p=0.0, inplace=False)\n",
              "          (fc2): Linear(in_features=576, out_features=192, bias=True)\n",
              "          (drop2): Dropout(p=0.0, inplace=False)\n",
              "        )\n",
              "      )\n",
              "      (3): Outlooker(\n",
              "        (norm1): LayerNorm((192,), eps=1e-05, elementwise_affine=True)\n",
              "        (attn): OutlookAttention(\n",
              "          (v): Linear(in_features=192, out_features=192, bias=False)\n",
              "          (attn): Linear(in_features=192, out_features=486, bias=True)\n",
              "          (attn_drop): Dropout(p=0.0, inplace=False)\n",
              "          (proj): Linear(in_features=192, out_features=192, bias=True)\n",
              "          (proj_drop): Dropout(p=0.0, inplace=False)\n",
              "          (unfold): Unfold(kernel_size=3, dilation=1, padding=1, stride=2)\n",
              "          (pool): AvgPool2d(kernel_size=2, stride=2, padding=0)\n",
              "        )\n",
              "        (drop_path): Identity()\n",
              "        (norm2): LayerNorm((192,), eps=1e-05, elementwise_affine=True)\n",
              "        (mlp): Mlp(\n",
              "          (fc1): Linear(in_features=192, out_features=576, bias=True)\n",
              "          (act): GELU(approximate='none')\n",
              "          (drop1): Dropout(p=0.0, inplace=False)\n",
              "          (fc2): Linear(in_features=576, out_features=192, bias=True)\n",
              "          (drop2): Dropout(p=0.0, inplace=False)\n",
              "        )\n",
              "      )\n",
              "    )\n",
              "    (1): Downsample(\n",
              "      (proj): Conv2d(192, 384, kernel_size=(2, 2), stride=(2, 2))\n",
              "    )\n",
              "    (2): Sequential(\n",
              "      (0): Transformer(\n",
              "        (norm1): LayerNorm((384,), eps=1e-05, elementwise_affine=True)\n",
              "        (attn): Attention(\n",
              "          (qkv): Linear(in_features=384, out_features=1152, bias=False)\n",
              "          (attn_drop): Dropout(p=0.0, inplace=False)\n",
              "          (proj): Linear(in_features=384, out_features=384, bias=True)\n",
              "          (proj_drop): Dropout(p=0.0, inplace=False)\n",
              "        )\n",
              "        (drop_path): Identity()\n",
              "        (norm2): LayerNorm((384,), eps=1e-05, elementwise_affine=True)\n",
              "        (mlp): Mlp(\n",
              "          (fc1): Linear(in_features=384, out_features=1152, bias=True)\n",
              "          (act): GELU(approximate='none')\n",
              "          (drop1): Dropout(p=0.0, inplace=False)\n",
              "          (fc2): Linear(in_features=1152, out_features=384, bias=True)\n",
              "          (drop2): Dropout(p=0.0, inplace=False)\n",
              "        )\n",
              "      )\n",
              "      (1): Transformer(\n",
              "        (norm1): LayerNorm((384,), eps=1e-05, elementwise_affine=True)\n",
              "        (attn): Attention(\n",
              "          (qkv): Linear(in_features=384, out_features=1152, bias=False)\n",
              "          (attn_drop): Dropout(p=0.0, inplace=False)\n",
              "          (proj): Linear(in_features=384, out_features=384, bias=True)\n",
              "          (proj_drop): Dropout(p=0.0, inplace=False)\n",
              "        )\n",
              "        (drop_path): Identity()\n",
              "        (norm2): LayerNorm((384,), eps=1e-05, elementwise_affine=True)\n",
              "        (mlp): Mlp(\n",
              "          (fc1): Linear(in_features=384, out_features=1152, bias=True)\n",
              "          (act): GELU(approximate='none')\n",
              "          (drop1): Dropout(p=0.0, inplace=False)\n",
              "          (fc2): Linear(in_features=1152, out_features=384, bias=True)\n",
              "          (drop2): Dropout(p=0.0, inplace=False)\n",
              "        )\n",
              "      )\n",
              "      (2): Transformer(\n",
              "        (norm1): LayerNorm((384,), eps=1e-05, elementwise_affine=True)\n",
              "        (attn): Attention(\n",
              "          (qkv): Linear(in_features=384, out_features=1152, bias=False)\n",
              "          (attn_drop): Dropout(p=0.0, inplace=False)\n",
              "          (proj): Linear(in_features=384, out_features=384, bias=True)\n",
              "          (proj_drop): Dropout(p=0.0, inplace=False)\n",
              "        )\n",
              "        (drop_path): Identity()\n",
              "        (norm2): LayerNorm((384,), eps=1e-05, elementwise_affine=True)\n",
              "        (mlp): Mlp(\n",
              "          (fc1): Linear(in_features=384, out_features=1152, bias=True)\n",
              "          (act): GELU(approximate='none')\n",
              "          (drop1): Dropout(p=0.0, inplace=False)\n",
              "          (fc2): Linear(in_features=1152, out_features=384, bias=True)\n",
              "          (drop2): Dropout(p=0.0, inplace=False)\n",
              "        )\n",
              "      )\n",
              "      (3): Transformer(\n",
              "        (norm1): LayerNorm((384,), eps=1e-05, elementwise_affine=True)\n",
              "        (attn): Attention(\n",
              "          (qkv): Linear(in_features=384, out_features=1152, bias=False)\n",
              "          (attn_drop): Dropout(p=0.0, inplace=False)\n",
              "          (proj): Linear(in_features=384, out_features=384, bias=True)\n",
              "          (proj_drop): Dropout(p=0.0, inplace=False)\n",
              "        )\n",
              "        (drop_path): Identity()\n",
              "        (norm2): LayerNorm((384,), eps=1e-05, elementwise_affine=True)\n",
              "        (mlp): Mlp(\n",
              "          (fc1): Linear(in_features=384, out_features=1152, bias=True)\n",
              "          (act): GELU(approximate='none')\n",
              "          (drop1): Dropout(p=0.0, inplace=False)\n",
              "          (fc2): Linear(in_features=1152, out_features=384, bias=True)\n",
              "          (drop2): Dropout(p=0.0, inplace=False)\n",
              "        )\n",
              "      )\n",
              "    )\n",
              "    (3): Sequential(\n",
              "      (0): Transformer(\n",
              "        (norm1): LayerNorm((384,), eps=1e-05, elementwise_affine=True)\n",
              "        (attn): Attention(\n",
              "          (qkv): Linear(in_features=384, out_features=1152, bias=False)\n",
              "          (attn_drop): Dropout(p=0.0, inplace=False)\n",
              "          (proj): Linear(in_features=384, out_features=384, bias=True)\n",
              "          (proj_drop): Dropout(p=0.0, inplace=False)\n",
              "        )\n",
              "        (drop_path): Identity()\n",
              "        (norm2): LayerNorm((384,), eps=1e-05, elementwise_affine=True)\n",
              "        (mlp): Mlp(\n",
              "          (fc1): Linear(in_features=384, out_features=1152, bias=True)\n",
              "          (act): GELU(approximate='none')\n",
              "          (drop1): Dropout(p=0.0, inplace=False)\n",
              "          (fc2): Linear(in_features=1152, out_features=384, bias=True)\n",
              "          (drop2): Dropout(p=0.0, inplace=False)\n",
              "        )\n",
              "      )\n",
              "      (1): Transformer(\n",
              "        (norm1): LayerNorm((384,), eps=1e-05, elementwise_affine=True)\n",
              "        (attn): Attention(\n",
              "          (qkv): Linear(in_features=384, out_features=1152, bias=False)\n",
              "          (attn_drop): Dropout(p=0.0, inplace=False)\n",
              "          (proj): Linear(in_features=384, out_features=384, bias=True)\n",
              "          (proj_drop): Dropout(p=0.0, inplace=False)\n",
              "        )\n",
              "        (drop_path): Identity()\n",
              "        (norm2): LayerNorm((384,), eps=1e-05, elementwise_affine=True)\n",
              "        (mlp): Mlp(\n",
              "          (fc1): Linear(in_features=384, out_features=1152, bias=True)\n",
              "          (act): GELU(approximate='none')\n",
              "          (drop1): Dropout(p=0.0, inplace=False)\n",
              "          (fc2): Linear(in_features=1152, out_features=384, bias=True)\n",
              "          (drop2): Dropout(p=0.0, inplace=False)\n",
              "        )\n",
              "      )\n",
              "      (2): Transformer(\n",
              "        (norm1): LayerNorm((384,), eps=1e-05, elementwise_affine=True)\n",
              "        (attn): Attention(\n",
              "          (qkv): Linear(in_features=384, out_features=1152, bias=False)\n",
              "          (attn_drop): Dropout(p=0.0, inplace=False)\n",
              "          (proj): Linear(in_features=384, out_features=384, bias=True)\n",
              "          (proj_drop): Dropout(p=0.0, inplace=False)\n",
              "        )\n",
              "        (drop_path): Identity()\n",
              "        (norm2): LayerNorm((384,), eps=1e-05, elementwise_affine=True)\n",
              "        (mlp): Mlp(\n",
              "          (fc1): Linear(in_features=384, out_features=1152, bias=True)\n",
              "          (act): GELU(approximate='none')\n",
              "          (drop1): Dropout(p=0.0, inplace=False)\n",
              "          (fc2): Linear(in_features=1152, out_features=384, bias=True)\n",
              "          (drop2): Dropout(p=0.0, inplace=False)\n",
              "        )\n",
              "      )\n",
              "      (3): Transformer(\n",
              "        (norm1): LayerNorm((384,), eps=1e-05, elementwise_affine=True)\n",
              "        (attn): Attention(\n",
              "          (qkv): Linear(in_features=384, out_features=1152, bias=False)\n",
              "          (attn_drop): Dropout(p=0.0, inplace=False)\n",
              "          (proj): Linear(in_features=384, out_features=384, bias=True)\n",
              "          (proj_drop): Dropout(p=0.0, inplace=False)\n",
              "        )\n",
              "        (drop_path): Identity()\n",
              "        (norm2): LayerNorm((384,), eps=1e-05, elementwise_affine=True)\n",
              "        (mlp): Mlp(\n",
              "          (fc1): Linear(in_features=384, out_features=1152, bias=True)\n",
              "          (act): GELU(approximate='none')\n",
              "          (drop1): Dropout(p=0.0, inplace=False)\n",
              "          (fc2): Linear(in_features=1152, out_features=384, bias=True)\n",
              "          (drop2): Dropout(p=0.0, inplace=False)\n",
              "        )\n",
              "      )\n",
              "      (4): Transformer(\n",
              "        (norm1): LayerNorm((384,), eps=1e-05, elementwise_affine=True)\n",
              "        (attn): Attention(\n",
              "          (qkv): Linear(in_features=384, out_features=1152, bias=False)\n",
              "          (attn_drop): Dropout(p=0.0, inplace=False)\n",
              "          (proj): Linear(in_features=384, out_features=384, bias=True)\n",
              "          (proj_drop): Dropout(p=0.0, inplace=False)\n",
              "        )\n",
              "        (drop_path): Identity()\n",
              "        (norm2): LayerNorm((384,), eps=1e-05, elementwise_affine=True)\n",
              "        (mlp): Mlp(\n",
              "          (fc1): Linear(in_features=384, out_features=1152, bias=True)\n",
              "          (act): GELU(approximate='none')\n",
              "          (drop1): Dropout(p=0.0, inplace=False)\n",
              "          (fc2): Linear(in_features=1152, out_features=384, bias=True)\n",
              "          (drop2): Dropout(p=0.0, inplace=False)\n",
              "        )\n",
              "      )\n",
              "      (5): Transformer(\n",
              "        (norm1): LayerNorm((384,), eps=1e-05, elementwise_affine=True)\n",
              "        (attn): Attention(\n",
              "          (qkv): Linear(in_features=384, out_features=1152, bias=False)\n",
              "          (attn_drop): Dropout(p=0.0, inplace=False)\n",
              "          (proj): Linear(in_features=384, out_features=384, bias=True)\n",
              "          (proj_drop): Dropout(p=0.0, inplace=False)\n",
              "        )\n",
              "        (drop_path): Identity()\n",
              "        (norm2): LayerNorm((384,), eps=1e-05, elementwise_affine=True)\n",
              "        (mlp): Mlp(\n",
              "          (fc1): Linear(in_features=384, out_features=1152, bias=True)\n",
              "          (act): GELU(approximate='none')\n",
              "          (drop1): Dropout(p=0.0, inplace=False)\n",
              "          (fc2): Linear(in_features=1152, out_features=384, bias=True)\n",
              "          (drop2): Dropout(p=0.0, inplace=False)\n",
              "        )\n",
              "      )\n",
              "      (6): Transformer(\n",
              "        (norm1): LayerNorm((384,), eps=1e-05, elementwise_affine=True)\n",
              "        (attn): Attention(\n",
              "          (qkv): Linear(in_features=384, out_features=1152, bias=False)\n",
              "          (attn_drop): Dropout(p=0.0, inplace=False)\n",
              "          (proj): Linear(in_features=384, out_features=384, bias=True)\n",
              "          (proj_drop): Dropout(p=0.0, inplace=False)\n",
              "        )\n",
              "        (drop_path): Identity()\n",
              "        (norm2): LayerNorm((384,), eps=1e-05, elementwise_affine=True)\n",
              "        (mlp): Mlp(\n",
              "          (fc1): Linear(in_features=384, out_features=1152, bias=True)\n",
              "          (act): GELU(approximate='none')\n",
              "          (drop1): Dropout(p=0.0, inplace=False)\n",
              "          (fc2): Linear(in_features=1152, out_features=384, bias=True)\n",
              "          (drop2): Dropout(p=0.0, inplace=False)\n",
              "        )\n",
              "      )\n",
              "      (7): Transformer(\n",
              "        (norm1): LayerNorm((384,), eps=1e-05, elementwise_affine=True)\n",
              "        (attn): Attention(\n",
              "          (qkv): Linear(in_features=384, out_features=1152, bias=False)\n",
              "          (attn_drop): Dropout(p=0.0, inplace=False)\n",
              "          (proj): Linear(in_features=384, out_features=384, bias=True)\n",
              "          (proj_drop): Dropout(p=0.0, inplace=False)\n",
              "        )\n",
              "        (drop_path): Identity()\n",
              "        (norm2): LayerNorm((384,), eps=1e-05, elementwise_affine=True)\n",
              "        (mlp): Mlp(\n",
              "          (fc1): Linear(in_features=384, out_features=1152, bias=True)\n",
              "          (act): GELU(approximate='none')\n",
              "          (drop1): Dropout(p=0.0, inplace=False)\n",
              "          (fc2): Linear(in_features=1152, out_features=384, bias=True)\n",
              "          (drop2): Dropout(p=0.0, inplace=False)\n",
              "        )\n",
              "      )\n",
              "    )\n",
              "    (4): Sequential(\n",
              "      (0): Transformer(\n",
              "        (norm1): LayerNorm((384,), eps=1e-05, elementwise_affine=True)\n",
              "        (attn): Attention(\n",
              "          (qkv): Linear(in_features=384, out_features=1152, bias=False)\n",
              "          (attn_drop): Dropout(p=0.0, inplace=False)\n",
              "          (proj): Linear(in_features=384, out_features=384, bias=True)\n",
              "          (proj_drop): Dropout(p=0.0, inplace=False)\n",
              "        )\n",
              "        (drop_path): Identity()\n",
              "        (norm2): LayerNorm((384,), eps=1e-05, elementwise_affine=True)\n",
              "        (mlp): Mlp(\n",
              "          (fc1): Linear(in_features=384, out_features=1152, bias=True)\n",
              "          (act): GELU(approximate='none')\n",
              "          (drop1): Dropout(p=0.0, inplace=False)\n",
              "          (fc2): Linear(in_features=1152, out_features=384, bias=True)\n",
              "          (drop2): Dropout(p=0.0, inplace=False)\n",
              "        )\n",
              "      )\n",
              "      (1): Transformer(\n",
              "        (norm1): LayerNorm((384,), eps=1e-05, elementwise_affine=True)\n",
              "        (attn): Attention(\n",
              "          (qkv): Linear(in_features=384, out_features=1152, bias=False)\n",
              "          (attn_drop): Dropout(p=0.0, inplace=False)\n",
              "          (proj): Linear(in_features=384, out_features=384, bias=True)\n",
              "          (proj_drop): Dropout(p=0.0, inplace=False)\n",
              "        )\n",
              "        (drop_path): Identity()\n",
              "        (norm2): LayerNorm((384,), eps=1e-05, elementwise_affine=True)\n",
              "        (mlp): Mlp(\n",
              "          (fc1): Linear(in_features=384, out_features=1152, bias=True)\n",
              "          (act): GELU(approximate='none')\n",
              "          (drop1): Dropout(p=0.0, inplace=False)\n",
              "          (fc2): Linear(in_features=1152, out_features=384, bias=True)\n",
              "          (drop2): Dropout(p=0.0, inplace=False)\n",
              "        )\n",
              "      )\n",
              "    )\n",
              "  )\n",
              "  (post_network): ModuleList(\n",
              "    (0-1): 2 x ClassBlock(\n",
              "      (norm1): LayerNorm((384,), eps=1e-05, elementwise_affine=True)\n",
              "      (attn): ClassAttention(\n",
              "        (kv): Linear(in_features=384, out_features=768, bias=False)\n",
              "        (q): Linear(in_features=384, out_features=384, bias=False)\n",
              "        (attn_drop): Dropout(p=0.0, inplace=False)\n",
              "        (proj): Linear(in_features=384, out_features=384, bias=True)\n",
              "        (proj_drop): Dropout(p=0.0, inplace=False)\n",
              "      )\n",
              "      (drop_path): Identity()\n",
              "      (norm2): LayerNorm((384,), eps=1e-05, elementwise_affine=True)\n",
              "      (mlp): Mlp(\n",
              "        (fc1): Linear(in_features=384, out_features=1152, bias=True)\n",
              "        (act): GELU(approximate='none')\n",
              "        (drop1): Dropout(p=0.0, inplace=False)\n",
              "        (fc2): Linear(in_features=1152, out_features=384, bias=True)\n",
              "        (drop2): Dropout(p=0.0, inplace=False)\n",
              "      )\n",
              "    )\n",
              "  )\n",
              "  (aux_head): Linear(in_features=384, out_features=3, bias=True)\n",
              "  (norm): LayerNorm((384,), eps=1e-05, elementwise_affine=True)\n",
              "  (head): Linear(in_features=384, out_features=3, bias=True)\n",
              ")"
            ]
          },
          "metadata": {},
          "execution_count": 14
        }
      ],
      "source": [
        "from mivolo.model.mi_volo import MiVOLO\n",
        "new_model = MiVOLO(\"/content/Masked_Age_Detection/models/new_mivolo.pth.tar\",\"cuda\")\n",
        "new_model = new_model.model_load()\n",
        "# Set the model to evaluation mode\n",
        "new_model.eval()"
      ]
    },
    {
      "cell_type": "code",
      "execution_count": 15,
      "metadata": {
        "colab": {
          "base_uri": "https://localhost:8080/"
        },
        "id": "SPXTJAgAQILu",
        "outputId": "aaefad5b-b908-488b-cb0e-ec09c58112b7"
      },
      "outputs": [
        {
          "output_type": "stream",
          "name": "stdout",
          "text": [
            "First Layer: PatchEmbed(\n",
            "  (conv1): Sequential(\n",
            "    (0): Conv2d(3, 64, kernel_size=(7, 7), stride=(2, 2), padding=(3, 3), bias=False)\n",
            "    (1): BatchNorm2d(64, eps=1e-05, momentum=0.1, affine=True, track_running_stats=True)\n",
            "    (2): ReLU(inplace=True)\n",
            "    (3): Conv2d(64, 64, kernel_size=(3, 3), stride=(1, 1), padding=(1, 1), bias=False)\n",
            "    (4): BatchNorm2d(64, eps=1e-05, momentum=0.1, affine=True, track_running_stats=True)\n",
            "    (5): ReLU(inplace=True)\n",
            "    (6): Conv2d(64, 64, kernel_size=(3, 3), stride=(1, 1), padding=(1, 1), bias=False)\n",
            "    (7): BatchNorm2d(64, eps=1e-05, momentum=0.1, affine=True, track_running_stats=True)\n",
            "    (8): ReLU(inplace=True)\n",
            "  )\n",
            "  (conv2): Sequential(\n",
            "    (0): Conv2d(3, 64, kernel_size=(7, 7), stride=(2, 2), padding=(3, 3), bias=False)\n",
            "    (1): BatchNorm2d(64, eps=1e-05, momentum=0.1, affine=True, track_running_stats=True)\n",
            "    (2): ReLU(inplace=True)\n",
            "    (3): Conv2d(64, 64, kernel_size=(3, 3), stride=(1, 1), padding=(1, 1), bias=False)\n",
            "    (4): BatchNorm2d(64, eps=1e-05, momentum=0.1, affine=True, track_running_stats=True)\n",
            "    (5): ReLU(inplace=True)\n",
            "    (6): Conv2d(64, 64, kernel_size=(3, 3), stride=(1, 1), padding=(1, 1), bias=False)\n",
            "    (7): BatchNorm2d(64, eps=1e-05, momentum=0.1, affine=True, track_running_stats=True)\n",
            "    (8): ReLU(inplace=True)\n",
            "  )\n",
            "  (proj1): Conv2d(64, 192, kernel_size=(4, 4), stride=(4, 4))\n",
            "  (proj2): Conv2d(64, 192, kernel_size=(4, 4), stride=(4, 4))\n",
            "  (maskedMap): CrossBottleneckAttn(\n",
            "    (qkv_f): Conv2d(192, 576, kernel_size=(1, 1), stride=(1, 1), bias=False)\n",
            "    (qkv_p): Conv2d(192, 576, kernel_size=(1, 1), stride=(1, 1), bias=False)\n",
            "    (pos_embed): PosEmbedRel()\n",
            "    (norm): LayerNorm((384, 28, 28), eps=1e-05, elementwise_affine=True)\n",
            "    (mlp): Mlp(\n",
            "      (fc1): Conv2d(384, 768, kernel_size=(1, 1), stride=(1, 1))\n",
            "      (act): GELU(approximate='none')\n",
            "      (drop1): Dropout(p=0, inplace=False)\n",
            "      (fc2): Conv2d(768, 192, kernel_size=(1, 1), stride=(1, 1))\n",
            "      (drop2): Dropout(p=0, inplace=False)\n",
            "    )\n",
            "    (pool): Identity()\n",
            "  )\n",
            "  (nonMaskedMap): CrossBottleneckAttn(\n",
            "    (qkv_f): Conv2d(192, 576, kernel_size=(1, 1), stride=(1, 1), bias=False)\n",
            "    (qkv_p): Conv2d(192, 576, kernel_size=(1, 1), stride=(1, 1), bias=False)\n",
            "    (pos_embed): PosEmbedRel()\n",
            "    (norm): LayerNorm((384, 28, 28), eps=1e-05, elementwise_affine=True)\n",
            "    (mlp): Mlp(\n",
            "      (fc1): Conv2d(384, 768, kernel_size=(1, 1), stride=(1, 1))\n",
            "      (act): GELU(approximate='none')\n",
            "      (drop1): Dropout(p=0, inplace=False)\n",
            "      (fc2): Conv2d(768, 192, kernel_size=(1, 1), stride=(1, 1))\n",
            "      (drop2): Dropout(p=0, inplace=False)\n",
            "    )\n",
            "    (pool): Identity()\n",
            "  )\n",
            ")\n"
          ]
        }
      ],
      "source": [
        "first_layer = next(new_model.children())\n",
        "print(\"First Layer:\", first_layer)"
      ]
    },
    {
      "cell_type": "code",
      "execution_count": 16,
      "metadata": {
        "colab": {
          "base_uri": "https://localhost:8080/"
        },
        "id": "ZPz0pT8RSCmw",
        "outputId": "d65c8f3c-e1c0-4e42-8db4-9da037538cbe"
      },
      "outputs": [
        {
          "output_type": "stream",
          "name": "stdout",
          "text": [
            "Model output: tensor([[ 0.4893, -0.5127, -0.1047]], device='cuda:0', dtype=torch.float16, grad_fn=<AddBackward0>)\n"
          ]
        }
      ],
      "source": [
        "# Create random input tensor for testing\n",
        "batch_size = 1  # You can change this to your desired batch size\n",
        "channels = 6  # Assuming RGB images\n",
        "height = 224\n",
        "width = 224\n",
        "random_input = torch.rand((batch_size, channels, height, width),dtype=torch.float16).cuda()\n",
        "output = new_model(random_input)\n",
        "print(\"Model output:\", output)"
      ]
    },
    {
      "cell_type": "code",
      "execution_count": 17,
      "metadata": {
        "colab": {
          "base_uri": "https://localhost:8080/"
        },
        "id": "bqkQQ7gNwmm-",
        "outputId": "28c1a5b3-c46f-4bb2-a178-b57452661c04"
      },
      "outputs": [
        {
          "output_type": "stream",
          "name": "stdout",
          "text": [
            "Downloading...\n",
            "From: https://drive.google.com/uc?id=10P5lR_4qibNonuKMeOfEyTEiCfvszdqD\n",
            "To: /content/Masked_Age_Detection/test.png\n",
            "\r  0% 0.00/36.2k [00:00<?, ?B/s]\r100% 36.2k/36.2k [00:00<00:00, 60.1MB/s]\n"
          ]
        }
      ],
      "source": [
        "!gdown https://drive.google.com/uc?id=10P5lR_4qibNonuKMeOfEyTEiCfvszdqD"
      ]
    },
    {
      "cell_type": "code",
      "execution_count": 18,
      "metadata": {
        "colab": {
          "base_uri": "https://localhost:8080/",
          "height": 468
        },
        "id": "2s99qijYhqoG",
        "outputId": "53a26ec4-e26b-4e05-bda3-2841093904b4"
      },
      "outputs": [
        {
          "output_type": "display_data",
          "data": {
            "text/plain": [
              "<Figure size 1000x500 with 2 Axes>"
            ],
            "image/png": "[encoded data removed]"
          },
          "metadata": {}
        }
      ],
      "source": [
        "import cv2\n",
        "import torch\n",
        "import torchvision.transforms as transforms\n",
        "import numpy as np\n",
        "import matplotlib.pyplot as plt\n",
        "\n",
        "# Load and preprocess the first image using OpenCV\n",
        "image_path1 = \"test.png\"\n",
        "image1 = cv2.imread(image_path1)\n",
        "image1 = cv2.cvtColor(image1, cv2.COLOR_BGR2RGB)  # Convert BGR to RGB\n",
        "\n",
        "# Load and preprocess the second image using OpenCV\n",
        "image_path2 = \"test.png\"  # Replace with the path to your second image\n",
        "image2 = cv2.imread(image_path2)\n",
        "image2 = cv2.cvtColor(image2, cv2.COLOR_BGR2RGB)  # Convert BGR to RGB\n",
        "\n",
        "# Ensure both images have the same dimensions\n",
        "image2 = cv2.resize(image2, (image1.shape[1], image1.shape[0]))\n",
        "\n",
        "# Display the original images\n",
        "fig, axes = plt.subplots(1, 2, figsize=(10, 5))\n",
        "\n",
        "axes[0].imshow(image1)\n",
        "axes[0].set_title('Image 1')\n",
        "\n",
        "axes[1].imshow(image2)\n",
        "axes[1].set_title('Image 2')\n",
        "\n",
        "plt.show()\n",
        "\n"
      ]
    },
    {
      "cell_type": "code",
      "execution_count": 19,
      "metadata": {
        "colab": {
          "base_uri": "https://localhost:8080/"
        },
        "id": "r0ZdfC1aeK-2",
        "outputId": "bdb5e306-100e-43a3-d835-e1549bc438f0"
      },
      "outputs": [
        {
          "output_type": "stream",
          "name": "stdout",
          "text": [
            "Concatenated Image Shape: (147, 122, 6)\n",
            "Final Input Tensor Shape: torch.Size([1, 6, 224, 224])\n",
            "Model Output Shape: torch.Size([1, 3])\n",
            "Model Output: tensor([[-2.9316,  2.9336, -0.1633]], device='cuda:0', dtype=torch.float16, grad_fn=<AddBackward0>)\n"
          ]
        }
      ],
      "source": [
        "import cv2\n",
        "import torch\n",
        "import torchvision.transforms as transforms\n",
        "import numpy as np\n",
        "\n",
        "# Load and preprocess the first image using OpenCV\n",
        "image_path1 = \"test.png\"\n",
        "image1 = cv2.imread(image_path1)\n",
        "image1 = cv2.cvtColor(image1, cv2.COLOR_BGR2RGB)  # Convert BGR to RGB\n",
        "\n",
        "# Load and preprocess the second image using OpenCV\n",
        "image_path2 = \"test.png\"  # Replace with the path to your second image\n",
        "image2 = cv2.imread(image_path2)\n",
        "image2 = cv2.cvtColor(image2, cv2.COLOR_BGR2RGB)  # Convert BGR to RGB\n",
        "\n",
        "# Ensure both images have the same dimensions\n",
        "image2 = cv2.resize(image2, (image1.shape[1], image1.shape[0]))\n",
        "\n",
        "# Concatenate the two images along the channel dimension\n",
        "concatenated_image = np.concatenate([image1, image2], axis=2)\n",
        "\n",
        "# Display the shape of the concatenated image\n",
        "print(\"Concatenated Image Shape:\", concatenated_image.shape)\n",
        "\n",
        "# Split the concatenated image into two separate images with 3 channels each\n",
        "image1_part = concatenated_image[:, :, :3]\n",
        "image2_part = concatenated_image[:, :, 3:]\n",
        "\n",
        "# Define a transformation to match the model's expected input\n",
        "transform = transforms.Compose([\n",
        "    transforms.ToPILImage(),\n",
        "    transforms.Resize((height, width)),\n",
        "    transforms.ToTensor(),\n",
        "])\n",
        "\n",
        "# Apply the transformation to each image\n",
        "input_tensor1 = transform(image1_part).unsqueeze(0)  # Add an extra dimension for batch size\n",
        "input_tensor2 = transform(image2_part).unsqueeze(0)  # Add an extra dimension for batch size\n",
        "\n",
        "# Concatenate the two input tensors along the channel dimension\n",
        "final_input_tensor = torch.cat([input_tensor1, input_tensor2], dim=1)\n",
        "final_input_tensor = final_input_tensor.to(device=\"cuda\",dtype=torch.float16)\n",
        "\n",
        "# Display the shape of the final input tensor\n",
        "print(\"Final Input Tensor Shape:\", final_input_tensor.shape)\n",
        "# print(\"dtype: \", final_input_tensor.dtype)\n",
        "\n",
        "# Forward pass through the model\n",
        "output = new_model(final_input_tensor)\n",
        "\n",
        "# Print the shape of the output tensor\n",
        "print(\"Model Output Shape:\", output.shape)\n",
        "print(\"Model Output:\", output)"
      ]
    },
    {
      "cell_type": "code",
      "execution_count": 20,
      "metadata": {
        "colab": {
          "base_uri": "https://localhost:8080/"
        },
        "id": "tq6EjJKCj9YW",
        "outputId": "06a74d33-86ff-49dc-d2a4-37699af8fdbf"
      },
      "outputs": [
        {
          "output_type": "stream",
          "name": "stdout",
          "text": [
            "age_output:  tensor([-0.1633], device='cuda:0', dtype=torch.float16, grad_fn=<SelectBackward0>)\n",
            "gender_output:  tensor([[0.0028, 0.9971]], device='cuda:0', dtype=torch.float16, grad_fn=<SoftmaxBackward0>)\n",
            "\tage: 32.65\n",
            "\tgender: female [99%]\n"
          ]
        }
      ],
      "source": [
        "def print_output(output):\n",
        "  age_output = output[:, 2]\n",
        "  print(\"age_output: \",age_output)\n",
        "  gender_output = output[:, :2].softmax(-1)\n",
        "  print(\"gender_output: \",gender_output)\n",
        "  gender_probs, gender_indx = gender_output.topk(1)\n",
        "\n",
        "  for index in range(output.shape[0]):\n",
        "\n",
        "      # get_age\n",
        "      age = age_output[index].item()\n",
        "      age = age * (95 - 1) + 48\n",
        "      age = round(age, 2)\n",
        "\n",
        "      print(f\"\\tage: {age}\")\n",
        "      gender = \"male\" if gender_indx[index].item() == 0 else \"female\"\n",
        "      print(f\"\\tgender: {gender} [{int(gender_probs[index].item() * 100)}%]\")\n",
        "print_output(output)"
      ]
    },
    {
      "cell_type": "code",
      "execution_count": 21,
      "metadata": {
        "colab": {
          "base_uri": "https://localhost:8080/"
        },
        "id": "AqvEUiVXRJdF",
        "outputId": "2b708b5c-9efa-4bd2-d70f-406c06d7622e"
      },
      "outputs": [
        {
          "output_type": "stream",
          "name": "stdout",
          "text": [
            "Random Input Tensor Shape: torch.Size([1, 6, 224, 224])\n"
          ]
        }
      ],
      "source": [
        "import torch\n",
        "\n",
        "# Assuming the model expects an input tensor of shape (batch_size, channels, height, width)\n",
        "batch_size = 1  # You can adjust the batch size as needed\n",
        "channels = 6  # RGB channels\n",
        "height = 224  # Adjust based on the expected height for your model\n",
        "width = 224  # Adjust based on the expected width for your model\n",
        "\n",
        "# Generate a random input tensor\n",
        "input_tensor = torch.randn(batch_size, channels, height, width, device=\"cuda\", dtype=torch.float16)\n",
        "\n",
        "# Print the shape of the input tensor\n",
        "print(\"Random Input Tensor Shape:\", input_tensor.shape)\n"
      ]
    },
    {
      "cell_type": "code",
      "execution_count": 22,
      "metadata": {
        "colab": {
          "base_uri": "https://localhost:8080/"
        },
        "id": "JjN1j_SfTSTq",
        "outputId": "d467646c-da7d-4296-c360-0573ac590311"
      },
      "outputs": [
        {
          "output_type": "stream",
          "name": "stdout",
          "text": [
            "Cloning into 'FaceMask_Agumentation'...\n",
            "remote: Enumerating objects: 83, done.\u001b[K\n",
            "remote: Counting objects: 100% (23/23), done.\u001b[K\n",
            "remote: Compressing objects: 100% (14/14), done.\u001b[K\n",
            "remote: Total 83 (delta 13), reused 17 (delta 9), pack-reused 60\u001b[K\n",
            "Receiving objects: 100% (83/83), 135.44 MiB | 5.56 MiB/s, done.\n",
            "Resolving deltas: 100% (30/30), done.\n",
            "Updating files: 100% (27/27), done.\n"
          ]
        }
      ],
      "source": [
        "!git clone https://github.com/khengyun/FaceMask_Agumentation.git"
      ]
    },
    {
      "cell_type": "code",
      "execution_count": 23,
      "metadata": {
        "colab": {
          "base_uri": "https://localhost:8080/"
        },
        "id": "mVZOVjqAT2vt",
        "outputId": "209ad488-69ba-4daf-8645-3f230b3dc9dc"
      },
      "outputs": [
        {
          "output_type": "stream",
          "name": "stdout",
          "text": [
            "/content/Masked_Age_Detection\n"
          ]
        }
      ],
      "source": [
        "!pwd"
      ]
    },
    {
      "cell_type": "code",
      "execution_count": 24,
      "metadata": {
        "id": "iqA6yYPvTYja"
      },
      "outputs": [],
      "source": [
        "!mv FaceMask_Agumentation/* .\n",
        "!rm -rf ./FaceMask_Agumentation"
      ]
    },
    {
      "cell_type": "code",
      "execution_count": 25,
      "metadata": {
        "colab": {
          "base_uri": "https://localhost:8080/"
        },
        "id": "tjqYXcIhVpNN",
        "outputId": "52dc7099-fdd7-40c5-d370-96e152a82b1c"
      },
      "outputs": [
        {
          "output_type": "stream",
          "name": "stdout",
          "text": [
            "Downloading...\n",
            "From: https://drive.google.com/uc?id=19NC_k_UUxDozQvG1mA4eL9_mGwSAomLx\n",
            "To: /content/Masked_Age_Detection/age_gender.csv\n",
            "100% 200M/200M [00:04<00:00, 46.1MB/s]\n"
          ]
        }
      ],
      "source": [
        "!gdown 19NC_k_UUxDozQvG1mA4eL9_mGwSAomLx"
      ]
    },
    {
      "cell_type": "markdown",
      "metadata": {
        "id": "Mr2yGiZ5dLxC"
      },
      "source": [
        "# import data\n"
      ]
    },
    {
      "cell_type": "code",
      "execution_count": 26,
      "metadata": {
        "id": "nTViE-6gdUeb"
      },
      "outputs": [],
      "source": [
        "import numpy as np # linear algebra\n",
        "import pandas as pd # data processing, CSV file I/O (e.g. pd.read_csv)\n",
        "import os\n",
        "# plotting\n",
        "import matplotlib.pyplot as plt\n",
        "import seaborn as sns\n",
        "import plotly.graph_objects as go\n",
        "import plotly.express as px\n",
        "\n",
        "import torch\n",
        "import torch.nn as nn\n",
        "import torch.nn.functional as F\n",
        "import torch.optim as optim\n",
        "from torchsummary import summary\n",
        "\n",
        "from torch.utils.data import Dataset, DataLoader\n",
        "import torchvision\n",
        "from torchvision import transforms\n",
        "from tqdm import tqdm\n",
        "\n",
        "from sklearn.model_selection import train_test_split\n",
        "from sklearn.metrics import accuracy_score, classification_report, confusion_matrix\n",
        "# Image processing\n",
        "from PIL import Image\n",
        "import cv2"
      ]
    },
    {
      "cell_type": "code",
      "execution_count": 41,
      "metadata": {
        "colab": {
          "base_uri": "https://localhost:8080/"
        },
        "id": "NfKcn40HdNje",
        "outputId": "b4d26869-63c1-4003-97d8-0e3191217735"
      },
      "outputs": [
        {
          "output_type": "stream",
          "name": "stdout",
          "text": [
            "       age  ethnicity  gender                        img_name  \\\n",
            "17814   49          1       1  20170113184406976.jpg.chip.jpg   \n",
            "15080   39          1       0  20170116001219696.jpg.chip.jpg   \n",
            "22829    8          4       0  20170103200427437.jpg.chip.jpg   \n",
            "16074   40          4       0  20170116213431880.jpg.chip.jpg   \n",
            "8972    27          0       0  20170119150234550.jpg.chip.jpg   \n",
            "\n",
            "                                                  pixels  \n",
            "17814  [[31.0, 32.0, 28.0, 27.0, 34.0, 38.0, 37.0, 40...  \n",
            "15080  [[186.0, 65.0, 38.0, 40.0, 36.0, 51.0, 64.0, 6...  \n",
            "22829  [[20.0, 23.0, 35.0, 34.0, 45.0, 65.0, 69.0, 72...  \n",
            "16074  [[6.0, 6.0, 13.0, 19.0, 15.0, 23.0, 41.0, 76.0...  \n",
            "8972   [[31.0, 31.0, 29.0, 51.0, 98.0, 136.0, 162.0, ...  \n"
          ]
        }
      ],
      "source": [
        "import pandas as pd\n",
        "\n",
        "# Đọc dữ liệu từ file CSV\n",
        "df = pd.read_csv('/content/Masked_Age_Detection/age_gender.csv')\n",
        "\n",
        "# Chuyển đổi cột \"pixels\" thành mảng 2D\n",
        "df[\"pixels\"] = df[\"pixels\"].apply(lambda x: np.reshape(np.array(x.split(), dtype=\"float32\"), (48, 48)))\n",
        "\n",
        "# Lấy ngẫu nhiên 200 dòng\n",
        "df = df.sample(n=200, random_state=42)  # random_state để giữ nguyên kết quả khi chạy lại mã\n",
        "\n",
        "# In ra 5 dòng đầu tiên của mẫu ngẫu nhiên\n",
        "print(df.head())\n"
      ]
    },
    {
      "cell_type": "code",
      "execution_count": 28,
      "metadata": {
        "colab": {
          "base_uri": "https://localhost:8080/"
        },
        "id": "WHCUMiKrdawj",
        "outputId": "ecba722f-f840-4015-ede9-e07dedf8d197"
      },
      "outputs": [
        {
          "output_type": "stream",
          "name": "stdout",
          "text": [
            "<class 'pandas.core.frame.DataFrame'>\n",
            "Int64Index: 200 entries, 17814 to 7376\n",
            "Data columns (total 5 columns):\n",
            " #   Column     Non-Null Count  Dtype \n",
            "---  ------     --------------  ----- \n",
            " 0   age        200 non-null    int64 \n",
            " 1   ethnicity  200 non-null    int64 \n",
            " 2   gender     200 non-null    int64 \n",
            " 3   img_name   200 non-null    object\n",
            " 4   pixels     200 non-null    object\n",
            "dtypes: int64(3), object(2)\n",
            "memory usage: 9.4+ KB\n"
          ]
        }
      ],
      "source": [
        "df.info()"
      ]
    },
    {
      "cell_type": "code",
      "execution_count": 29,
      "metadata": {
        "colab": {
          "base_uri": "https://localhost:8080/",
          "height": 542
        },
        "id": "nWeCe0pLder9",
        "outputId": "a4e80e02-6dbd-432d-952b-5ed2db79efcf"
      },
      "outputs": [
        {
          "output_type": "display_data",
          "data": {
            "text/html": [
              "<html>\n",
              "<head><meta charset=\"utf-8\" /></head>\n",
              "<body>\n",
              "    <div>            <script src=\"https://cdnjs.cloudflare.com/ajax/libs/mathjax/2.7.5/MathJax.js?config=TeX-AMS-MML_SVG\"></script><script type=\"text/javascript\">if (window.MathJax && window.MathJax.Hub && window.MathJax.Hub.Config) {window.MathJax.Hub.Config({SVG: {font: \"STIX-Web\"}});}</script>                <script type=\"text/javascript\">window.PlotlyConfig = {MathJaxConfig: 'local'};</script>\n",
              "        <script charset=\"utf-8\" src=\"https://cdn.plot.ly/plotly-2.24.1.min.js\"></script>                <div id=\"4a5a71fc-84db-48e7-a65a-a8a341fed606\" class=\"plotly-graph-div\" style=\"height:525px; width:100%;\"></div>            <script type=\"text/javascript\">                                    window.PLOTLYENV=window.PLOTLYENV || {};                                    if (document.getElementById(\"4a5a71fc-84db-48e7-a65a-a8a341fed606\")) {                    Plotly.newPlot(                        \"4a5a71fc-84db-48e7-a65a-a8a341fed606\",                        [{\"alignmentgroup\":\"True\",\"bingroup\":\"x\",\"hovertemplate\":\"gender=%{x}\\u003cbr\\u003ecount=%{y}\\u003cextra\\u003e\\u003c\\u002fextra\\u003e\",\"legendgroup\":\"\",\"marker\":{\"color\":\"#636efa\",\"pattern\":{\"shape\":\"\"}},\"name\":\"\",\"offsetgroup\":\"\",\"orientation\":\"v\",\"showlegend\":false,\"x\":[1,0,0,0,0,0,1,0,1,0,1,1,0,0,0,0,1,1,1,0,1,0,1,0,1,0,0,0,1,1,0,1,1,1,0,1,1,0,1,0,1,1,0,1,0,1,1,1,1,0,1,0,1,0,0,0,1,0,0,0,0,0,0,0,0,0,1,0,1,0,1,1,0,0,1,1,0,1,0,1,0,0,1,0,1,1,0,1,0,1,0,0,1,0,1,1,1,0,1,0,1,0,0,0,0,1,0,1,0,1,0,1,0,0,0,1,0,0,1,0,1,0,0,0,1,0,0,1,0,1,1,0,0,1,1,0,1,1,0,0,0,0,0,1,1,1,0,1,0,1,0,0,0,1,0,0,1,0,1,0,0,0,0,1,1,0,0,1,1,0,0,0,0,0,1,1,0,1,1,1,0,1,0,0,1,1,1,1,0,0,1,0,0,0,1,1,0,1,1,0],\"xaxis\":\"x\",\"yaxis\":\"y\",\"type\":\"histogram\"}],                        {\"template\":{\"data\":{\"histogram2dcontour\":[{\"type\":\"histogram2dcontour\",\"colorbar\":{\"outlinewidth\":0,\"ticks\":\"\"},\"colorscale\":[[0.0,\"#0d0887\"],[0.1111111111111111,\"#46039f\"],[0.2222222222222222,\"#7201a8\"],[0.3333333333333333,\"#9c179e\"],[0.4444444444444444,\"#bd3786\"],[0.5555555555555556,\"#d8576b\"],[0.6666666666666666,\"#ed7953\"],[0.7777777777777778,\"#fb9f3a\"],[0.8888888888888888,\"#fdca26\"],[1.0,\"#f0f921\"]]}],\"choropleth\":[{\"type\":\"choropleth\",\"colorbar\":{\"outlinewidth\":0,\"ticks\":\"\"}}],\"histogram2d\":[{\"type\":\"histogram2d\",\"colorbar\":{\"outlinewidth\":0,\"ticks\":\"\"},\"colorscale\":[[0.0,\"#0d0887\"],[0.1111111111111111,\"#46039f\"],[0.2222222222222222,\"#7201a8\"],[0.3333333333333333,\"#9c179e\"],[0.4444444444444444,\"#bd3786\"],[0.5555555555555556,\"#d8576b\"],[0.6666666666666666,\"#ed7953\"],[0.7777777777777778,\"#fb9f3a\"],[0.8888888888888888,\"#fdca26\"],[1.0,\"#f0f921\"]]}],\"heatmap\":[{\"type\":\"heatmap\",\"colorbar\":{\"outlinewidth\":0,\"ticks\":\"\"},\"colorscale\":[[0.0,\"#0d0887\"],[0.1111111111111111,\"#46039f\"],[0.2222222222222222,\"#7201a8\"],[0.3333333333333333,\"#9c179e\"],[0.4444444444444444,\"#bd3786\"],[0.5555555555555556,\"#d8576b\"],[0.6666666666666666,\"#ed7953\"],[0.7777777777777778,\"#fb9f3a\"],[0.8888888888888888,\"#fdca26\"],[1.0,\"#f0f921\"]]}],\"heatmapgl\":[{\"type\":\"heatmapgl\",\"colorbar\":{\"outlinewidth\":0,\"ticks\":\"\"},\"colorscale\":[[0.0,\"#0d0887\"],[0.1111111111111111,\"#46039f\"],[0.2222222222222222,\"#7201a8\"],[0.3333333333333333,\"#9c179e\"],[0.4444444444444444,\"#bd3786\"],[0.5555555555555556,\"#d8576b\"],[0.6666666666666666,\"#ed7953\"],[0.7777777777777778,\"#fb9f3a\"],[0.8888888888888888,\"#fdca26\"],[1.0,\"#f0f921\"]]}],\"contourcarpet\":[{\"type\":\"contourcarpet\",\"colorbar\":{\"outlinewidth\":0,\"ticks\":\"\"}}],\"contour\":[{\"type\":\"contour\",\"colorbar\":{\"outlinewidth\":0,\"ticks\":\"\"},\"colorscale\":[[0.0,\"#0d0887\"],[0.1111111111111111,\"#46039f\"],[0.2222222222222222,\"#7201a8\"],[0.3333333333333333,\"#9c179e\"],[0.4444444444444444,\"#bd3786\"],[0.5555555555555556,\"#d8576b\"],[0.6666666666666666,\"#ed7953\"],[0.7777777777777778,\"#fb9f3a\"],[0.8888888888888888,\"#fdca26\"],[1.0,\"#f0f921\"]]}],\"surface\":[{\"type\":\"surface\",\"colorbar\":{\"outlinewidth\":0,\"ticks\":\"\"},\"colorscale\":[[0.0,\"#0d0887\"],[0.1111111111111111,\"#46039f\"],[0.2222222222222222,\"#7201a8\"],[0.3333333333333333,\"#9c179e\"],[0.4444444444444444,\"#bd3786\"],[0.5555555555555556,\"#d8576b\"],[0.6666666666666666,\"#ed7953\"],[0.7777777777777778,\"#fb9f3a\"],[0.8888888888888888,\"#fdca26\"],[1.0,\"#f0f921\"]]}],\"mesh3d\":[{\"type\":\"mesh3d\",\"colorbar\":{\"outlinewidth\":0,\"ticks\":\"\"}}],\"scatter\":[{\"fillpattern\":{\"fillmode\":\"overlay\",\"size\":10,\"solidity\":0.2},\"type\":\"scatter\"}],\"parcoords\":[{\"type\":\"parcoords\",\"line\":{\"colorbar\":{\"outlinewidth\":0,\"ticks\":\"\"}}}],\"scatterpolargl\":[{\"type\":\"scatterpolargl\",\"marker\":{\"colorbar\":{\"outlinewidth\":0,\"ticks\":\"\"}}}],\"bar\":[{\"error_x\":{\"color\":\"#2a3f5f\"},\"error_y\":{\"color\":\"#2a3f5f\"},\"marker\":{\"line\":{\"color\":\"#E5ECF6\",\"width\":0.5},\"pattern\":{\"fillmode\":\"overlay\",\"size\":10,\"solidity\":0.2}},\"type\":\"bar\"}],\"scattergeo\":[{\"type\":\"scattergeo\",\"marker\":{\"colorbar\":{\"outlinewidth\":0,\"ticks\":\"\"}}}],\"scatterpolar\":[{\"type\":\"scatterpolar\",\"marker\":{\"colorbar\":{\"outlinewidth\":0,\"ticks\":\"\"}}}],\"histogram\":[{\"marker\":{\"pattern\":{\"fillmode\":\"overlay\",\"size\":10,\"solidity\":0.2}},\"type\":\"histogram\"}],\"scattergl\":[{\"type\":\"scattergl\",\"marker\":{\"colorbar\":{\"outlinewidth\":0,\"ticks\":\"\"}}}],\"scatter3d\":[{\"type\":\"scatter3d\",\"line\":{\"colorbar\":{\"outlinewidth\":0,\"ticks\":\"\"}},\"marker\":{\"colorbar\":{\"outlinewidth\":0,\"ticks\":\"\"}}}],\"scattermapbox\":[{\"type\":\"scattermapbox\",\"marker\":{\"colorbar\":{\"outlinewidth\":0,\"ticks\":\"\"}}}],\"scatterternary\":[{\"type\":\"scatterternary\",\"marker\":{\"colorbar\":{\"outlinewidth\":0,\"ticks\":\"\"}}}],\"scattercarpet\":[{\"type\":\"scattercarpet\",\"marker\":{\"colorbar\":{\"outlinewidth\":0,\"ticks\":\"\"}}}],\"carpet\":[{\"aaxis\":{\"endlinecolor\":\"#2a3f5f\",\"gridcolor\":\"white\",\"linecolor\":\"white\",\"minorgridcolor\":\"white\",\"startlinecolor\":\"#2a3f5f\"},\"baxis\":{\"endlinecolor\":\"#2a3f5f\",\"gridcolor\":\"white\",\"linecolor\":\"white\",\"minorgridcolor\":\"white\",\"startlinecolor\":\"#2a3f5f\"},\"type\":\"carpet\"}],\"table\":[{\"cells\":{\"fill\":{\"color\":\"#EBF0F8\"},\"line\":{\"color\":\"white\"}},\"header\":{\"fill\":{\"color\":\"#C8D4E3\"},\"line\":{\"color\":\"white\"}},\"type\":\"table\"}],\"barpolar\":[{\"marker\":{\"line\":{\"color\":\"#E5ECF6\",\"width\":0.5},\"pattern\":{\"fillmode\":\"overlay\",\"size\":10,\"solidity\":0.2}},\"type\":\"barpolar\"}],\"pie\":[{\"automargin\":true,\"type\":\"pie\"}]},\"layout\":{\"autotypenumbers\":\"strict\",\"colorway\":[\"#636efa\",\"#EF553B\",\"#00cc96\",\"#ab63fa\",\"#FFA15A\",\"#19d3f3\",\"#FF6692\",\"#B6E880\",\"#FF97FF\",\"#FECB52\"],\"font\":{\"color\":\"#2a3f5f\"},\"hovermode\":\"closest\",\"hoverlabel\":{\"align\":\"left\"},\"paper_bgcolor\":\"white\",\"plot_bgcolor\":\"#E5ECF6\",\"polar\":{\"bgcolor\":\"#E5ECF6\",\"angularaxis\":{\"gridcolor\":\"white\",\"linecolor\":\"white\",\"ticks\":\"\"},\"radialaxis\":{\"gridcolor\":\"white\",\"linecolor\":\"white\",\"ticks\":\"\"}},\"ternary\":{\"bgcolor\":\"#E5ECF6\",\"aaxis\":{\"gridcolor\":\"white\",\"linecolor\":\"white\",\"ticks\":\"\"},\"baxis\":{\"gridcolor\":\"white\",\"linecolor\":\"white\",\"ticks\":\"\"},\"caxis\":{\"gridcolor\":\"white\",\"linecolor\":\"white\",\"ticks\":\"\"}},\"coloraxis\":{\"colorbar\":{\"outlinewidth\":0,\"ticks\":\"\"}},\"colorscale\":{\"sequential\":[[0.0,\"#0d0887\"],[0.1111111111111111,\"#46039f\"],[0.2222222222222222,\"#7201a8\"],[0.3333333333333333,\"#9c179e\"],[0.4444444444444444,\"#bd3786\"],[0.5555555555555556,\"#d8576b\"],[0.6666666666666666,\"#ed7953\"],[0.7777777777777778,\"#fb9f3a\"],[0.8888888888888888,\"#fdca26\"],[1.0,\"#f0f921\"]],\"sequentialminus\":[[0.0,\"#0d0887\"],[0.1111111111111111,\"#46039f\"],[0.2222222222222222,\"#7201a8\"],[0.3333333333333333,\"#9c179e\"],[0.4444444444444444,\"#bd3786\"],[0.5555555555555556,\"#d8576b\"],[0.6666666666666666,\"#ed7953\"],[0.7777777777777778,\"#fb9f3a\"],[0.8888888888888888,\"#fdca26\"],[1.0,\"#f0f921\"]],\"diverging\":[[0,\"#8e0152\"],[0.1,\"#c51b7d\"],[0.2,\"#de77ae\"],[0.3,\"#f1b6da\"],[0.4,\"#fde0ef\"],[0.5,\"#f7f7f7\"],[0.6,\"#e6f5d0\"],[0.7,\"#b8e186\"],[0.8,\"#7fbc41\"],[0.9,\"#4d9221\"],[1,\"#276419\"]]},\"xaxis\":{\"gridcolor\":\"white\",\"linecolor\":\"white\",\"ticks\":\"\",\"title\":{\"standoff\":15},\"zerolinecolor\":\"white\",\"automargin\":true,\"zerolinewidth\":2},\"yaxis\":{\"gridcolor\":\"white\",\"linecolor\":\"white\",\"ticks\":\"\",\"title\":{\"standoff\":15},\"zerolinecolor\":\"white\",\"automargin\":true,\"zerolinewidth\":2},\"scene\":{\"xaxis\":{\"backgroundcolor\":\"#E5ECF6\",\"gridcolor\":\"white\",\"linecolor\":\"white\",\"showbackground\":true,\"ticks\":\"\",\"zerolinecolor\":\"white\",\"gridwidth\":2},\"yaxis\":{\"backgroundcolor\":\"#E5ECF6\",\"gridcolor\":\"white\",\"linecolor\":\"white\",\"showbackground\":true,\"ticks\":\"\",\"zerolinecolor\":\"white\",\"gridwidth\":2},\"zaxis\":{\"backgroundcolor\":\"#E5ECF6\",\"gridcolor\":\"white\",\"linecolor\":\"white\",\"showbackground\":true,\"ticks\":\"\",\"zerolinecolor\":\"white\",\"gridwidth\":2}},\"shapedefaults\":{\"line\":{\"color\":\"#2a3f5f\"}},\"annotationdefaults\":{\"arrowcolor\":\"#2a3f5f\",\"arrowhead\":0,\"arrowwidth\":1},\"geo\":{\"bgcolor\":\"white\",\"landcolor\":\"#E5ECF6\",\"subunitcolor\":\"white\",\"showland\":true,\"showlakes\":true,\"lakecolor\":\"white\"},\"title\":{\"x\":0.05},\"mapbox\":{\"style\":\"light\"}}},\"xaxis\":{\"anchor\":\"y\",\"domain\":[0.0,1.0],\"title\":{\"text\":\"gender\"}},\"yaxis\":{\"anchor\":\"x\",\"domain\":[0.0,1.0],\"title\":{\"text\":\"count\"}},\"legend\":{\"tracegroupgap\":0},\"margin\":{\"t\":60},\"barmode\":\"relative\",\"title\":{\"text\":\"Age Histogram\"}},                        {\"responsive\": true}                    ).then(function(){\n",
              "                            \n",
              "var gd = document.getElementById('4a5a71fc-84db-48e7-a65a-a8a341fed606');\n",
              "var x = new MutationObserver(function (mutations, observer) {{\n",
              "        var display = window.getComputedStyle(gd).display;\n",
              "        if (!display || display === 'none') {{\n",
              "            console.log([gd, 'removed!']);\n",
              "            Plotly.purge(gd);\n",
              "            observer.disconnect();\n",
              "        }}\n",
              "}});\n",
              "\n",
              "// Listen for the removal of the full notebook cells\n",
              "var notebookContainer = gd.closest('#notebook-container');\n",
              "if (notebookContainer) {{\n",
              "    x.observe(notebookContainer, {childList: true});\n",
              "}}\n",
              "\n",
              "// Listen for the clearing of the current output cell\n",
              "var outputEl = gd.closest('.output');\n",
              "if (outputEl) {{\n",
              "    x.observe(outputEl, {childList: true});\n",
              "}}\n",
              "\n",
              "                        })                };                            </script>        </div>\n",
              "</body>\n",
              "</html>"
            ]
          },
          "metadata": {}
        }
      ],
      "source": [
        "fig = px.histogram(df, x=\"gender\")\n",
        "fig.update_layout(title_text='Age Histogram')\n",
        "fig.show()"
      ]
    },
    {
      "cell_type": "code",
      "execution_count": 30,
      "metadata": {
        "id": "1zZ1cS10opXA"
      },
      "outputs": [],
      "source": [
        "eth_values_to_labels = { 0: \"White\", 1: \"Black\", 2: \"Asian\", 3: \"Indian\", 4: \"Hispanic\" }\n",
        "gender_values_to_labels = { 0: \"Male\", 1: \"Female\" }"
      ]
    },
    {
      "cell_type": "code",
      "execution_count": 31,
      "metadata": {
        "colab": {
          "base_uri": "https://localhost:8080/",
          "height": 542
        },
        "id": "7hvxKXRVouev",
        "outputId": "9ba4c70f-7007-4b95-eb08-800540098fc2"
      },
      "outputs": [
        {
          "output_type": "display_data",
          "data": {
            "text/html": [
              "<html>\n",
              "<head><meta charset=\"utf-8\" /></head>\n",
              "<body>\n",
              "    <div>            <script src=\"https://cdnjs.cloudflare.com/ajax/libs/mathjax/2.7.5/MathJax.js?config=TeX-AMS-MML_SVG\"></script><script type=\"text/javascript\">if (window.MathJax && window.MathJax.Hub && window.MathJax.Hub.Config) {window.MathJax.Hub.Config({SVG: {font: \"STIX-Web\"}});}</script>                <script type=\"text/javascript\">window.PlotlyConfig = {MathJaxConfig: 'local'};</script>\n",
              "        <script charset=\"utf-8\" src=\"https://cdn.plot.ly/plotly-2.24.1.min.js\"></script>                <div id=\"d86d11b1-708f-4841-891b-69b22c4d5b91\" class=\"plotly-graph-div\" style=\"height:525px; width:100%;\"></div>            <script type=\"text/javascript\">                                    window.PLOTLYENV=window.PLOTLYENV || {};                                    if (document.getElementById(\"d86d11b1-708f-4841-891b-69b22c4d5b91\")) {                    Plotly.newPlot(                        \"d86d11b1-708f-4841-891b-69b22c4d5b91\",                        [{\"x\":[\"White\",\"Black\",\"Indian\",\"Asian\",\"Hispanic\"],\"y\":[84,42,34,26,14],\"type\":\"bar\"}],                        {\"template\":{\"data\":{\"histogram2dcontour\":[{\"type\":\"histogram2dcontour\",\"colorbar\":{\"outlinewidth\":0,\"ticks\":\"\"},\"colorscale\":[[0.0,\"#0d0887\"],[0.1111111111111111,\"#46039f\"],[0.2222222222222222,\"#7201a8\"],[0.3333333333333333,\"#9c179e\"],[0.4444444444444444,\"#bd3786\"],[0.5555555555555556,\"#d8576b\"],[0.6666666666666666,\"#ed7953\"],[0.7777777777777778,\"#fb9f3a\"],[0.8888888888888888,\"#fdca26\"],[1.0,\"#f0f921\"]]}],\"choropleth\":[{\"type\":\"choropleth\",\"colorbar\":{\"outlinewidth\":0,\"ticks\":\"\"}}],\"histogram2d\":[{\"type\":\"histogram2d\",\"colorbar\":{\"outlinewidth\":0,\"ticks\":\"\"},\"colorscale\":[[0.0,\"#0d0887\"],[0.1111111111111111,\"#46039f\"],[0.2222222222222222,\"#7201a8\"],[0.3333333333333333,\"#9c179e\"],[0.4444444444444444,\"#bd3786\"],[0.5555555555555556,\"#d8576b\"],[0.6666666666666666,\"#ed7953\"],[0.7777777777777778,\"#fb9f3a\"],[0.8888888888888888,\"#fdca26\"],[1.0,\"#f0f921\"]]}],\"heatmap\":[{\"type\":\"heatmap\",\"colorbar\":{\"outlinewidth\":0,\"ticks\":\"\"},\"colorscale\":[[0.0,\"#0d0887\"],[0.1111111111111111,\"#46039f\"],[0.2222222222222222,\"#7201a8\"],[0.3333333333333333,\"#9c179e\"],[0.4444444444444444,\"#bd3786\"],[0.5555555555555556,\"#d8576b\"],[0.6666666666666666,\"#ed7953\"],[0.7777777777777778,\"#fb9f3a\"],[0.8888888888888888,\"#fdca26\"],[1.0,\"#f0f921\"]]}],\"heatmapgl\":[{\"type\":\"heatmapgl\",\"colorbar\":{\"outlinewidth\":0,\"ticks\":\"\"},\"colorscale\":[[0.0,\"#0d0887\"],[0.1111111111111111,\"#46039f\"],[0.2222222222222222,\"#7201a8\"],[0.3333333333333333,\"#9c179e\"],[0.4444444444444444,\"#bd3786\"],[0.5555555555555556,\"#d8576b\"],[0.6666666666666666,\"#ed7953\"],[0.7777777777777778,\"#fb9f3a\"],[0.8888888888888888,\"#fdca26\"],[1.0,\"#f0f921\"]]}],\"contourcarpet\":[{\"type\":\"contourcarpet\",\"colorbar\":{\"outlinewidth\":0,\"ticks\":\"\"}}],\"contour\":[{\"type\":\"contour\",\"colorbar\":{\"outlinewidth\":0,\"ticks\":\"\"},\"colorscale\":[[0.0,\"#0d0887\"],[0.1111111111111111,\"#46039f\"],[0.2222222222222222,\"#7201a8\"],[0.3333333333333333,\"#9c179e\"],[0.4444444444444444,\"#bd3786\"],[0.5555555555555556,\"#d8576b\"],[0.6666666666666666,\"#ed7953\"],[0.7777777777777778,\"#fb9f3a\"],[0.8888888888888888,\"#fdca26\"],[1.0,\"#f0f921\"]]}],\"surface\":[{\"type\":\"surface\",\"colorbar\":{\"outlinewidth\":0,\"ticks\":\"\"},\"colorscale\":[[0.0,\"#0d0887\"],[0.1111111111111111,\"#46039f\"],[0.2222222222222222,\"#7201a8\"],[0.3333333333333333,\"#9c179e\"],[0.4444444444444444,\"#bd3786\"],[0.5555555555555556,\"#d8576b\"],[0.6666666666666666,\"#ed7953\"],[0.7777777777777778,\"#fb9f3a\"],[0.8888888888888888,\"#fdca26\"],[1.0,\"#f0f921\"]]}],\"mesh3d\":[{\"type\":\"mesh3d\",\"colorbar\":{\"outlinewidth\":0,\"ticks\":\"\"}}],\"scatter\":[{\"fillpattern\":{\"fillmode\":\"overlay\",\"size\":10,\"solidity\":0.2},\"type\":\"scatter\"}],\"parcoords\":[{\"type\":\"parcoords\",\"line\":{\"colorbar\":{\"outlinewidth\":0,\"ticks\":\"\"}}}],\"scatterpolargl\":[{\"type\":\"scatterpolargl\",\"marker\":{\"colorbar\":{\"outlinewidth\":0,\"ticks\":\"\"}}}],\"bar\":[{\"error_x\":{\"color\":\"#2a3f5f\"},\"error_y\":{\"color\":\"#2a3f5f\"},\"marker\":{\"line\":{\"color\":\"#E5ECF6\",\"width\":0.5},\"pattern\":{\"fillmode\":\"overlay\",\"size\":10,\"solidity\":0.2}},\"type\":\"bar\"}],\"scattergeo\":[{\"type\":\"scattergeo\",\"marker\":{\"colorbar\":{\"outlinewidth\":0,\"ticks\":\"\"}}}],\"scatterpolar\":[{\"type\":\"scatterpolar\",\"marker\":{\"colorbar\":{\"outlinewidth\":0,\"ticks\":\"\"}}}],\"histogram\":[{\"marker\":{\"pattern\":{\"fillmode\":\"overlay\",\"size\":10,\"solidity\":0.2}},\"type\":\"histogram\"}],\"scattergl\":[{\"type\":\"scattergl\",\"marker\":{\"colorbar\":{\"outlinewidth\":0,\"ticks\":\"\"}}}],\"scatter3d\":[{\"type\":\"scatter3d\",\"line\":{\"colorbar\":{\"outlinewidth\":0,\"ticks\":\"\"}},\"marker\":{\"colorbar\":{\"outlinewidth\":0,\"ticks\":\"\"}}}],\"scattermapbox\":[{\"type\":\"scattermapbox\",\"marker\":{\"colorbar\":{\"outlinewidth\":0,\"ticks\":\"\"}}}],\"scatterternary\":[{\"type\":\"scatterternary\",\"marker\":{\"colorbar\":{\"outlinewidth\":0,\"ticks\":\"\"}}}],\"scattercarpet\":[{\"type\":\"scattercarpet\",\"marker\":{\"colorbar\":{\"outlinewidth\":0,\"ticks\":\"\"}}}],\"carpet\":[{\"aaxis\":{\"endlinecolor\":\"#2a3f5f\",\"gridcolor\":\"white\",\"linecolor\":\"white\",\"minorgridcolor\":\"white\",\"startlinecolor\":\"#2a3f5f\"},\"baxis\":{\"endlinecolor\":\"#2a3f5f\",\"gridcolor\":\"white\",\"linecolor\":\"white\",\"minorgridcolor\":\"white\",\"startlinecolor\":\"#2a3f5f\"},\"type\":\"carpet\"}],\"table\":[{\"cells\":{\"fill\":{\"color\":\"#EBF0F8\"},\"line\":{\"color\":\"white\"}},\"header\":{\"fill\":{\"color\":\"#C8D4E3\"},\"line\":{\"color\":\"white\"}},\"type\":\"table\"}],\"barpolar\":[{\"marker\":{\"line\":{\"color\":\"#E5ECF6\",\"width\":0.5},\"pattern\":{\"fillmode\":\"overlay\",\"size\":10,\"solidity\":0.2}},\"type\":\"barpolar\"}],\"pie\":[{\"automargin\":true,\"type\":\"pie\"}]},\"layout\":{\"autotypenumbers\":\"strict\",\"colorway\":[\"#636efa\",\"#EF553B\",\"#00cc96\",\"#ab63fa\",\"#FFA15A\",\"#19d3f3\",\"#FF6692\",\"#B6E880\",\"#FF97FF\",\"#FECB52\"],\"font\":{\"color\":\"#2a3f5f\"},\"hovermode\":\"closest\",\"hoverlabel\":{\"align\":\"left\"},\"paper_bgcolor\":\"white\",\"plot_bgcolor\":\"#E5ECF6\",\"polar\":{\"bgcolor\":\"#E5ECF6\",\"angularaxis\":{\"gridcolor\":\"white\",\"linecolor\":\"white\",\"ticks\":\"\"},\"radialaxis\":{\"gridcolor\":\"white\",\"linecolor\":\"white\",\"ticks\":\"\"}},\"ternary\":{\"bgcolor\":\"#E5ECF6\",\"aaxis\":{\"gridcolor\":\"white\",\"linecolor\":\"white\",\"ticks\":\"\"},\"baxis\":{\"gridcolor\":\"white\",\"linecolor\":\"white\",\"ticks\":\"\"},\"caxis\":{\"gridcolor\":\"white\",\"linecolor\":\"white\",\"ticks\":\"\"}},\"coloraxis\":{\"colorbar\":{\"outlinewidth\":0,\"ticks\":\"\"}},\"colorscale\":{\"sequential\":[[0.0,\"#0d0887\"],[0.1111111111111111,\"#46039f\"],[0.2222222222222222,\"#7201a8\"],[0.3333333333333333,\"#9c179e\"],[0.4444444444444444,\"#bd3786\"],[0.5555555555555556,\"#d8576b\"],[0.6666666666666666,\"#ed7953\"],[0.7777777777777778,\"#fb9f3a\"],[0.8888888888888888,\"#fdca26\"],[1.0,\"#f0f921\"]],\"sequentialminus\":[[0.0,\"#0d0887\"],[0.1111111111111111,\"#46039f\"],[0.2222222222222222,\"#7201a8\"],[0.3333333333333333,\"#9c179e\"],[0.4444444444444444,\"#bd3786\"],[0.5555555555555556,\"#d8576b\"],[0.6666666666666666,\"#ed7953\"],[0.7777777777777778,\"#fb9f3a\"],[0.8888888888888888,\"#fdca26\"],[1.0,\"#f0f921\"]],\"diverging\":[[0,\"#8e0152\"],[0.1,\"#c51b7d\"],[0.2,\"#de77ae\"],[0.3,\"#f1b6da\"],[0.4,\"#fde0ef\"],[0.5,\"#f7f7f7\"],[0.6,\"#e6f5d0\"],[0.7,\"#b8e186\"],[0.8,\"#7fbc41\"],[0.9,\"#4d9221\"],[1,\"#276419\"]]},\"xaxis\":{\"gridcolor\":\"white\",\"linecolor\":\"white\",\"ticks\":\"\",\"title\":{\"standoff\":15},\"zerolinecolor\":\"white\",\"automargin\":true,\"zerolinewidth\":2},\"yaxis\":{\"gridcolor\":\"white\",\"linecolor\":\"white\",\"ticks\":\"\",\"title\":{\"standoff\":15},\"zerolinecolor\":\"white\",\"automargin\":true,\"zerolinewidth\":2},\"scene\":{\"xaxis\":{\"backgroundcolor\":\"#E5ECF6\",\"gridcolor\":\"white\",\"linecolor\":\"white\",\"showbackground\":true,\"ticks\":\"\",\"zerolinecolor\":\"white\",\"gridwidth\":2},\"yaxis\":{\"backgroundcolor\":\"#E5ECF6\",\"gridcolor\":\"white\",\"linecolor\":\"white\",\"showbackground\":true,\"ticks\":\"\",\"zerolinecolor\":\"white\",\"gridwidth\":2},\"zaxis\":{\"backgroundcolor\":\"#E5ECF6\",\"gridcolor\":\"white\",\"linecolor\":\"white\",\"showbackground\":true,\"ticks\":\"\",\"zerolinecolor\":\"white\",\"gridwidth\":2}},\"shapedefaults\":{\"line\":{\"color\":\"#2a3f5f\"}},\"annotationdefaults\":{\"arrowcolor\":\"#2a3f5f\",\"arrowhead\":0,\"arrowwidth\":1},\"geo\":{\"bgcolor\":\"white\",\"landcolor\":\"#E5ECF6\",\"subunitcolor\":\"white\",\"showland\":true,\"showlakes\":true,\"lakecolor\":\"white\"},\"title\":{\"x\":0.05},\"mapbox\":{\"style\":\"light\"}}},\"title\":{\"text\":\"Count Plot Ethnicity\"},\"xaxis\":{\"title\":{\"text\":\"Ethnicity\"}},\"yaxis\":{\"title\":{\"text\":\"Count\"}}},                        {\"responsive\": true}                    ).then(function(){\n",
              "                            \n",
              "var gd = document.getElementById('d86d11b1-708f-4841-891b-69b22c4d5b91');\n",
              "var x = new MutationObserver(function (mutations, observer) {{\n",
              "        var display = window.getComputedStyle(gd).display;\n",
              "        if (!display || display === 'none') {{\n",
              "            console.log([gd, 'removed!']);\n",
              "            Plotly.purge(gd);\n",
              "            observer.disconnect();\n",
              "        }}\n",
              "}});\n",
              "\n",
              "// Listen for the removal of the full notebook cells\n",
              "var notebookContainer = gd.closest('#notebook-container');\n",
              "if (notebookContainer) {{\n",
              "    x.observe(notebookContainer, {childList: true});\n",
              "}}\n",
              "\n",
              "// Listen for the clearing of the current output cell\n",
              "var outputEl = gd.closest('.output');\n",
              "if (outputEl) {{\n",
              "    x.observe(outputEl, {childList: true});\n",
              "}}\n",
              "\n",
              "                        })                };                            </script>        </div>\n",
              "</body>\n",
              "</html>"
            ]
          },
          "metadata": {}
        }
      ],
      "source": [
        "fig = go.Figure([\n",
        "    go.Bar(x=[eth_values_to_labels[i] for i in df.ethnicity.value_counts().index],\n",
        "           y=df.ethnicity.value_counts().values)\n",
        "])\n",
        "fig.update_layout(\n",
        "    title_text='Count Plot Ethnicity',\n",
        "    xaxis_title='Ethnicity',\n",
        "    yaxis_title='Count'\n",
        ")\n",
        "fig.show()"
      ]
    },
    {
      "cell_type": "code",
      "execution_count": 32,
      "metadata": {
        "id": "XAS9tLu_of-B"
      },
      "outputs": [],
      "source": [
        "def plot_data(rows, cols, lower_value, upper_value):\n",
        "\n",
        "    figure = plt.figure(figsize=(cols*3,rows*4))\n",
        "    for i in range(1, cols*rows + 1):\n",
        "        k = np.random.randint(lower_value,upper_value)\n",
        "        figure.add_subplot(rows, cols, i) # adding sub plot\n",
        "\n",
        "        gender = gender_values_to_labels[df.gender[k]]\n",
        "        ethnicity = eth_values_to_labels[df.ethnicity[k]]\n",
        "        age = df.age[k]\n",
        "\n",
        "        im = df.pixels[k]\n",
        "        # im = np.reshape(im, (48,48))\n",
        "        plt.imshow(im, cmap='gray')\n",
        "        plt.axis('off')\n",
        "        plt.title(f'Gender:{gender}\\nAge:{age}\\nEthnicity:{ethnicity}')\n",
        "\n",
        "    plt.tight_layout()\n",
        "    plt.show()"
      ]
    },
    {
      "cell_type": "code",
      "execution_count": 33,
      "metadata": {
        "id": "2ejUn_24pfCJ"
      },
      "outputs": [],
      "source": [
        "from landmark_crop import FaceCropper\n",
        "device = \"cuda\" if torch.cuda.is_available() else \"cpu\"\n",
        "\n",
        "class dataset(Dataset):\n",
        "    def __init__(self, df, face_cropper):\n",
        "        self.df = df\n",
        "        self.normalize = transforms.Normalize(mean = [0.485,0.456,0.406,0.485,0.456,0.406],std = [0.229,0.224,0.225, 0.229,0.224,0.225])\n",
        "        self.face_cropper = face_cropper\n",
        "\n",
        "    def __len__(self):\n",
        "        return len(self.df)\n",
        "\n",
        "    def __getitem__(self, ix):\n",
        "        file = self.df.iloc[ix]\n",
        "        age = torch.tensor(file.age / 116)\n",
        "        gender = torch.tensor(file.gender).view(-1)\n",
        "        eth = torch.tensor(file.ethnicity)\n",
        "        im = file.pixels\n",
        "        im = np.array(Image.fromarray(im).convert(\"RGB\"))\n",
        "        # print(im.shape)\n",
        "\n",
        "        # Use the FaceCropper to crop faces before normalization\n",
        "        cropped_faces = self.face_cropper.crop_faces_and_concat(im, mask=False)\n",
        "        # print(cropped_faces.shape)\n",
        "\n",
        "        # Assuming you want to use the first cropped face (you can modify this as needed)\n",
        "        im = cropped_faces\n",
        "\n",
        "        # im = cv.resize(im, (224, 224))\n",
        "        # im = torch.tensor(im).permute(2, 1, 2)\n",
        "        # im = torch.tensor(im).permute(2,0,1)\n",
        "        im = self.normalize(im/255)\n",
        "\n",
        "\n",
        "        return im.float().to(device), age.to(device), gender.float().to(device), eth.to(device)"
      ]
    },
    {
      "cell_type": "code",
      "execution_count": 34,
      "metadata": {
        "colab": {
          "base_uri": "https://localhost:8080/"
        },
        "id": "msRFiAX2q6Zy",
        "outputId": "24942c93-ddf5-4bfb-ef5e-00a8029e6cf6"
      },
      "outputs": [
        {
          "output_type": "execute_result",
          "data": {
            "text/plain": [
              "age                                                         49\n",
              "ethnicity                                                    1\n",
              "gender                                                       1\n",
              "img_name                        20170113184406976.jpg.chip.jpg\n",
              "pixels       [[31.0, 32.0, 28.0, 27.0, 34.0, 38.0, 37.0, 40...\n",
              "Name: 17814, dtype: object"
            ]
          },
          "metadata": {},
          "execution_count": 34
        }
      ],
      "source": [
        "df.iloc[0]\n"
      ]
    },
    {
      "cell_type": "code",
      "execution_count": 42,
      "metadata": {
        "id": "a74f7mHRsvWz"
      },
      "outputs": [],
      "source": [
        "msk = np.random.randn(len(df)) < 0.8\n",
        "train = df[msk]\n",
        "test = df[~msk]"
      ]
    },
    {
      "cell_type": "code",
      "execution_count": 43,
      "metadata": {
        "id": "YWnSVVV4syF8"
      },
      "outputs": [],
      "source": [
        "train_new = dataset(train, FaceCropper())\n",
        "val_new = dataset(test, FaceCropper())\n",
        "train_loader = DataLoader(train_new,batch_size = 16,shuffle = True)\n",
        "val_loader = DataLoader(val_new,batch_size = 16)"
      ]
    },
    {
      "cell_type": "code",
      "execution_count": 44,
      "metadata": {
        "id": "Ve2z8ujxszcW"
      },
      "outputs": [],
      "source": [
        "im,a,b,c = next(iter(val_loader))"
      ]
    },
    {
      "cell_type": "code",
      "source": [
        "from mivolo.model.mi_volo import MiVOLO\n",
        "new_model = MiVOLO(\"/content/Masked_Age_Detection/models/new_mivolo.pth.tar\",\"cuda\")\n",
        "new_model = new_model.model_load()\n",
        "# Set the model to evaluation mode\n",
        "# new_model.eval()"
      ],
      "metadata": {
        "id": "klFEyAFA6J2L"
      },
      "execution_count": 48,
      "outputs": []
    },
    {
      "cell_type": "code",
      "execution_count": 46,
      "metadata": {
        "id": "qYhBiS1Z0z5n"
      },
      "outputs": [],
      "source": [
        "optimizer = torch.optim.Adam(new_model.parameters(), lr = 1e-4)\n",
        "age_criterion = nn.MSELoss().to(device, dtype = torch.float16)  # Update to mean squared error for age loss\n",
        "gender_criterion = nn.BCEWithLogitsLoss().to(device, dtype = torch.float16)  # Update to binary cross-entropy for gender loss"
      ]
    },
    {
      "cell_type": "code",
      "execution_count": null,
      "metadata": {
        "id": "0Hstvn1A1KQR",
        "colab": {
          "base_uri": "https://localhost:8080/"
        },
        "outputId": "ab87a555-8d89-401f-b1e9-759dd2aee248"
      },
      "outputs": [
        {
          "output_type": "stream",
          "name": "stderr",
          "text": [
            "\rEpoch 1/5 Train:   0%|          | 0/10 [00:00<?, ?it/s]"
          ]
        },
        {
          "output_type": "stream",
          "name": "stdout",
          "text": [
            "============\n",
            "tensor([-0.1429, -0.1577, -0.1649, -0.1564, -0.1329, -0.1626, -0.1626, -0.1526, -0.0447, -0.1388, -0.1439, -0.1400, -0.1888, -0.1459, -0.1289, -0.1505], device='cuda:0', dtype=torch.float16, grad_fn=<SelectBackward0>)\n",
            "tensor([0.2241, 0.3018, 0.3794, 0.0086, 0.2069, 0.2673, 0.3018, 0.0172, 0.4053, 0.3621, 0.2500, 0.5605, 0.1724, 0.2156, 0.5864, 0.0086], device='cuda:0', dtype=torch.float16)\n",
            "============\n"
          ]
        },
        {
          "output_type": "stream",
          "name": "stderr",
          "text": [
            "Epoch 1/5 Train:  20%|██        | 2/10 [00:01<00:07,  1.06it/s]"
          ]
        },
        {
          "output_type": "stream",
          "name": "stdout",
          "text": [
            "============\n",
            "tensor([-0.1514, -0.1721, -0.1395, -0.0967, -0.1475, -0.1577, -0.1547, -0.1588, -0.1637, -0.1583, -0.1580, -0.1597, -0.1294, -0.1349, -0.1332, -0.1608], device='cuda:0', dtype=torch.float16, grad_fn=<SelectBackward0>)\n",
            "tensor([0.0690, 0.2328, 0.1897, 0.2585, 0.4741, 0.2500, 0.3362, 0.2673, 0.1207, 0.2932, 0.0690, 0.3103, 0.3103, 0.2069, 0.4741, 0.2413], device='cuda:0', dtype=torch.float16)\n",
            "============\n"
          ]
        },
        {
          "output_type": "stream",
          "name": "stderr",
          "text": [
            "\rEpoch 1/5 Train:  30%|███       | 3/10 [00:03<00:07,  1.03s/it]"
          ]
        },
        {
          "output_type": "stream",
          "name": "stdout",
          "text": [
            "============\n",
            "tensor([-0.1517, -0.1486, -0.1426, -0.1389, -0.1481, -0.1321, -0.1599, -0.1442, -0.1466, -0.1320, -0.1484, -0.1501, -0.2515, -0.0865, -0.1432, -0.0915], device='cuda:0', dtype=torch.float16, grad_fn=<SelectBackward0>)\n",
            "tensor([0.7329, 0.2156, 0.0259, 0.5518, 0.2241, 0.2241, 0.2413, 0.0086, 0.3362, 0.7070, 0.4827, 0.2932, 0.1982, 0.1810, 0.6035, 0.3018], device='cuda:0', dtype=torch.float16)\n",
            "============\n"
          ]
        },
        {
          "output_type": "stream",
          "name": "stderr",
          "text": [
            "\rEpoch 1/5 Train:  40%|████      | 4/10 [00:04<00:06,  1.11s/it]"
          ]
        },
        {
          "output_type": "stream",
          "name": "stdout",
          "text": [
            "============\n",
            "tensor([-0.1219, -0.1505, -0.1543, -0.1261, -0.1580, -0.1447, -0.1348, -0.1807, -0.1520, -0.1620, -0.1552, -0.1431, -0.1450, -0.1521, -0.1567, -0.1461], device='cuda:0', dtype=torch.float16, grad_fn=<SelectBackward0>)\n",
            "tensor([0.3706, 0.5259, 0.0259, 0.2673, 0.3018, 0.5347, 0.0776, 0.0776, 0.0345, 0.2500, 0.4312, 0.2069, 0.5864, 0.5171, 0.2241, 0.4397], device='cuda:0', dtype=torch.float16)\n",
            "============\n"
          ]
        },
        {
          "output_type": "stream",
          "name": "stderr",
          "text": [
            "\rEpoch 1/5 Train:  50%|█████     | 5/10 [00:05<00:05,  1.16s/it]"
          ]
        },
        {
          "output_type": "stream",
          "name": "stdout",
          "text": [
            "============\n",
            "tensor([-0.1016, -0.1486, -0.1570, -0.1383, -0.1072, -0.1660, -0.1344, -0.1422, -0.1552, -0.1489, -0.1482, -0.1714, -0.1333, -0.1437, -0.1536, -0.1433], device='cuda:0', dtype=torch.float16, grad_fn=<SelectBackward0>)\n",
            "tensor([0.2932, 0.2156, 0.4741, 0.4656, 0.5000, 0.0345, 0.5518, 0.4312, 0.4741, 0.1982, 0.2673, 0.1982, 0.5864, 0.5776, 0.3018, 0.0086], device='cuda:0', dtype=torch.float16)\n",
            "============\n"
          ]
        },
        {
          "output_type": "stream",
          "name": "stderr",
          "text": [
            "\rEpoch 1/5 Train:  60%|██████    | 6/10 [00:06<00:04,  1.08s/it]"
          ]
        },
        {
          "output_type": "stream",
          "name": "stdout",
          "text": [
            "============\n",
            "tensor([-0.1584, -0.1593, -0.1533, -0.1277, -0.1586, -0.1492, -0.1456, -0.1709, -0.1372, -0.1487, -0.1271, -0.1736, -0.1578, -0.1331, -0.1355, -0.1660], device='cuda:0', dtype=torch.float16, grad_fn=<SelectBackward0>)\n",
            "tensor([0.2241, 0.2156, 0.1207, 0.5347, 0.0259, 0.0086, 0.0086, 0.2156, 0.2156, 0.2413, 0.1724, 0.2241, 0.2069, 0.1466, 0.2241, 0.3879], device='cuda:0', dtype=torch.float16)\n",
            "============\n"
          ]
        },
        {
          "output_type": "stream",
          "name": "stderr",
          "text": [
            "\rEpoch 1/5 Train:  70%|███████   | 7/10 [00:07<00:03,  1.03s/it]"
          ]
        },
        {
          "output_type": "stream",
          "name": "stdout",
          "text": [
            "============\n",
            "tensor([-0.1404, -0.1242, -0.1323, -0.1185, -0.2242, -0.1525, -0.1414, -0.0791, -0.1525, -0.1427, -0.1459, -0.1458, -0.1464, -0.1377, -0.1393, -0.1566], device='cuda:0', dtype=torch.float16, grad_fn=<SelectBackward0>)\n",
            "tensor([0.2759, 0.2241, 0.0086, 0.3535, 0.2328, 0.2328, 0.2069, 0.3447, 0.2932, 0.4741, 0.2500, 0.5259, 0.2069, 0.2500, 0.4656, 0.3103], device='cuda:0', dtype=torch.float16)\n",
            "============\n"
          ]
        },
        {
          "output_type": "stream",
          "name": "stderr",
          "text": [
            "\rEpoch 1/5 Train:  80%|████████  | 8/10 [00:08<00:01,  1.02it/s]"
          ]
        },
        {
          "output_type": "stream",
          "name": "stdout",
          "text": [
            "============\n",
            "tensor([-0.1664, -0.1581, -0.1449, -0.1427, -0.1381, -0.1611, -0.1465, -0.1509, -0.1263, -0.1552, -0.1617, -0.1110, -0.1567, -0.1786, -0.1440, -0.1433], device='cuda:0', dtype=torch.float16, grad_fn=<SelectBackward0>)\n",
            "tensor([0.1552, 0.1982, 0.4656, 0.2759, 0.0776, 0.6724, 0.5605, 0.4656, 0.0172, 0.2328, 0.0259, 0.1552, 0.4312, 0.5605, 0.0431, 0.2844], device='cuda:0', dtype=torch.float16)\n",
            "============\n"
          ]
        },
        {
          "output_type": "stream",
          "name": "stderr",
          "text": [
            "\rEpoch 1/5 Train:  90%|█████████ | 9/10 [00:09<00:00,  1.05it/s]"
          ]
        },
        {
          "output_type": "stream",
          "name": "stdout",
          "text": [
            "============\n",
            "tensor([-0.1376, -0.1299, -0.1628, -0.1354, -0.1415, -0.1470, -0.1451, -0.1292, -0.1483, -0.1555, -0.1578, -0.1774, -0.1361, -0.1559, -0.1384, -0.1575], device='cuda:0', dtype=torch.float16, grad_fn=<SelectBackward0>)\n",
            "tensor([0.3103, 0.7588, 0.2241, 0.2673, 0.0690, 0.3103, 0.1810, 0.4312, 0.2156, 0.2156, 0.7329, 0.2328, 0.3018, 0.1897, 0.5259, 0.3362], device='cuda:0', dtype=torch.float16)\n",
            "============\n"
          ]
        },
        {
          "output_type": "stream",
          "name": "stderr",
          "text": [
            "Epoch 1/5 Train: 100%|██████████| 10/10 [00:09<00:00,  1.01it/s]\n"
          ]
        },
        {
          "output_type": "stream",
          "name": "stdout",
          "text": [
            "============\n",
            "tensor([-0.1401, -0.1490, -0.0899, -0.1470, -0.1647, -0.1536, -0.1519, -0.2169, -0.1107, -0.1520, -0.1084, -0.1614, -0.1445], device='cuda:0', dtype=torch.float16, grad_fn=<SelectBackward0>)\n",
            "tensor([0.3018, 0.2328, 0.4138, 0.3018, 0.0086, 0.2241, 0.3018, 0.1810, 0.0086, 0.3879, 0.1293, 0.3018, 0.1724], device='cuda:0', dtype=torch.float16)\n",
            "============\n"
          ]
        },
        {
          "output_type": "stream",
          "name": "stderr",
          "text": [
            "Epoch 1/5 Validation:  33%|███▎      | 1/3 [00:00<00:01,  1.18it/s]"
          ]
        },
        {
          "output_type": "stream",
          "name": "stdout",
          "text": [
            "============\n",
            "tensor([-0.1127, -0.1230, -0.1188, -0.1021, -0.1158, -0.1132, -0.0797, -0.1088, -0.1165, -0.1154, -0.1115, -0.1085, -0.1160, -0.0982, -0.1066, -0.0936], device='cuda:0', dtype=torch.float16)\n",
            "tensor([0.4224, 0.3447, 0.4656, 0.3103, 0.5347, 0.2585, 0.5947, 0.3103, 0.0690, 0.4482, 0.5605, 0.3362, 0.2413, 0.2241, 0.3103, 0.2500], device='cuda:0', dtype=torch.float16)\n",
            "============\n"
          ]
        },
        {
          "output_type": "stream",
          "name": "stderr",
          "text": [
            "\rEpoch 1/5 Validation:  67%|██████▋   | 2/3 [00:01<00:00,  1.21it/s]"
          ]
        },
        {
          "output_type": "stream",
          "name": "stdout",
          "text": [
            "============\n",
            "tensor([-0.1187, -0.1234, -0.1191, -0.1162, -0.1153, -0.1181, -0.1138, -0.0982, -0.1122, -0.1130, -0.1284, -0.1343, -0.1153, -0.1180, -0.1130, -0.1129], device='cuda:0', dtype=torch.float16)\n",
            "tensor([0.0862, 0.2241, 0.4741, 0.0431, 0.3794, 0.2585, 0.1466, 0.1897, 0.3706, 0.0172, 0.0345, 0.2069, 0.2241, 0.2069, 0.4915, 0.0259], device='cuda:0', dtype=torch.float16)\n",
            "============\n"
          ]
        },
        {
          "output_type": "stream",
          "name": "stderr",
          "text": [
            "Epoch 1/5 Validation: 100%|██████████| 3/3 [00:02<00:00,  1.34it/s]\n"
          ]
        },
        {
          "output_type": "stream",
          "name": "stdout",
          "text": [
            "============\n",
            "tensor([-0.1073, -0.1007, -0.1162, -0.1339, -0.1047, -0.1132, -0.1158, -0.0889, -0.1362, -0.1041, -0.1117], device='cuda:0', dtype=torch.float16)\n",
            "tensor([0.5088, 0.7329, 0.2241, 0.2241, 0.6377, 0.7329, 0.2585, 0.5605, 0.2673, 0.5518, 0.1982], device='cuda:0', dtype=torch.float16)\n",
            "============\n",
            "1/5 (12.13s - 60.66s remaining)\n",
            "Epoch: 1 \tTrain Loss: 0.944 \tVal Loss: 0.931 \tBest Val Loss: 0.9307%\t Age MAE: 0.44\n"
          ]
        },
        {
          "output_type": "stream",
          "name": "stderr",
          "text": [
            "\rEpoch 2/5 Train:   0%|          | 0/10 [00:00<?, ?it/s]"
          ]
        },
        {
          "output_type": "stream",
          "name": "stdout",
          "text": [
            "============\n",
            "tensor([-0.1455, -0.1597, -0.1256, -0.2177, -0.1370, -0.1573, -0.2556, -0.1581, -0.1377, -0.1356, -0.1367, -0.1919, -0.1473, -0.1350, -0.1705, -0.1560], device='cuda:0', dtype=torch.float16, grad_fn=<SelectBackward0>)\n",
            "tensor([0.5605, 0.3018, 0.2673, 0.2328, 0.1897, 0.4741, 0.1982, 0.2932, 0.2500, 0.0776, 0.2156, 0.1724, 0.2241, 0.2069, 0.2241, 0.4741], device='cuda:0', dtype=torch.float16)\n",
            "============\n"
          ]
        },
        {
          "output_type": "stream",
          "name": "stderr",
          "text": [
            "Epoch 2/5 Train:  20%|██        | 2/10 [00:01<00:07,  1.05it/s]"
          ]
        },
        {
          "output_type": "stream",
          "name": "stdout",
          "text": [
            "============\n",
            "tensor([-0.1440, -0.1450, -0.1456, -0.1588, -0.1528, -0.1572, -0.1305, -0.1665, -0.1116, -0.1425, -0.1451, -0.1625, -0.2186, -0.1317, -0.1453, -0.1422], device='cuda:0', dtype=torch.float16, grad_fn=<SelectBackward0>)\n",
            "tensor([0.4741, 0.1724, 0.2069, 0.2413, 0.3018, 0.2500, 0.7588, 0.1552, 0.0086, 0.4312, 0.0086, 0.3018, 0.1810, 0.4741, 0.0690, 0.4656], device='cuda:0', dtype=torch.float16)\n",
            "============\n"
          ]
        },
        {
          "output_type": "stream",
          "name": "stderr",
          "text": [
            "\rEpoch 2/5 Train:  30%|███       | 3/10 [00:02<00:06,  1.10it/s]"
          ]
        },
        {
          "output_type": "stream",
          "name": "stdout",
          "text": [
            "============\n",
            "tensor([-0.1415, -0.1335, -0.1488, -0.1144, -0.1471, -0.1565, -0.1544, -0.1294, -0.1531, -0.1427, -0.1340, -0.1656, -0.1538, -0.1573, -0.1782, -0.1479], device='cuda:0', dtype=torch.float16, grad_fn=<SelectBackward0>)\n",
            "tensor([0.2069, 0.2241, 0.3879, 0.3706, 0.3103, 0.0086, 0.2932, 0.5864, 0.0172, 0.2844, 0.0086, 0.3794, 0.2241, 0.3362, 0.0776, 0.0690], device='cuda:0', dtype=torch.float16)\n",
            "============\n"
          ]
        },
        {
          "output_type": "stream",
          "name": "stderr",
          "text": [
            "\rEpoch 2/5 Train:  40%|████      | 4/10 [00:03<00:05,  1.04it/s]"
          ]
        },
        {
          "output_type": "stream",
          "name": "stdout",
          "text": [
            "============\n",
            "tensor([-0.1575, -0.0858, -0.1626, -0.1642, -0.1516, -0.1697, -0.1355, -0.1460, -0.1440, -0.1414, -0.1439, -0.1301, -0.1489, -0.1351, -0.1395, -0.1562], device='cuda:0', dtype=torch.float16, grad_fn=<SelectBackward0>)\n",
            "tensor([0.2156, 0.4138, 0.6724, 0.0259, 0.2328, 0.0345, 0.2241, 0.5259, 0.2241, 0.0259, 0.1810, 0.4312, 0.4827, 0.2673, 0.3018, 0.2069], device='cuda:0', dtype=torch.float16)\n",
            "============\n"
          ]
        },
        {
          "output_type": "stream",
          "name": "stderr",
          "text": [
            "\rEpoch 2/5 Train:  50%|█████     | 5/10 [00:05<00:05,  1.08s/it]"
          ]
        },
        {
          "output_type": "stream",
          "name": "stdout",
          "text": [
            "============\n",
            "tensor([-0.1064, -0.1528, -0.1185, -0.1343, -0.1511, -0.1658, -0.1580, -0.0770, -0.1798, -0.0961, -0.1477, -0.1575, -0.1802, -0.1406, -0.1658, -0.1461], device='cuda:0', dtype=torch.float16, grad_fn=<SelectBackward0>)\n",
            "tensor([0.2932, 0.0259, 0.1293, 0.2069, 0.5259, 0.3879, 0.2673, 0.3447, 0.2328, 0.2585, 0.3362, 0.3103, 0.0086, 0.2759, 0.2328, 0.2156], device='cuda:0', dtype=torch.float16)\n",
            "============\n"
          ]
        },
        {
          "output_type": "stream",
          "name": "stderr",
          "text": [
            "\rEpoch 2/5 Train:  60%|██████    | 6/10 [00:06<00:04,  1.14s/it]"
          ]
        },
        {
          "output_type": "stream",
          "name": "stdout",
          "text": [
            "============\n",
            "tensor([-0.1621, -0.1532, -0.1577, -0.1348, -0.1482, -0.1289, -0.1572, -0.1272, -0.1412, -0.1387, -0.1438, -0.1344, -0.1578, -0.1538, -0.1500, -0.1274], device='cuda:0', dtype=torch.float16, grad_fn=<SelectBackward0>)\n",
            "tensor([0.2500, 0.1207, 0.3018, 0.5864, 0.2328, 0.3103, 0.3362, 0.2241, 0.2069, 0.3621, 0.6035, 0.5518, 0.3103, 0.0086, 0.2932, 0.0172], device='cuda:0', dtype=torch.float16)\n",
            "============\n"
          ]
        },
        {
          "output_type": "stream",
          "name": "stderr",
          "text": [
            "\rEpoch 2/5 Train:  70%|███████   | 7/10 [00:07<00:03,  1.07s/it]"
          ]
        },
        {
          "output_type": "stream",
          "name": "stdout",
          "text": [
            "============\n",
            "tensor([-0.1562, -0.1351, -0.1526, -0.1707, -0.1459, -0.1096, -0.1636, -0.1448, -0.1368, -0.1486, -0.1490, -0.1554, -0.1433, -0.1442, -0.1559, -0.1499], device='cuda:0', dtype=torch.float16, grad_fn=<SelectBackward0>)\n",
            "tensor([0.4312, 0.0776, 0.0345, 0.2156, 0.4741, 0.1552, 0.2673, 0.5347, 0.4656, 0.2156, 0.1982, 0.2156, 0.2413, 0.2500, 0.2241, 0.7329], device='cuda:0', dtype=torch.float16)\n",
            "============\n"
          ]
        },
        {
          "output_type": "stream",
          "name": "stderr",
          "text": [
            "\rEpoch 2/5 Train:  80%|████████  | 8/10 [00:08<00:02,  1.01s/it]"
          ]
        },
        {
          "output_type": "stream",
          "name": "stdout",
          "text": [
            "============\n",
            "tensor([-0.1388, -0.1510, -0.1206, -0.1581, -0.1575, -0.0891, -0.1707, -0.1484, -0.1615, -0.1444, -0.1311, -0.1449, -0.1422, -0.1443, -0.1271, -0.1442], device='cuda:0', dtype=torch.float16, grad_fn=<SelectBackward0>)\n",
            "tensor([0.3103, 0.4656, 0.3535, 0.7329, 0.1897, 0.3018, 0.2328, 0.2673, 0.2241, 0.5864, 0.7070, 0.0431, 0.0086, 0.0086, 0.5347, 0.5776], device='cuda:0', dtype=torch.float16)\n",
            "============\n"
          ]
        },
        {
          "output_type": "stream",
          "name": "stderr",
          "text": [
            "\rEpoch 2/5 Train:  90%|█████████ | 9/10 [00:09<00:00,  1.02it/s]"
          ]
        },
        {
          "output_type": "stream",
          "name": "stdout",
          "text": [
            "============\n",
            "tensor([-0.1477, -0.1487, -0.1550, -0.1398, -0.1010, -0.1378, -0.1437, -0.1743, -0.1670, -0.0874, -0.1547, -0.1361, -0.1370, -0.1460, -0.1420, -0.1456], device='cuda:0', dtype=torch.float16, grad_fn=<SelectBackward0>)\n",
            "tensor([0.2156, 0.0086, 0.2241, 0.5605, 0.5000, 0.5518, 0.2759, 0.1982, 0.2413, 0.1810, 0.4312, 0.3018, 0.5259, 0.2500, 0.0690, 0.4397], device='cuda:0', dtype=torch.float16)\n",
            "============\n"
          ]
        },
        {
          "output_type": "stream",
          "name": "stderr",
          "text": [
            "Epoch 2/5 Train: 100%|██████████| 10/10 [00:09<00:00,  1.02it/s]\n"
          ]
        },
        {
          "output_type": "stream",
          "name": "stdout",
          "text": [
            "============\n",
            "tensor([-0.1617, -0.1393, -0.1576, -0.1567, -0.1636, -0.1530, -0.1544, -0.1328, -0.1775, -0.1486, -0.1591, -0.0458, -0.1260], device='cuda:0', dtype=torch.float16, grad_fn=<SelectBackward0>)\n",
            "tensor([0.1207, 0.4656, 0.2156, 0.1982, 0.3018, 0.5171, 0.3018, 0.1466, 0.5605, 0.3018, 0.0259, 0.4053, 0.1724], device='cuda:0', dtype=torch.float16)\n",
            "============\n"
          ]
        },
        {
          "output_type": "stream",
          "name": "stderr",
          "text": [
            "Epoch 2/5 Validation:  33%|███▎      | 1/3 [00:00<00:01,  1.20it/s]"
          ]
        },
        {
          "output_type": "stream",
          "name": "stdout",
          "text": [
            "============\n",
            "tensor([-0.1118, -0.1233, -0.1210, -0.1054, -0.1162, -0.1101, -0.0887, -0.1177, -0.1182, -0.1171, -0.1198, -0.1106, -0.1219, -0.1029, -0.1119, -0.0921], device='cuda:0', dtype=torch.float16)\n",
            "tensor([0.4224, 0.3447, 0.4656, 0.3103, 0.5347, 0.2585, 0.5947, 0.3103, 0.0690, 0.4482, 0.5605, 0.3362, 0.2413, 0.2241, 0.3103, 0.2500], device='cuda:0', dtype=torch.float16)\n",
            "============\n"
          ]
        },
        {
          "output_type": "stream",
          "name": "stderr",
          "text": [
            "\rEpoch 2/5 Validation:  67%|██████▋   | 2/3 [00:01<00:00,  1.22it/s]"
          ]
        },
        {
          "output_type": "stream",
          "name": "stdout",
          "text": [
            "============\n",
            "tensor([-0.1256, -0.1191, -0.1122, -0.1221, -0.1199, -0.1215, -0.1156, -0.0782, -0.1153, -0.1154, -0.1353, -0.1382, -0.1147, -0.1213, -0.1148, -0.1180], device='cuda:0', dtype=torch.float16)\n",
            "tensor([0.0862, 0.2241, 0.4741, 0.0431, 0.3794, 0.2585, 0.1466, 0.1897, 0.3706, 0.0172, 0.0345, 0.2069, 0.2241, 0.2069, 0.4915, 0.0259], device='cuda:0', dtype=torch.float16)\n",
            "============\n"
          ]
        },
        {
          "output_type": "stream",
          "name": "stderr",
          "text": [
            "Epoch 2/5 Validation: 100%|██████████| 3/3 [00:02<00:00,  1.36it/s]\n"
          ]
        },
        {
          "output_type": "stream",
          "name": "stdout",
          "text": [
            "============\n",
            "tensor([-0.1102, -0.1049, -0.1224, -0.1294, -0.1206, -0.1155, -0.1108, -0.1001, -0.1335, -0.1125, -0.1163], device='cuda:0', dtype=torch.float16)\n",
            "tensor([0.5088, 0.7329, 0.2241, 0.2241, 0.6377, 0.7329, 0.2585, 0.5605, 0.2673, 0.5518, 0.1982], device='cuda:0', dtype=torch.float16)\n",
            "============\n",
            "2/5 (24.20s - 48.39s remaining)\n",
            "Epoch: 2 \tTrain Loss: 0.935 \tVal Loss: 0.918 \tBest Val Loss: 0.9178%\t Age MAE: 0.44\n"
          ]
        },
        {
          "output_type": "stream",
          "name": "stderr",
          "text": [
            "Epoch 3/5 Train:  10%|█         | 1/10 [00:00<00:08,  1.01it/s]"
          ]
        },
        {
          "output_type": "stream",
          "name": "stdout",
          "text": [
            "============\n",
            "tensor([-0.1538, -0.1530, -0.1456, -0.1486, -0.1527, -0.1500, -0.1467, -0.1561, -0.1714, -0.1387, -0.0989, -0.1503, -0.1558, -0.1368, -0.1516, -0.1627], device='cuda:0', dtype=torch.float16, grad_fn=<SelectBackward0>)\n",
            "tensor([0.2241, 0.2500, 0.4397, 0.2328, 0.0345, 0.4656, 0.2069, 0.2932, 0.2328, 0.1810, 0.5000, 0.2932, 0.2156, 0.3621, 0.4827, 0.2500], device='cuda:0', dtype=torch.float16)\n",
            "============\n"
          ]
        },
        {
          "output_type": "stream",
          "name": "stderr",
          "text": [
            "\rEpoch 3/5 Train:  20%|██        | 2/10 [00:01<00:07,  1.05it/s]"
          ]
        },
        {
          "output_type": "stream",
          "name": "stdout",
          "text": [
            "============\n",
            "tensor([-0.1576, -0.1436, -0.1558, -0.1116, -0.1461, -0.1361, -0.1755, -0.1465, -0.1383, -0.0431, -0.1572, -0.1425, -0.1569, -0.0791, -0.1554, -0.1584], device='cuda:0', dtype=torch.float16, grad_fn=<SelectBackward0>)\n",
            "tensor([0.7329, 0.4741, 0.3018, 0.1293, 0.5259, 0.0776, 0.2328, 0.4741, 0.5605, 0.4053, 0.3103, 0.4312, 0.2500, 0.3447, 0.4741, 0.2673], device='cuda:0', dtype=torch.float16)\n",
            "============\n"
          ]
        },
        {
          "output_type": "stream",
          "name": "stderr",
          "text": [
            "\rEpoch 3/5 Train:  30%|███       | 3/10 [00:02<00:06,  1.08it/s]"
          ]
        }
      ],
      "source": [
        "import time\n",
        "from tqdm import tqdm\n",
        "import torch\n",
        "\n",
        "n_epochs = 5\n",
        "val_age_maes = []\n",
        "train_losses = []\n",
        "val_losses = []\n",
        "best_val_loss = float('inf')  # initialize with positive infinity\n",
        "start = time.time()\n",
        "\n",
        "for epoch in range(n_epochs):\n",
        "    epoch_train_loss, epoch_val_loss = 0, 0\n",
        "    val_age_mae, ctr = 0, 0\n",
        "\n",
        "    for loader, is_train in [(train_loader, True), (val_loader, False)]:\n",
        "        new_model.train() if is_train else new_model.eval()\n",
        "\n",
        "        for data in tqdm(loader, desc=f\"Epoch {epoch + 1}/{n_epochs} {'Train' if is_train else 'Validation'}\"):\n",
        "            im, age, gen, eth = data\n",
        "\n",
        "            im, age, gen, _ = im.to(device, dtype = torch.float16), age.to(device, dtype = torch.float16), gen.to(device,dtype = torch.float16), eth.to(device,dtype = torch.float16)\n",
        "\n",
        "\n",
        "            with torch.set_grad_enabled(is_train):\n",
        "                kept = new_model(im)\n",
        "                # print(\"kept: \", kept)\n",
        "                # print(\"kept: \", kept.shape)\n",
        "                # print(\"kept: \", kept.dtype)\n",
        "                pred_age = kept[:, 2]\n",
        "                pred_gen = kept[:, :2]\n",
        "                gender_probs, gender_indx = pred_gen.topk(1)\n",
        "\n",
        "                print(\"============\")\n",
        "                print(pred_age)\n",
        "                print(age)\n",
        "                print(\"============\")\n",
        "\n",
        "                age_loss = age_criterion(pred_age.to(device, dtype = torch.float16), age)\n",
        "                # print(\"age_loss: \", age_loss)\n",
        "                gen_loss = gender_criterion(gender_indx.float(), gen.view(-1, 1))\n",
        "                # print(\"gen_loss: \", gen_loss)\n",
        "                total_loss = age_loss + gen_loss\n",
        "\n",
        "\n",
        "                if is_train:\n",
        "                    optimizer.zero_grad()\n",
        "                    total_loss = total_loss  # Cast to the desired dtype\n",
        "                    total_loss.backward()\n",
        "                    optimizer.step()\n",
        "                    epoch_train_loss += total_loss.item()\n",
        "                else:\n",
        "                    pred_gender = (gender_indx > 0.5).float()  # Use gender_probs for thresholding\n",
        "                    gender_acc = (pred_gender == gen).float()\n",
        "                    age_mae = torch.abs(age - pred_age).float().sum()\n",
        "                    val_age_mae += age_mae\n",
        "                    epoch_val_loss += total_loss.item()\n",
        "                    ctr += len(data[0])\n",
        "\n",
        "    val_age_mae /= ctr\n",
        "    epoch_train_loss /= len(train_loader)\n",
        "    epoch_val_loss /= len(val_loader)\n",
        "    elapsed = time.time() - start\n",
        "    best_val_loss = min(best_val_loss, epoch_val_loss)\n",
        "\n",
        "    print(f'{epoch + 1}/{n_epochs} ({elapsed:.2f}s - {(n_epochs - epoch) * (elapsed / (epoch + 1)):.2f}s remaining)')\n",
        "    info = f'''Epoch: {epoch + 1} \\tTrain Loss: {epoch_train_loss:.3f} \\tVal Loss: {epoch_val_loss:.3f} \\tBest Val Loss: {best_val_loss:.4f}'''\n",
        "    info += f'%\\t Age MAE: {val_age_mae:.2f}'  # Fix the print statement\n",
        "    print(info)\n",
        "\n",
        "    train_losses.append(epoch_train_loss)\n",
        "    val_losses.append(epoch_val_loss)\n",
        "    val_age_maes.append(val_age_mae)\n"
      ]
    }
  ],
  "metadata": {
    "colab": {
      "gpuType": "T4",
      "provenance": []
    },
    "kernelspec": {
      "display_name": "Python 3",
      "name": "python3"
    },
    "language_info": {
      "name": "python"
    },
    "accelerator": "GPU"
  },
  "nbformat": 4,
  "nbformat_minor": 0
}